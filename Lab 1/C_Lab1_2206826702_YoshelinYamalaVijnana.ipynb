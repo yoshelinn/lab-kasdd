{
 "cells": [
  {
   "cell_type": "markdown",
   "metadata": {
    "id": "G9y9Dgku0w-K"
   },
   "source": [
    "<center>\n",
    "<img src=\"https://drive.google.com/uc?id=1f1gGVI-rxcHjA90WEGNvvtSXF1pAxQwg\" alt=\"Fasilkom UI\" width=\"300\"/>\n",
    "\n",
    "CSGE603130 • Kecerdasan Artifisial dan Sains Data Dasar\n",
    "\n",
    "Semester Genap 2024/2025\n",
    "\n",
    "Fakultas Ilmu Komputer, Universitas Indonesia\n",
    "\n",
    "##**Lab 1: *Pengenalan Pandas dan NumPy***\n",
    "\n",
    "###**Tenggat Waktu: 09 Februari 2025 23.55 WIB**\n",
    "</center>\n",
    "\n",
    "### **Ketentuan:**\n",
    "\n",
    "1. Dokumen template lab dengan format .ipynb dan dataset (jika dibutuhkan) telah disediakan di SCeLe\n",
    "2. Jalankan kode pada dokumen .ipynb dan perhatikan dengan saksama apa yang potongan kode tersebut lakukan beserta dengan keluarannya. Jawablah **pertanyaan** yang disisipkan pada potongan program yang diberikan.\n",
    "3. Dokumen Jupyter Notebook yang telah dilengkapi dengan jawaban dikumpulkan dengan format penamaan **Kelas_LabX_NPM_Nama.ipynb** . Contoh: A_Lab1_1806205773_Abdurrafi Arief.ipynb. Kesalahan dalam pengumpulan nama akan dikenakan pinalti sebesar 5 poin.\n",
    "4. Kumpulkan dokumen tersebut pada submisi yang telah disediakan di SCeLe sesuai dengan kelas masing-masing sebelum **Tenggat Waktu: 09 Februari 2025, 23.55 WIB**.\n",
    "5. Keterlambatan pengumpulan akan dikenakan pinalti sebesar 5 poin per jam (pembulatan ke atas). Dengan cut off 1 hari.\n",
    "6. Lab ini dirancang sebagai **tugas mandiri**. Plagiarisme tidak diperkenankan dalam bentuk apapun. Adapun kolaborasi berupa diskusi (tanpa menyalin maupun mengambil jawaban orang lain) dan literasi masih diperbolehkan dengan mencantumkan kolaborator dan sumber.\n",
    "7. Pakta Integritas **Wajib** di isi dan di jalankan. Submisi hanya akan dinilai jika pakta integritas di isi dan di jalankan.\n",
    "8. Sebelum di kumpulkan, kode **WAJIB** dijalankan. Jika tidak, dikenakan penalti sebesar 50%.\n",
    "9. Mahasiswa wajib mencantumkan semua sumber yang menjadi referensi jawaban, termasuk GPT.\n",
    "\n"
   ]
  },
  {
   "cell_type": "code",
   "execution_count": 22,
   "metadata": {
    "id": "-rvyCE4wgcGo"
   },
   "outputs": [],
   "source": [
    "# Isi dengan data diri Anda\n",
    "NAMA = \"Yoshelin Yamala Vijnana\"\n",
    "KELAS = \"C\"\n",
    "NPM = \"2206826702\"\n",
    "USERNAME_KAGGLE = \"yoshelinyamala\"\n",
    "\n",
    "# Isi dengan NPM teman yang berdiskusi dengan Anda\n",
    "KOLABORATOR = []\n",
    "\n",
    "# Isi dengan sumber referensi yang Anda gunakan dalam mengerjakan\n",
    "REFERENSI = [\"ChatGPT\", \"Google\", \"StackOverflow\"]"
   ]
  },
  {
   "cell_type": "code",
   "execution_count": 155,
   "metadata": {
    "id": "BR6CCvFPwPNq"
   },
   "outputs": [
    {
     "name": "stdout",
     "output_type": "stream",
     "text": [
      "Saya, Yoshelin Yamala Vijnana dari kelas C dengan NPM 2206826702, menyatakan bahwa seluruh jawaban pada pekerjaan ini murni saya kerjakan sendiri.\n",
      "Saya tidak mencontek jawaban, memberikan jawaban, maupun menyalin dari sumber manapun.\n",
      " \n",
      "Jika saya melanggar pernyataan tersebut, saya siap menerima konsekuensi apapun yang diberikan.\n",
      "   (Yoshelin Yamala Vijnana)\n"
     ]
    }
   ],
   "source": [
    "PERNYATAAN_INTEGRITAS = \"Saya, %s dari kelas %s dengan NPM %s, menyatakan bahwa seluruh jawaban pada pekerjaan ini murni saya kerjakan sendiri.\\n\\\n",
    "Saya tidak mencontek jawaban, memberikan jawaban, maupun menyalin dari sumber manapun.\\n \\\n",
    "\\n\\\n",
    "Jika saya melanggar pernyataan tersebut, saya siap menerima konsekuensi apapun yang diberikan.\\n   \\\n",
    "(%s)\" % (NAMA, KELAS, NPM, NAMA)\n",
    "\n",
    "print(PERNYATAAN_INTEGRITAS)"
   ]
  },
  {
   "cell_type": "markdown",
   "metadata": {
    "id": "5MsN1us9KVzD"
   },
   "source": [
    "# Penguatan Python"
   ]
  },
  {
   "cell_type": "markdown",
   "metadata": {
    "id": "jRz-ZxSCKZBe"
   },
   "source": [
    "Python merupakan bahasa pemrograman yang akan digunakan pada tutorial mata kuliah ini. Terdapat playlist YouTube [Python DDP 1](https://www.youtube.com/playlist?list=PLvkbIcjwo0qwModeUU2JyUi2RQcI6Nfc-) yang telah disediakan oleh Pak Fariz untuk mendukung dan membantu pemahaman kalian dalam Python. Semoga sukses dalam belajarmu, Semangat ya!"
   ]
  },
  {
   "cell_type": "markdown",
   "metadata": {
    "id": "jzKx7uS0MFrr"
   },
   "source": [
    "# **1. Pengantar Jupyter Notebook**"
   ]
  },
  {
   "cell_type": "markdown",
   "metadata": {
    "id": "sEDFQzHwNRqu"
   },
   "source": [
    "Berkas yang akan digunakan pada tutorial yaitu berkas IPYNB. Berkas IPYNB dapat dibentuk dan dibuka menggunakan aplikasi daring seperti [Google Colab](https://www.kaggle.com/notebooks) atau [Kaggle](https://www.kaggle.com/notebooks), ataupun Jupyter Notebook. Dalam berkas ini, konten disusun dalam bentuk sel (cells), yang terdiri dari tiga jenis utama, diantaranya yaitu code cells untuk menulis dan menjalankan kode, markdown cells untuk menulis teks deskriptif atau dokumentasi, serta raw cells untuk menyimpan teks mentah.\n",
    "\n",
    "Setiap cell dapat dieksekusi dengan kombinasi shortcut **shift + enter** ataupun **tombol run** pada tiap cell. Setiap cell dapat dieksekusi secara mandiri dan tidak perlu dijalankan berurutan, kecuali jika ada variabel global yang diinisiasi pada cell yang belum dijalankan. Cell kode Python yang dieksekusi akan menjalankan kode secara *interpreted* dan menampilkan output (jika ada) di bawah cell."
   ]
  },
  {
   "cell_type": "code",
   "execution_count": 156,
   "metadata": {
    "colab": {
     "base_uri": "https://localhost:8080/",
     "height": 54
    },
    "id": "XYLcMY_eNRG2",
    "outputId": "89324e16-fdb1-4790-9cab-064fd8f340b6"
   },
   "outputs": [
    {
     "name": "stdout",
     "output_type": "stream",
     "text": [
      "Hello, world!\n"
     ]
    },
    {
     "data": {
      "text/plain": [
       "'Hello, world!'"
      ]
     },
     "execution_count": 156,
     "metadata": {},
     "output_type": "execute_result"
    }
   ],
   "source": [
    "# Berikut merupakan contoh cell untuk kode Python\n",
    "# Cell dapat digunakan untuk mengeksekusi kode yang diperlukan\n",
    "\n",
    "var = \"Hello, world!\"\n",
    "print(var[:])\n",
    "var"
   ]
  },
  {
   "cell_type": "markdown",
   "metadata": {
    "id": "imqMTLIYfMXm"
   },
   "source": [
    "## Contoh cell untuk *text markdown*"
   ]
  },
  {
   "cell_type": "markdown",
   "metadata": {
    "id": "LNLBvhkz_eBO"
   },
   "source": [
    "Ini adalah contoh cell untuk text markdown."
   ]
  },
  {
   "cell_type": "markdown",
   "metadata": {
    "id": "muF_TSmCfcnK"
   },
   "source": [
    "Markdown adalah bahasa markup yang digunakan untuk membuat teks berformat menggunakan editor teks sederhana. Dengan Markdown, dapat dibuat berbagai format teks seperti *heading*, tautan, tabel, daftar, dan banyak lagi. Beragam sintaks Markdown dapat ditemukan dalam [panduan di Markdownguide.org](https://www.markdownguide.org/cheat-sheet/) serta [dokumentasi wiki](https://github.com/adam-p/markdown-here/wiki/Markdown-Here-Cheatsheet) yang dibuat oleh Adam Pritchard."
   ]
  },
  {
   "cell_type": "markdown",
   "metadata": {
    "id": "a27ahYIDgC_G"
   },
   "source": [
    "## 1.1 Instalasi library pada Jupyter Notebook"
   ]
  },
  {
   "cell_type": "markdown",
   "metadata": {
    "id": "7QLMQl3tipXv"
   },
   "source": [
    "Secara umum, *tools* seperti JupyterLab dan Google Colab telah menyediakan kernel yang dilengkapi dengan beberapa *library* Python. Namun, untuk menginstal library tambahan yang dibutuhkan, dapat dijalankan perintah `pip install nama-package` pada cell kode. Sebagai contoh, berikut adalah cell untuk menginstall library **Pandas**.\n",
    "\n"
   ]
  },
  {
   "cell_type": "code",
   "execution_count": 157,
   "metadata": {
    "colab": {
     "base_uri": "https://localhost:8080/"
    },
    "id": "B2UEHOG8jSCm",
    "outputId": "371f78ae-4f54-4bdc-f3e1-751072f475d1"
   },
   "outputs": [
    {
     "name": "stdout",
     "output_type": "stream",
     "text": [
      "Requirement already satisfied: pandas in c:\\users\\asus\\appdata\\local\\programs\\python\\python311\\lib\\site-packages (2.2.3)\n",
      "Requirement already satisfied: numpy>=1.23.2 in c:\\users\\asus\\appdata\\local\\programs\\python\\python311\\lib\\site-packages (from pandas) (2.0.1)\n",
      "Requirement already satisfied: python-dateutil>=2.8.2 in c:\\users\\asus\\appdata\\local\\programs\\python\\python311\\lib\\site-packages (from pandas) (2.9.0.post0)\n",
      "Requirement already satisfied: pytz>=2020.1 in c:\\users\\asus\\appdata\\local\\programs\\python\\python311\\lib\\site-packages (from pandas) (2024.1)\n",
      "Requirement already satisfied: tzdata>=2022.7 in c:\\users\\asus\\appdata\\local\\programs\\python\\python311\\lib\\site-packages (from pandas) (2023.3)\n",
      "Requirement already satisfied: six>=1.5 in c:\\users\\asus\\appdata\\local\\programs\\python\\python311\\lib\\site-packages (from python-dateutil>=2.8.2->pandas) (1.16.0)\n"
     ]
    },
    {
     "name": "stderr",
     "output_type": "stream",
     "text": [
      "\n",
      "[notice] A new release of pip is available: 24.3.1 -> 25.0\n",
      "[notice] To update, run: python.exe -m pip install --upgrade pip\n"
     ]
    }
   ],
   "source": [
    "!pip install pandas"
   ]
  },
  {
   "cell_type": "markdown",
   "metadata": {
    "id": "wJnobTMnjYac"
   },
   "source": [
    "Kernel yang digunakan di Jupyter Notebook, seperti halnya kernel pada umumnya, dapat menerima perintah sistem. Selain perintah seperti `pip`, berbagai perintah lain, seperti `git` atau `apt`, juga dapat dijalankan asalkan kernel yang digunakan mendukungnya. Silahkan  mengeksplorasi lebih lanjut penggunaannya, baik pada perangkat lokal seperti Jupyter Notebook maupun platform berbasis *cloud* seperti Google Colab."
   ]
  },
  {
   "cell_type": "markdown",
   "metadata": {
    "id": "AIcbi_GHkNZB"
   },
   "source": [
    "# **2. Pengenalan Pandas**"
   ]
  },
  {
   "cell_type": "markdown",
   "metadata": {
    "id": "k8J_CiE6K7nq"
   },
   "source": [
    "Pandas merupakan alat analisis dan manipulasi data sumber terbuka yang cepat, kuat, fleksibel, dan mudah digunakan, dibangun di atas bahasa pemrograman Python (Pandas - Python Data Analysis Library, n.d.). Terdapat pula [dokumentasi Pandas](https://pandas.pydata.org/docs/getting_started/index.html) sebagai acuan dalam berlatih menggunakan library ini."
   ]
  },
  {
   "cell_type": "code",
   "execution_count": 158,
   "metadata": {
    "id": "qyPmDpF7ME4I",
    "outputId": "75d69515-b0ae-44d4-f5ae-1c3664ef3501"
   },
   "outputs": [],
   "source": [
    "# import library\n",
    "import pandas as pd"
   ]
  },
  {
   "cell_type": "markdown",
   "metadata": {
    "id": "AFTlpFAlMsIi"
   },
   "source": [
    "Terdapat struktur data utama yang digunakan di Pandas, yaitu Series dan DataFrame. Series merupakan struktur data satu dimensi seperti array atau daftar Python, yang memiliki indeks unik untuk setiap elemen. Umumnya, series cocok digunakan untuk menangani data seperti kolom tunggal dari tabel. Sedangkan, DataFrame merupakan struktur data dua dimensi yang menyerupai tabel dengan baris dan kolom. DataFrame sangat fleksibel karena setiap kolom dapat memiliki tipe data yang berbeda.\n",
    "Berikut penjelasan dan contoh detail dari Series maupun DataFrame."
   ]
  },
  {
   "cell_type": "markdown",
   "metadata": {
    "id": "XbBn2rE6Oq-v"
   },
   "source": [
    "## 2.1 Series"
   ]
  },
  {
   "cell_type": "markdown",
   "metadata": {
    "id": "EXC2QwjsPnTU"
   },
   "source": [
    "Series adalah struktur data satu dimensi yang serupa dengan array. Series memiliki indeks dan nilai (*value*), di mana indeks secara default berupa angka dari 0 hingga N-1, dengan N merupakan panjang Series. Series dapat dibuat menggunakan berbagai tipe data, seperti *list*, *tuple*, atau *dictionary*.\n",
    "\n",
    "Salah satu cara yang umum digunakan untuk membuat objek Series adalah sebagai berikut.\n",
    "\n",
    "```\n",
    "pd.Series(data)\n",
    "```\n",
    "\n",
    "`data` di atas dapat berupa *list*, *tuple*, atau *dictionary*.\n",
    "\n",
    "Berikut merupakan contoh penggunaan Series."
   ]
  },
  {
   "cell_type": "code",
   "execution_count": 159,
   "metadata": {
    "colab": {
     "base_uri": "https://localhost:8080/",
     "height": 272
    },
    "id": "6Jq99_h7QABI",
    "outputId": "720eea35-30f3-4d20-e5ae-7c90375b50f0"
   },
   "outputs": [
    {
     "data": {
      "text/plain": [
       "0     1\n",
       "1     2\n",
       "2     4\n",
       "3     8\n",
       "4    16\n",
       "5    32\n",
       "dtype: int64"
      ]
     },
     "execution_count": 159,
     "metadata": {},
     "output_type": "execute_result"
    }
   ],
   "source": [
    "# Membuat objek Series dari sebuah list\n",
    "series = pd.Series([1,2,4,8,16,32])\n",
    "series"
   ]
  },
  {
   "cell_type": "markdown",
   "metadata": {
    "id": "rxuQnhifQNB6"
   },
   "source": [
    "Berdasarkan kode di atas, Series menunjukkan tipe data yang diberikan dengan contoh tersebut adalah integer. Selain itu, Series memiliki *index* yang terletak di bagian sebelah kiri dan *value* yang terletak di bagian sebelah kanan. Kedua hal tersebut dapat diakses dengan menggunakan atribut `index` dan `values`.  Untuk melihat lebih detail terkait *index* dan *value* nya, dapat menggunakan kode sebagai berikut."
   ]
  },
  {
   "cell_type": "code",
   "execution_count": 160,
   "metadata": {
    "colab": {
     "base_uri": "https://localhost:8080/"
    },
    "id": "J8I3oxMFQM3T",
    "outputId": "966a6cd4-190e-4aae-99b4-772455ba0d55"
   },
   "outputs": [
    {
     "data": {
      "text/plain": [
       "RangeIndex(start=0, stop=6, step=1)"
      ]
     },
     "execution_count": 160,
     "metadata": {},
     "output_type": "execute_result"
    }
   ],
   "source": [
    "# Melihat index dari series\n",
    "series.index"
   ]
  },
  {
   "cell_type": "code",
   "execution_count": 161,
   "metadata": {
    "colab": {
     "base_uri": "https://localhost:8080/"
    },
    "id": "bNUQ7wQ0Qc_B",
    "outputId": "0de7688c-0bd4-4f89-f103-b4008c48c380"
   },
   "outputs": [
    {
     "data": {
      "text/plain": [
       "array([ 1,  2,  4,  8, 16, 32])"
      ]
     },
     "execution_count": 161,
     "metadata": {},
     "output_type": "execute_result"
    }
   ],
   "source": [
    "# Melihat values dari series\n",
    "series.values"
   ]
  },
  {
   "cell_type": "markdown",
   "metadata": {
    "id": "2dAuRbzvRP9m"
   },
   "source": [
    "Tidak hanya itu, Series juga dapat diakses menggunakan teknik *indexing* dan *slicing* dengan contoh sebagai berikut."
   ]
  },
  {
   "cell_type": "code",
   "execution_count": 162,
   "metadata": {
    "colab": {
     "base_uri": "https://localhost:8080/"
    },
    "id": "ckSDx0sbRWe2",
    "outputId": "dc805508-e384-440c-828f-afd7b1cdcf58"
   },
   "outputs": [
    {
     "data": {
      "text/plain": [
       "np.int64(2)"
      ]
     },
     "execution_count": 162,
     "metadata": {},
     "output_type": "execute_result"
    }
   ],
   "source": [
    "# Melakukan indexing pada series\n",
    "series[1]"
   ]
  },
  {
   "cell_type": "code",
   "execution_count": 163,
   "metadata": {
    "colab": {
     "base_uri": "https://localhost:8080/",
     "height": 178
    },
    "id": "_91AOwbTRbpo",
    "outputId": "cd18dfe6-ef9e-4330-eabc-70b4bf92f935"
   },
   "outputs": [
    {
     "data": {
      "text/plain": [
       "1    2\n",
       "2    4\n",
       "3    8\n",
       "dtype: int64"
      ]
     },
     "execution_count": 163,
     "metadata": {},
     "output_type": "execute_result"
    }
   ],
   "source": [
    "# Melakukan slicing pada series\n",
    "series[1:4]"
   ]
  },
  {
   "cell_type": "markdown",
   "metadata": {
    "id": "Li7F-wA7RrGV"
   },
   "source": [
    "Pada contoh di atas, *indexing* digunakan untuk untuk mengakses elemen individual berdasarkan indeks atau label. Sedangkan, *slicing* digunakan untuk memilih subset dari data berdasarkan rentang *index*. Slicing dapat dilakukan dengan menggunakan index atau label dan akan mengembalikan elemen dalam rentang yang ditentukan."
   ]
  },
  {
   "cell_type": "markdown",
   "metadata": {
    "id": "vXCHG7q5Ox4d"
   },
   "source": [
    "## 2.2 DataFrame"
   ]
  },
  {
   "cell_type": "markdown",
   "metadata": {
    "id": "m_ZmnhTDS_--"
   },
   "source": [
    "DataFrame adalah struktur data dua dimensi yang mirip dengan tabel. DataFrame memiliki indeks dan kolom. Secara default, indeks pada DataFrame berupa angka yang dimulai dari 0 hingga N-1, di mana N adalah jumlah baris pada DataFrame. DataFrame dapat dibuat menggunakan berbagai tipe data seperti *list*, *tuple*, *dictionary*, dan Series. Setiap kolom dalam DataFrame dapat memiliki tipe data yang berbeda, seperti *integer*, *string*, atau *float*. Seperti halnya Series, DataFrame juga memiliki indeks yang unik untuk setiap barisnya.\n",
    "\n",
    "<br>DataFrame dapat digunakan untuk menyimpan dan memanipulasi data yang berasal dari berbagai sumber, seperti file CSV, Excel, atau basis data SQL. Salah satu cara umum untuk membuat objek DataFrame adalah dengan menggunakan sintaks berikut.\n",
    "\n",
    "```\n",
    "pd.DataFrame(data, columns=column_names)\n",
    "```\n",
    "\n",
    "`data` di atas dapat berupa list, tuple, atau dictionary.\n",
    "\n",
    "`column_names` adalah list yang berisi nama kolom.\n",
    "\n",
    "Berikut merupakan contoh penggunaan DataFrame.\n"
   ]
  },
  {
   "cell_type": "markdown",
   "metadata": {
    "id": "3eg-enIkwDRu"
   },
   "source": [
    "### 2.2.1 Pembuatan DataFrame"
   ]
  },
  {
   "cell_type": "markdown",
   "metadata": {
    "id": "kD_8HYK89bwF"
   },
   "source": [
    "#### 1. Pembuatan DataFrame melalui List"
   ]
  },
  {
   "cell_type": "code",
   "execution_count": 164,
   "metadata": {
    "colab": {
     "base_uri": "https://localhost:8080/",
     "height": 143
    },
    "id": "H6SVKHsOwCtk",
    "outputId": "bb110b84-f39e-4772-8145-51bb591aeb74"
   },
   "outputs": [
    {
     "data": {
      "text/html": [
       "<div>\n",
       "<style scoped>\n",
       "    .dataframe tbody tr th:only-of-type {\n",
       "        vertical-align: middle;\n",
       "    }\n",
       "\n",
       "    .dataframe tbody tr th {\n",
       "        vertical-align: top;\n",
       "    }\n",
       "\n",
       "    .dataframe thead th {\n",
       "        text-align: right;\n",
       "    }\n",
       "</style>\n",
       "<table border=\"1\" class=\"dataframe\">\n",
       "  <thead>\n",
       "    <tr style=\"text-align: right;\">\n",
       "      <th></th>\n",
       "      <th>ID</th>\n",
       "      <th>Name</th>\n",
       "      <th>Score</th>\n",
       "    </tr>\n",
       "  </thead>\n",
       "  <tbody>\n",
       "    <tr>\n",
       "      <th>0</th>\n",
       "      <td>1</td>\n",
       "      <td>Jane</td>\n",
       "      <td>80</td>\n",
       "    </tr>\n",
       "    <tr>\n",
       "      <th>1</th>\n",
       "      <td>2</td>\n",
       "      <td>John</td>\n",
       "      <td>90</td>\n",
       "    </tr>\n",
       "    <tr>\n",
       "      <th>2</th>\n",
       "      <td>3</td>\n",
       "      <td>Doe</td>\n",
       "      <td>70</td>\n",
       "    </tr>\n",
       "  </tbody>\n",
       "</table>\n",
       "</div>"
      ],
      "text/plain": [
       "   ID  Name  Score\n",
       "0   1  Jane     80\n",
       "1   2  John     90\n",
       "2   3   Doe     70"
      ]
     },
     "execution_count": 164,
     "metadata": {},
     "output_type": "execute_result"
    }
   ],
   "source": [
    "# Memasukkan data ke dalam lists\n",
    "data_list = [\n",
    "    [1, 'Jane', 80],\n",
    "    [2, 'John', 90],\n",
    "    [3, 'Doe', 70]\n",
    "]\n",
    "\n",
    "# Membuat dataframe\n",
    "df_list = pd.DataFrame(data_list, columns=['ID', 'Name', 'Score'])\n",
    "df_list"
   ]
  },
  {
   "cell_type": "markdown",
   "metadata": {
    "id": "W-XiVXX8w8u5"
   },
   "source": [
    "#### 2. Pembuatan DataFrame melalui Dictionary"
   ]
  },
  {
   "cell_type": "markdown",
   "metadata": {
    "id": "LFoyHfzQxRkR"
   },
   "source": [
    " * Pembuatan DataFrame melalui *Dictionary of Lists*"
   ]
  },
  {
   "cell_type": "code",
   "execution_count": 165,
   "metadata": {
    "colab": {
     "base_uri": "https://localhost:8080/",
     "height": 143
    },
    "id": "_AIJtcL4xAbe",
    "outputId": "7825f355-a80f-466d-83b6-aa5f01f5aa96"
   },
   "outputs": [
    {
     "data": {
      "text/html": [
       "<div>\n",
       "<style scoped>\n",
       "    .dataframe tbody tr th:only-of-type {\n",
       "        vertical-align: middle;\n",
       "    }\n",
       "\n",
       "    .dataframe tbody tr th {\n",
       "        vertical-align: top;\n",
       "    }\n",
       "\n",
       "    .dataframe thead th {\n",
       "        text-align: right;\n",
       "    }\n",
       "</style>\n",
       "<table border=\"1\" class=\"dataframe\">\n",
       "  <thead>\n",
       "    <tr style=\"text-align: right;\">\n",
       "      <th></th>\n",
       "      <th>ID</th>\n",
       "      <th>Name</th>\n",
       "      <th>Score</th>\n",
       "    </tr>\n",
       "  </thead>\n",
       "  <tbody>\n",
       "    <tr>\n",
       "      <th>0</th>\n",
       "      <td>1</td>\n",
       "      <td>Jane</td>\n",
       "      <td>80</td>\n",
       "    </tr>\n",
       "    <tr>\n",
       "      <th>1</th>\n",
       "      <td>2</td>\n",
       "      <td>John</td>\n",
       "      <td>90</td>\n",
       "    </tr>\n",
       "    <tr>\n",
       "      <th>2</th>\n",
       "      <td>3</td>\n",
       "      <td>Doe</td>\n",
       "      <td>70</td>\n",
       "    </tr>\n",
       "  </tbody>\n",
       "</table>\n",
       "</div>"
      ],
      "text/plain": [
       "   ID  Name  Score\n",
       "0   1  Jane     80\n",
       "1   2  John     90\n",
       "2   3   Doe     70"
      ]
     },
     "execution_count": 165,
     "metadata": {},
     "output_type": "execute_result"
    }
   ],
   "source": [
    "# Memasukkan data ke dalam dictionary of lists\n",
    "data_dict = {\n",
    "    'ID': [1, 2, 3],\n",
    "    'Name': ['Jane', 'John', 'Doe'],\n",
    "    'Score': [80, 90, 70]\n",
    "}\n",
    "\n",
    "# Membuat dataframe\n",
    "df_dict = pd.DataFrame(data_dict)\n",
    "df_dict"
   ]
  },
  {
   "cell_type": "markdown",
   "metadata": {
    "id": "S_7Kc19AxcCS"
   },
   "source": [
    "* Pembuatan DataFrame melalui *Dictionary of Series*"
   ]
  },
  {
   "cell_type": "code",
   "execution_count": 166,
   "metadata": {
    "colab": {
     "base_uri": "https://localhost:8080/",
     "height": 143
    },
    "id": "1kC1SpdVxNkW",
    "outputId": "c5321473-c5b3-44c3-d604-ef040feac19f"
   },
   "outputs": [
    {
     "data": {
      "text/html": [
       "<div>\n",
       "<style scoped>\n",
       "    .dataframe tbody tr th:only-of-type {\n",
       "        vertical-align: middle;\n",
       "    }\n",
       "\n",
       "    .dataframe tbody tr th {\n",
       "        vertical-align: top;\n",
       "    }\n",
       "\n",
       "    .dataframe thead th {\n",
       "        text-align: right;\n",
       "    }\n",
       "</style>\n",
       "<table border=\"1\" class=\"dataframe\">\n",
       "  <thead>\n",
       "    <tr style=\"text-align: right;\">\n",
       "      <th></th>\n",
       "      <th>ID</th>\n",
       "      <th>Name</th>\n",
       "      <th>Score</th>\n",
       "    </tr>\n",
       "  </thead>\n",
       "  <tbody>\n",
       "    <tr>\n",
       "      <th>0</th>\n",
       "      <td>1</td>\n",
       "      <td>Jane</td>\n",
       "      <td>80</td>\n",
       "    </tr>\n",
       "    <tr>\n",
       "      <th>1</th>\n",
       "      <td>2</td>\n",
       "      <td>John</td>\n",
       "      <td>90</td>\n",
       "    </tr>\n",
       "    <tr>\n",
       "      <th>2</th>\n",
       "      <td>3</td>\n",
       "      <td>Doe</td>\n",
       "      <td>70</td>\n",
       "    </tr>\n",
       "  </tbody>\n",
       "</table>\n",
       "</div>"
      ],
      "text/plain": [
       "   ID  Name  Score\n",
       "0   1  Jane     80\n",
       "1   2  John     90\n",
       "2   3   Doe     70"
      ]
     },
     "execution_count": 166,
     "metadata": {},
     "output_type": "execute_result"
    }
   ],
   "source": [
    "# Memasukkan data ke dalam dictionary of series\n",
    "data_series = {\n",
    "    'ID': pd.Series([1, 2, 3]),\n",
    "    'Name': pd.Series(['Jane', 'John', 'Doe']),\n",
    "    'Score': pd.Series([80, 90, 70])\n",
    "}\n",
    "\n",
    "# Membuat dataframe\n",
    "df_series = pd.DataFrame(data_series)\n",
    "df_series"
   ]
  },
  {
   "cell_type": "markdown",
   "metadata": {
    "id": "x2DNWirFx16g"
   },
   "source": [
    "#### 3. Pembuatan DataFrame melalui Tuple"
   ]
  },
  {
   "cell_type": "code",
   "execution_count": 167,
   "metadata": {
    "colab": {
     "base_uri": "https://localhost:8080/",
     "height": 143
    },
    "id": "Vx1JYsZIx5DV",
    "outputId": "b77c0400-e5dc-48e5-f43e-51e05f470711"
   },
   "outputs": [
    {
     "data": {
      "text/html": [
       "<div>\n",
       "<style scoped>\n",
       "    .dataframe tbody tr th:only-of-type {\n",
       "        vertical-align: middle;\n",
       "    }\n",
       "\n",
       "    .dataframe tbody tr th {\n",
       "        vertical-align: top;\n",
       "    }\n",
       "\n",
       "    .dataframe thead th {\n",
       "        text-align: right;\n",
       "    }\n",
       "</style>\n",
       "<table border=\"1\" class=\"dataframe\">\n",
       "  <thead>\n",
       "    <tr style=\"text-align: right;\">\n",
       "      <th></th>\n",
       "      <th>ID</th>\n",
       "      <th>Name</th>\n",
       "      <th>Score</th>\n",
       "    </tr>\n",
       "  </thead>\n",
       "  <tbody>\n",
       "    <tr>\n",
       "      <th>0</th>\n",
       "      <td>1</td>\n",
       "      <td>Jane</td>\n",
       "      <td>80</td>\n",
       "    </tr>\n",
       "    <tr>\n",
       "      <th>1</th>\n",
       "      <td>2</td>\n",
       "      <td>John</td>\n",
       "      <td>90</td>\n",
       "    </tr>\n",
       "    <tr>\n",
       "      <th>2</th>\n",
       "      <td>3</td>\n",
       "      <td>Doe</td>\n",
       "      <td>70</td>\n",
       "    </tr>\n",
       "  </tbody>\n",
       "</table>\n",
       "</div>"
      ],
      "text/plain": [
       "   ID  Name  Score\n",
       "0   1  Jane     80\n",
       "1   2  John     90\n",
       "2   3   Doe     70"
      ]
     },
     "execution_count": 167,
     "metadata": {},
     "output_type": "execute_result"
    }
   ],
   "source": [
    "# Memasukkan data ke dalam\n",
    "data_tuple = [\n",
    "    (1, 'Jane', 80),\n",
    "    (2, 'John', 90),\n",
    "    (3, 'Doe', 70)\n",
    "]\n",
    "\n",
    "# Membuat dataframe\n",
    "df_tuple = pd.DataFrame(data_tuple, columns=['ID', 'Name', 'Score'])\n",
    "df_tuple"
   ]
  },
  {
   "cell_type": "markdown",
   "metadata": {
    "id": "t41gloHdyENp"
   },
   "source": [
    "#### 4. Pembuatan DataFrame melalui Series"
   ]
  },
  {
   "cell_type": "code",
   "execution_count": 168,
   "metadata": {
    "colab": {
     "base_uri": "https://localhost:8080/",
     "height": 143
    },
    "id": "qJ9f0iRvyExR",
    "outputId": "cada74a0-9f00-4414-9d42-a5f9e8eed42b"
   },
   "outputs": [
    {
     "data": {
      "text/html": [
       "<div>\n",
       "<style scoped>\n",
       "    .dataframe tbody tr th:only-of-type {\n",
       "        vertical-align: middle;\n",
       "    }\n",
       "\n",
       "    .dataframe tbody tr th {\n",
       "        vertical-align: top;\n",
       "    }\n",
       "\n",
       "    .dataframe thead th {\n",
       "        text-align: right;\n",
       "    }\n",
       "</style>\n",
       "<table border=\"1\" class=\"dataframe\">\n",
       "  <thead>\n",
       "    <tr style=\"text-align: right;\">\n",
       "      <th></th>\n",
       "      <th>ID</th>\n",
       "      <th>Name</th>\n",
       "      <th>Score</th>\n",
       "    </tr>\n",
       "  </thead>\n",
       "  <tbody>\n",
       "    <tr>\n",
       "      <th>0</th>\n",
       "      <td>1</td>\n",
       "      <td>Jane</td>\n",
       "      <td>80</td>\n",
       "    </tr>\n",
       "    <tr>\n",
       "      <th>1</th>\n",
       "      <td>2</td>\n",
       "      <td>John</td>\n",
       "      <td>90</td>\n",
       "    </tr>\n",
       "    <tr>\n",
       "      <th>2</th>\n",
       "      <td>3</td>\n",
       "      <td>Doe</td>\n",
       "      <td>70</td>\n",
       "    </tr>\n",
       "  </tbody>\n",
       "</table>\n",
       "</div>"
      ],
      "text/plain": [
       "   ID  Name  Score\n",
       "0   1  Jane     80\n",
       "1   2  John     90\n",
       "2   3   Doe     70"
      ]
     },
     "execution_count": 168,
     "metadata": {},
     "output_type": "execute_result"
    }
   ],
   "source": [
    "# Memasukkan data ke dalam series\n",
    "id_series = pd.Series([1, 2, 3], name='ID')\n",
    "name_series = pd.Series(['Jane', 'John', 'Doe'], name='Name')\n",
    "score_series = pd.Series([80, 90, 70], name='Score')\n",
    "\n",
    "# Membuat dataframe\n",
    "df_ser = pd.concat([id_series, name_series, score_series], axis=1)\n",
    "df_ser"
   ]
  },
  {
   "cell_type": "markdown",
   "metadata": {
    "id": "gs9WTPmMySOi"
   },
   "source": [
    "#### 5. Pembuatan DataFrame melalui Sumber Eksternal"
   ]
  },
  {
   "cell_type": "markdown",
   "metadata": {
    "id": "meMjQPoJ6YiJ"
   },
   "source": [
    "* Pembuatan DataFrame melalui Sumber Eksternal (URL Remote)"
   ]
  },
  {
   "cell_type": "markdown",
   "metadata": {
    "id": "oE_2B6B46j_h"
   },
   "source": [
    "**Membaca berkas CSV dari URL remote**"
   ]
  },
  {
   "cell_type": "code",
   "execution_count": 169,
   "metadata": {
    "colab": {
     "base_uri": "https://localhost:8080/",
     "height": 424
    },
    "id": "UfeOWbdSyWFD",
    "outputId": "9e462317-160d-4395-83a0-59217ebcfb81"
   },
   "outputs": [
    {
     "data": {
      "text/html": [
       "<div>\n",
       "<style scoped>\n",
       "    .dataframe tbody tr th:only-of-type {\n",
       "        vertical-align: middle;\n",
       "    }\n",
       "\n",
       "    .dataframe tbody tr th {\n",
       "        vertical-align: top;\n",
       "    }\n",
       "\n",
       "    .dataframe thead th {\n",
       "        text-align: right;\n",
       "    }\n",
       "</style>\n",
       "<table border=\"1\" class=\"dataframe\">\n",
       "  <thead>\n",
       "    <tr style=\"text-align: right;\">\n",
       "      <th></th>\n",
       "      <th>0</th>\n",
       "      <th>1</th>\n",
       "      <th>2</th>\n",
       "      <th>3</th>\n",
       "      <th>4</th>\n",
       "      <th>5</th>\n",
       "      <th>6</th>\n",
       "      <th>7</th>\n",
       "      <th>8</th>\n",
       "      <th>9</th>\n",
       "      <th>10</th>\n",
       "      <th>11</th>\n",
       "      <th>12</th>\n",
       "      <th>13</th>\n",
       "      <th>14</th>\n",
       "      <th>15</th>\n",
       "      <th>16</th>\n",
       "      <th>17</th>\n",
       "    </tr>\n",
       "  </thead>\n",
       "  <tbody>\n",
       "    <tr>\n",
       "      <th>0</th>\n",
       "      <td>aardvark</td>\n",
       "      <td>1</td>\n",
       "      <td>0</td>\n",
       "      <td>0</td>\n",
       "      <td>1</td>\n",
       "      <td>0</td>\n",
       "      <td>0</td>\n",
       "      <td>1</td>\n",
       "      <td>1</td>\n",
       "      <td>1</td>\n",
       "      <td>1</td>\n",
       "      <td>0</td>\n",
       "      <td>0</td>\n",
       "      <td>4</td>\n",
       "      <td>0</td>\n",
       "      <td>0</td>\n",
       "      <td>1</td>\n",
       "      <td>1</td>\n",
       "    </tr>\n",
       "    <tr>\n",
       "      <th>1</th>\n",
       "      <td>antelope</td>\n",
       "      <td>1</td>\n",
       "      <td>0</td>\n",
       "      <td>0</td>\n",
       "      <td>1</td>\n",
       "      <td>0</td>\n",
       "      <td>0</td>\n",
       "      <td>0</td>\n",
       "      <td>1</td>\n",
       "      <td>1</td>\n",
       "      <td>1</td>\n",
       "      <td>0</td>\n",
       "      <td>0</td>\n",
       "      <td>4</td>\n",
       "      <td>1</td>\n",
       "      <td>0</td>\n",
       "      <td>1</td>\n",
       "      <td>1</td>\n",
       "    </tr>\n",
       "    <tr>\n",
       "      <th>2</th>\n",
       "      <td>bass</td>\n",
       "      <td>0</td>\n",
       "      <td>0</td>\n",
       "      <td>1</td>\n",
       "      <td>0</td>\n",
       "      <td>0</td>\n",
       "      <td>1</td>\n",
       "      <td>1</td>\n",
       "      <td>1</td>\n",
       "      <td>1</td>\n",
       "      <td>0</td>\n",
       "      <td>0</td>\n",
       "      <td>1</td>\n",
       "      <td>0</td>\n",
       "      <td>1</td>\n",
       "      <td>0</td>\n",
       "      <td>0</td>\n",
       "      <td>4</td>\n",
       "    </tr>\n",
       "    <tr>\n",
       "      <th>3</th>\n",
       "      <td>bear</td>\n",
       "      <td>1</td>\n",
       "      <td>0</td>\n",
       "      <td>0</td>\n",
       "      <td>1</td>\n",
       "      <td>0</td>\n",
       "      <td>0</td>\n",
       "      <td>1</td>\n",
       "      <td>1</td>\n",
       "      <td>1</td>\n",
       "      <td>1</td>\n",
       "      <td>0</td>\n",
       "      <td>0</td>\n",
       "      <td>4</td>\n",
       "      <td>0</td>\n",
       "      <td>0</td>\n",
       "      <td>1</td>\n",
       "      <td>1</td>\n",
       "    </tr>\n",
       "    <tr>\n",
       "      <th>4</th>\n",
       "      <td>boar</td>\n",
       "      <td>1</td>\n",
       "      <td>0</td>\n",
       "      <td>0</td>\n",
       "      <td>1</td>\n",
       "      <td>0</td>\n",
       "      <td>0</td>\n",
       "      <td>1</td>\n",
       "      <td>1</td>\n",
       "      <td>1</td>\n",
       "      <td>1</td>\n",
       "      <td>0</td>\n",
       "      <td>0</td>\n",
       "      <td>4</td>\n",
       "      <td>1</td>\n",
       "      <td>0</td>\n",
       "      <td>1</td>\n",
       "      <td>1</td>\n",
       "    </tr>\n",
       "    <tr>\n",
       "      <th>...</th>\n",
       "      <td>...</td>\n",
       "      <td>...</td>\n",
       "      <td>...</td>\n",
       "      <td>...</td>\n",
       "      <td>...</td>\n",
       "      <td>...</td>\n",
       "      <td>...</td>\n",
       "      <td>...</td>\n",
       "      <td>...</td>\n",
       "      <td>...</td>\n",
       "      <td>...</td>\n",
       "      <td>...</td>\n",
       "      <td>...</td>\n",
       "      <td>...</td>\n",
       "      <td>...</td>\n",
       "      <td>...</td>\n",
       "      <td>...</td>\n",
       "      <td>...</td>\n",
       "    </tr>\n",
       "    <tr>\n",
       "      <th>96</th>\n",
       "      <td>wallaby</td>\n",
       "      <td>1</td>\n",
       "      <td>0</td>\n",
       "      <td>0</td>\n",
       "      <td>1</td>\n",
       "      <td>0</td>\n",
       "      <td>0</td>\n",
       "      <td>0</td>\n",
       "      <td>1</td>\n",
       "      <td>1</td>\n",
       "      <td>1</td>\n",
       "      <td>0</td>\n",
       "      <td>0</td>\n",
       "      <td>2</td>\n",
       "      <td>1</td>\n",
       "      <td>0</td>\n",
       "      <td>1</td>\n",
       "      <td>1</td>\n",
       "    </tr>\n",
       "    <tr>\n",
       "      <th>97</th>\n",
       "      <td>wasp</td>\n",
       "      <td>1</td>\n",
       "      <td>0</td>\n",
       "      <td>1</td>\n",
       "      <td>0</td>\n",
       "      <td>1</td>\n",
       "      <td>0</td>\n",
       "      <td>0</td>\n",
       "      <td>0</td>\n",
       "      <td>0</td>\n",
       "      <td>1</td>\n",
       "      <td>1</td>\n",
       "      <td>0</td>\n",
       "      <td>6</td>\n",
       "      <td>0</td>\n",
       "      <td>0</td>\n",
       "      <td>0</td>\n",
       "      <td>6</td>\n",
       "    </tr>\n",
       "    <tr>\n",
       "      <th>98</th>\n",
       "      <td>wolf</td>\n",
       "      <td>1</td>\n",
       "      <td>0</td>\n",
       "      <td>0</td>\n",
       "      <td>1</td>\n",
       "      <td>0</td>\n",
       "      <td>0</td>\n",
       "      <td>1</td>\n",
       "      <td>1</td>\n",
       "      <td>1</td>\n",
       "      <td>1</td>\n",
       "      <td>0</td>\n",
       "      <td>0</td>\n",
       "      <td>4</td>\n",
       "      <td>1</td>\n",
       "      <td>0</td>\n",
       "      <td>1</td>\n",
       "      <td>1</td>\n",
       "    </tr>\n",
       "    <tr>\n",
       "      <th>99</th>\n",
       "      <td>worm</td>\n",
       "      <td>0</td>\n",
       "      <td>0</td>\n",
       "      <td>1</td>\n",
       "      <td>0</td>\n",
       "      <td>0</td>\n",
       "      <td>0</td>\n",
       "      <td>0</td>\n",
       "      <td>0</td>\n",
       "      <td>0</td>\n",
       "      <td>1</td>\n",
       "      <td>0</td>\n",
       "      <td>0</td>\n",
       "      <td>0</td>\n",
       "      <td>0</td>\n",
       "      <td>0</td>\n",
       "      <td>0</td>\n",
       "      <td>7</td>\n",
       "    </tr>\n",
       "    <tr>\n",
       "      <th>100</th>\n",
       "      <td>wren</td>\n",
       "      <td>0</td>\n",
       "      <td>1</td>\n",
       "      <td>1</td>\n",
       "      <td>0</td>\n",
       "      <td>1</td>\n",
       "      <td>0</td>\n",
       "      <td>0</td>\n",
       "      <td>0</td>\n",
       "      <td>1</td>\n",
       "      <td>1</td>\n",
       "      <td>0</td>\n",
       "      <td>0</td>\n",
       "      <td>2</td>\n",
       "      <td>1</td>\n",
       "      <td>0</td>\n",
       "      <td>0</td>\n",
       "      <td>2</td>\n",
       "    </tr>\n",
       "  </tbody>\n",
       "</table>\n",
       "<p>101 rows × 18 columns</p>\n",
       "</div>"
      ],
      "text/plain": [
       "           0   1   2   3   4   5   6   7   8   9   10  11  12  13  14  15  16  17\n",
       "0    aardvark   1   0   0   1   0   0   1   1   1   1   0   0   4   0   0   1   1\n",
       "1    antelope   1   0   0   1   0   0   0   1   1   1   0   0   4   1   0   1   1\n",
       "2        bass   0   0   1   0   0   1   1   1   1   0   0   1   0   1   0   0   4\n",
       "3        bear   1   0   0   1   0   0   1   1   1   1   0   0   4   0   0   1   1\n",
       "4        boar   1   0   0   1   0   0   1   1   1   1   0   0   4   1   0   1   1\n",
       "..        ...  ..  ..  ..  ..  ..  ..  ..  ..  ..  ..  ..  ..  ..  ..  ..  ..  ..\n",
       "96    wallaby   1   0   0   1   0   0   0   1   1   1   0   0   2   1   0   1   1\n",
       "97       wasp   1   0   1   0   1   0   0   0   0   1   1   0   6   0   0   0   6\n",
       "98       wolf   1   0   0   1   0   0   1   1   1   1   0   0   4   1   0   1   1\n",
       "99       worm   0   0   1   0   0   0   0   0   0   1   0   0   0   0   0   0   7\n",
       "100      wren   0   1   1   0   1   0   0   0   1   1   0   0   2   1   0   0   2\n",
       "\n",
       "[101 rows x 18 columns]"
      ]
     },
     "metadata": {},
     "output_type": "display_data"
    }
   ],
   "source": [
    "# Membaca file CSV\n",
    "df_remote = pd.read_csv(\n",
    "    'https://archive.ics.uci.edu/ml/machine-learning-databases/zoo/zoo.data', # Path menuju berkas dataset, dapat berupa path lokal maupun URL remote\n",
    "    header=None # Baris pertama dataset bukan header\n",
    ")\n",
    "\n",
    "display(df_remote) # Menampilkan DataFrame"
   ]
  },
  {
   "cell_type": "markdown",
   "metadata": {
    "id": "LuuAKY9S6tF4"
   },
   "source": [
    "**Memberikan nama kolom pada DataFrame yang telah dibuat agar lebih bermakna**"
   ]
  },
  {
   "cell_type": "code",
   "execution_count": 170,
   "metadata": {
    "colab": {
     "base_uri": "https://localhost:8080/",
     "height": 444
    },
    "id": "OZttYg1f6z2X",
    "outputId": "3a8f0b94-9078-47c3-ae06-747cb4b16b50"
   },
   "outputs": [
    {
     "data": {
      "text/html": [
       "<div>\n",
       "<style scoped>\n",
       "    .dataframe tbody tr th:only-of-type {\n",
       "        vertical-align: middle;\n",
       "    }\n",
       "\n",
       "    .dataframe tbody tr th {\n",
       "        vertical-align: top;\n",
       "    }\n",
       "\n",
       "    .dataframe thead th {\n",
       "        text-align: right;\n",
       "    }\n",
       "</style>\n",
       "<table border=\"1\" class=\"dataframe\">\n",
       "  <thead>\n",
       "    <tr style=\"text-align: right;\">\n",
       "      <th></th>\n",
       "      <th>animal_name</th>\n",
       "      <th>Hair</th>\n",
       "      <th>Feathers</th>\n",
       "      <th>Eggs</th>\n",
       "      <th>Milk</th>\n",
       "      <th>Airbone</th>\n",
       "      <th>Aquati</th>\n",
       "      <th>Predator</th>\n",
       "      <th>Toothed</th>\n",
       "      <th>Backbone</th>\n",
       "      <th>Breathes</th>\n",
       "      <th>Venomous</th>\n",
       "      <th>Fins</th>\n",
       "      <th>Legs</th>\n",
       "      <th>Tail</th>\n",
       "      <th>Domestic</th>\n",
       "      <th>Catsize</th>\n",
       "      <th>Type</th>\n",
       "    </tr>\n",
       "  </thead>\n",
       "  <tbody>\n",
       "    <tr>\n",
       "      <th>0</th>\n",
       "      <td>aardvark</td>\n",
       "      <td>1</td>\n",
       "      <td>0</td>\n",
       "      <td>0</td>\n",
       "      <td>1</td>\n",
       "      <td>0</td>\n",
       "      <td>0</td>\n",
       "      <td>1</td>\n",
       "      <td>1</td>\n",
       "      <td>1</td>\n",
       "      <td>1</td>\n",
       "      <td>0</td>\n",
       "      <td>0</td>\n",
       "      <td>4</td>\n",
       "      <td>0</td>\n",
       "      <td>0</td>\n",
       "      <td>1</td>\n",
       "      <td>1</td>\n",
       "    </tr>\n",
       "    <tr>\n",
       "      <th>1</th>\n",
       "      <td>antelope</td>\n",
       "      <td>1</td>\n",
       "      <td>0</td>\n",
       "      <td>0</td>\n",
       "      <td>1</td>\n",
       "      <td>0</td>\n",
       "      <td>0</td>\n",
       "      <td>0</td>\n",
       "      <td>1</td>\n",
       "      <td>1</td>\n",
       "      <td>1</td>\n",
       "      <td>0</td>\n",
       "      <td>0</td>\n",
       "      <td>4</td>\n",
       "      <td>1</td>\n",
       "      <td>0</td>\n",
       "      <td>1</td>\n",
       "      <td>1</td>\n",
       "    </tr>\n",
       "    <tr>\n",
       "      <th>2</th>\n",
       "      <td>bass</td>\n",
       "      <td>0</td>\n",
       "      <td>0</td>\n",
       "      <td>1</td>\n",
       "      <td>0</td>\n",
       "      <td>0</td>\n",
       "      <td>1</td>\n",
       "      <td>1</td>\n",
       "      <td>1</td>\n",
       "      <td>1</td>\n",
       "      <td>0</td>\n",
       "      <td>0</td>\n",
       "      <td>1</td>\n",
       "      <td>0</td>\n",
       "      <td>1</td>\n",
       "      <td>0</td>\n",
       "      <td>0</td>\n",
       "      <td>4</td>\n",
       "    </tr>\n",
       "    <tr>\n",
       "      <th>3</th>\n",
       "      <td>bear</td>\n",
       "      <td>1</td>\n",
       "      <td>0</td>\n",
       "      <td>0</td>\n",
       "      <td>1</td>\n",
       "      <td>0</td>\n",
       "      <td>0</td>\n",
       "      <td>1</td>\n",
       "      <td>1</td>\n",
       "      <td>1</td>\n",
       "      <td>1</td>\n",
       "      <td>0</td>\n",
       "      <td>0</td>\n",
       "      <td>4</td>\n",
       "      <td>0</td>\n",
       "      <td>0</td>\n",
       "      <td>1</td>\n",
       "      <td>1</td>\n",
       "    </tr>\n",
       "    <tr>\n",
       "      <th>4</th>\n",
       "      <td>boar</td>\n",
       "      <td>1</td>\n",
       "      <td>0</td>\n",
       "      <td>0</td>\n",
       "      <td>1</td>\n",
       "      <td>0</td>\n",
       "      <td>0</td>\n",
       "      <td>1</td>\n",
       "      <td>1</td>\n",
       "      <td>1</td>\n",
       "      <td>1</td>\n",
       "      <td>0</td>\n",
       "      <td>0</td>\n",
       "      <td>4</td>\n",
       "      <td>1</td>\n",
       "      <td>0</td>\n",
       "      <td>1</td>\n",
       "      <td>1</td>\n",
       "    </tr>\n",
       "    <tr>\n",
       "      <th>...</th>\n",
       "      <td>...</td>\n",
       "      <td>...</td>\n",
       "      <td>...</td>\n",
       "      <td>...</td>\n",
       "      <td>...</td>\n",
       "      <td>...</td>\n",
       "      <td>...</td>\n",
       "      <td>...</td>\n",
       "      <td>...</td>\n",
       "      <td>...</td>\n",
       "      <td>...</td>\n",
       "      <td>...</td>\n",
       "      <td>...</td>\n",
       "      <td>...</td>\n",
       "      <td>...</td>\n",
       "      <td>...</td>\n",
       "      <td>...</td>\n",
       "      <td>...</td>\n",
       "    </tr>\n",
       "    <tr>\n",
       "      <th>96</th>\n",
       "      <td>wallaby</td>\n",
       "      <td>1</td>\n",
       "      <td>0</td>\n",
       "      <td>0</td>\n",
       "      <td>1</td>\n",
       "      <td>0</td>\n",
       "      <td>0</td>\n",
       "      <td>0</td>\n",
       "      <td>1</td>\n",
       "      <td>1</td>\n",
       "      <td>1</td>\n",
       "      <td>0</td>\n",
       "      <td>0</td>\n",
       "      <td>2</td>\n",
       "      <td>1</td>\n",
       "      <td>0</td>\n",
       "      <td>1</td>\n",
       "      <td>1</td>\n",
       "    </tr>\n",
       "    <tr>\n",
       "      <th>97</th>\n",
       "      <td>wasp</td>\n",
       "      <td>1</td>\n",
       "      <td>0</td>\n",
       "      <td>1</td>\n",
       "      <td>0</td>\n",
       "      <td>1</td>\n",
       "      <td>0</td>\n",
       "      <td>0</td>\n",
       "      <td>0</td>\n",
       "      <td>0</td>\n",
       "      <td>1</td>\n",
       "      <td>1</td>\n",
       "      <td>0</td>\n",
       "      <td>6</td>\n",
       "      <td>0</td>\n",
       "      <td>0</td>\n",
       "      <td>0</td>\n",
       "      <td>6</td>\n",
       "    </tr>\n",
       "    <tr>\n",
       "      <th>98</th>\n",
       "      <td>wolf</td>\n",
       "      <td>1</td>\n",
       "      <td>0</td>\n",
       "      <td>0</td>\n",
       "      <td>1</td>\n",
       "      <td>0</td>\n",
       "      <td>0</td>\n",
       "      <td>1</td>\n",
       "      <td>1</td>\n",
       "      <td>1</td>\n",
       "      <td>1</td>\n",
       "      <td>0</td>\n",
       "      <td>0</td>\n",
       "      <td>4</td>\n",
       "      <td>1</td>\n",
       "      <td>0</td>\n",
       "      <td>1</td>\n",
       "      <td>1</td>\n",
       "    </tr>\n",
       "    <tr>\n",
       "      <th>99</th>\n",
       "      <td>worm</td>\n",
       "      <td>0</td>\n",
       "      <td>0</td>\n",
       "      <td>1</td>\n",
       "      <td>0</td>\n",
       "      <td>0</td>\n",
       "      <td>0</td>\n",
       "      <td>0</td>\n",
       "      <td>0</td>\n",
       "      <td>0</td>\n",
       "      <td>1</td>\n",
       "      <td>0</td>\n",
       "      <td>0</td>\n",
       "      <td>0</td>\n",
       "      <td>0</td>\n",
       "      <td>0</td>\n",
       "      <td>0</td>\n",
       "      <td>7</td>\n",
       "    </tr>\n",
       "    <tr>\n",
       "      <th>100</th>\n",
       "      <td>wren</td>\n",
       "      <td>0</td>\n",
       "      <td>1</td>\n",
       "      <td>1</td>\n",
       "      <td>0</td>\n",
       "      <td>1</td>\n",
       "      <td>0</td>\n",
       "      <td>0</td>\n",
       "      <td>0</td>\n",
       "      <td>1</td>\n",
       "      <td>1</td>\n",
       "      <td>0</td>\n",
       "      <td>0</td>\n",
       "      <td>2</td>\n",
       "      <td>1</td>\n",
       "      <td>0</td>\n",
       "      <td>0</td>\n",
       "      <td>2</td>\n",
       "    </tr>\n",
       "  </tbody>\n",
       "</table>\n",
       "<p>101 rows × 18 columns</p>\n",
       "</div>"
      ],
      "text/plain": [
       "    animal_name  Hair  Feathers  Eggs  Milk  Airbone  Aquati  Predator  Toothed  Backbone  Breathes  Venomous  Fins  Legs  Tail  Domestic  Catsize  Type\n",
       "0      aardvark     1         0     0     1        0       0         1        1         1         1         0     0     4     0         0        1     1\n",
       "1      antelope     1         0     0     1        0       0         0        1         1         1         0     0     4     1         0        1     1\n",
       "2          bass     0         0     1     0        0       1         1        1         1         0         0     1     0     1         0        0     4\n",
       "3          bear     1         0     0     1        0       0         1        1         1         1         0     0     4     0         0        1     1\n",
       "4          boar     1         0     0     1        0       0         1        1         1         1         0     0     4     1         0        1     1\n",
       "..          ...   ...       ...   ...   ...      ...     ...       ...      ...       ...       ...       ...   ...   ...   ...       ...      ...   ...\n",
       "96      wallaby     1         0     0     1        0       0         0        1         1         1         0     0     2     1         0        1     1\n",
       "97         wasp     1         0     1     0        1       0         0        0         0         1         1     0     6     0         0        0     6\n",
       "98         wolf     1         0     0     1        0       0         1        1         1         1         0     0     4     1         0        1     1\n",
       "99         worm     0         0     1     0        0       0         0        0         0         1         0     0     0     0         0        0     7\n",
       "100        wren     0         1     1     0        1       0         0        0         1         1         0     0     2     1         0        0     2\n",
       "\n",
       "[101 rows x 18 columns]"
      ]
     },
     "execution_count": 170,
     "metadata": {},
     "output_type": "execute_result"
    }
   ],
   "source": [
    "df_remote.columns = [\n",
    "    'animal_name', 'Hair', 'Feathers', 'Eggs',\n",
    "    'Milk', 'Airbone', 'Aquati', 'Predator',\n",
    "    'Toothed', 'Backbone', 'Breathes', 'Venomous',\n",
    "    'Fins', 'Legs', 'Tail', 'Domestic', 'Catsize', 'Type'\n",
    "]\n",
    "df_remote"
   ]
  },
  {
   "cell_type": "markdown",
   "metadata": {
    "id": "K8BuPCmB56j1"
   },
   "source": [
    "```\n",
    "Deskrispi dataset:\n",
    "* animal_name: Nama hewan yang sedang dianalisis dalam dataset.\n",
    "* Hair: Indikator apakah hewan memiliki rambut atau bulu (0 = Tidak, 1 = Ya).\n",
    "* Feathers: Indikator apakah hewan memiliki bulu (0 = Tidak, 1 = Ya).\n",
    "* Eggs: Indikator apakah hewan bereproduksi dengan bertelur (0 = Tidak, 1 = Ya).\n",
    "* Milk: Indikator apakah hewan menghasilkan susu untuk memberi makan anaknya (0 = Tidak, 1 = Ya).\n",
    "* Airborne: Indikator apakah hewan dapat terbang atau hidup di udara (0 = Tidak, 1 = Ya).\n",
    "* Aquatic: Indikator apakah hewan hidup di air atau memiliki sifat akuatik (0 = Tidak, 1 = Ya).\n",
    "* Predator: Indikator apakah hewan merupakan predator atau pemangsa (0 = Tidak, 1 = Ya).\n",
    "* Toothed: Indikator apakah hewan memiliki gigi (0 = Tidak, 1 = Ya).\n",
    "* Backbone: Indikator apakah hewan memiliki tulang belakang atau merupakan vertebrata (0 = Tidak, 1 = Ya).\n",
    "* Breathes: Indikator apakah hewan bernapas menggunakan paru-paru (0 = Tidak, 1 = Ya).\n",
    "* Venomous: Indikator apakah hewan memiliki bisa atau racun (0 = Tidak, 1 = Ya).\n",
    "* Fins: Indikator apakah hewan memiliki sirip (0 = Tidak, 1 = Ya).\n",
    "* Legs: Jumlah kaki yang dimiliki hewan (nilai numerik, seperti 0, 2, 4, 6, dll.).\n",
    "* Tail: Indikator apakah hewan memiliki ekor (0 = Tidak, 1 = Ya).\n",
    "* Domestic: Indikator apakah hewan dapat didomestikasi atau dijinakkan (0 = Tidak, 1 = Ya).\n",
    "* Catsize: Indikator apakah hewan berukuran seperti kucing atau lebih kecil (0 = Tidak, 1 = Ya).\n",
    "* Type: Klasifikasi atau tipe hewan berdasarkan kategorisasi tertentu (nilai numerik yang merepresentasikan kategori, seperti mamalia, burung, reptil, dll.).\n",
    "```"
   ]
  },
  {
   "cell_type": "markdown",
   "metadata": {
    "id": "7PzIFpGx-n3c"
   },
   "source": [
    "* Pembuatan DataFrame melalui *path* lokal"
   ]
  },
  {
   "cell_type": "code",
   "execution_count": 171,
   "metadata": {
    "id": "NsJMB_cA-r62",
    "outputId": "e12c61d2-c304-4354-f937-9fd57449e2eb"
   },
   "outputs": [
    {
     "data": {
      "text/html": [
       "<div>\n",
       "<style scoped>\n",
       "    .dataframe tbody tr th:only-of-type {\n",
       "        vertical-align: middle;\n",
       "    }\n",
       "\n",
       "    .dataframe tbody tr th {\n",
       "        vertical-align: top;\n",
       "    }\n",
       "\n",
       "    .dataframe thead th {\n",
       "        text-align: right;\n",
       "    }\n",
       "</style>\n",
       "<table border=\"1\" class=\"dataframe\">\n",
       "  <thead>\n",
       "    <tr style=\"text-align: right;\">\n",
       "      <th></th>\n",
       "      <th>Year</th>\n",
       "      <th>Product</th>\n",
       "      <th>line</th>\n",
       "      <th>Product.1</th>\n",
       "      <th>type</th>\n",
       "      <th>Product.2</th>\n",
       "      <th>Order</th>\n",
       "      <th>method</th>\n",
       "      <th>type.1</th>\n",
       "      <th>Retailer</th>\n",
       "      <th>country</th>\n",
       "      <th>Revenue</th>\n",
       "    </tr>\n",
       "  </thead>\n",
       "  <tbody>\n",
       "    <tr>\n",
       "      <th>0</th>\n",
       "      <td>2004</td>\n",
       "      <td>Camping</td>\n",
       "      <td>Equipment</td>\n",
       "      <td>Cooking</td>\n",
       "      <td>Gear</td>\n",
       "      <td>TrailChef</td>\n",
       "      <td>Water</td>\n",
       "      <td>Bag</td>\n",
       "      <td>Telephone</td>\n",
       "      <td>United</td>\n",
       "      <td>States</td>\n",
       "      <td>315044.33</td>\n",
       "    </tr>\n",
       "    <tr>\n",
       "      <th>1</th>\n",
       "      <td>2004</td>\n",
       "      <td>Camping</td>\n",
       "      <td>Equipment</td>\n",
       "      <td>Cooking</td>\n",
       "      <td>Gear</td>\n",
       "      <td>TrailChef</td>\n",
       "      <td>Water</td>\n",
       "      <td>Bag</td>\n",
       "      <td>Telephone</td>\n",
       "      <td>Canada</td>\n",
       "      <td>NaN</td>\n",
       "      <td>14313.48</td>\n",
       "    </tr>\n",
       "    <tr>\n",
       "      <th>2</th>\n",
       "      <td>2004</td>\n",
       "      <td>Camping</td>\n",
       "      <td>Equipment</td>\n",
       "      <td>Cooking</td>\n",
       "      <td>Gear</td>\n",
       "      <td>TrailChef</td>\n",
       "      <td>Water</td>\n",
       "      <td>Bag</td>\n",
       "      <td>Telephone</td>\n",
       "      <td>Mexico</td>\n",
       "      <td>NaN</td>\n",
       "      <td>156644.47</td>\n",
       "    </tr>\n",
       "    <tr>\n",
       "      <th>3</th>\n",
       "      <td>2004</td>\n",
       "      <td>Camping</td>\n",
       "      <td>Equipment</td>\n",
       "      <td>Cooking</td>\n",
       "      <td>Gear</td>\n",
       "      <td>TrailChef</td>\n",
       "      <td>Water</td>\n",
       "      <td>Bag</td>\n",
       "      <td>Telephone</td>\n",
       "      <td>Brazil</td>\n",
       "      <td>NaN</td>\n",
       "      <td>59191.72</td>\n",
       "    </tr>\n",
       "    <tr>\n",
       "      <th>4</th>\n",
       "      <td>2004</td>\n",
       "      <td>Camping</td>\n",
       "      <td>Equipment</td>\n",
       "      <td>Cooking</td>\n",
       "      <td>Gear</td>\n",
       "      <td>TrailChef</td>\n",
       "      <td>Water</td>\n",
       "      <td>Bag</td>\n",
       "      <td>Telephone</td>\n",
       "      <td>Japan</td>\n",
       "      <td>NaN</td>\n",
       "      <td>7029.33</td>\n",
       "    </tr>\n",
       "    <tr>\n",
       "      <th>...</th>\n",
       "      <td>...</td>\n",
       "      <td>...</td>\n",
       "      <td>...</td>\n",
       "      <td>...</td>\n",
       "      <td>...</td>\n",
       "      <td>...</td>\n",
       "      <td>...</td>\n",
       "      <td>...</td>\n",
       "      <td>...</td>\n",
       "      <td>...</td>\n",
       "      <td>...</td>\n",
       "      <td>...</td>\n",
       "    </tr>\n",
       "    <tr>\n",
       "      <th>95</th>\n",
       "      <td>2004</td>\n",
       "      <td>Camping</td>\n",
       "      <td>Equipment</td>\n",
       "      <td>Cooking</td>\n",
       "      <td>Gear</td>\n",
       "      <td>TrailChef</td>\n",
       "      <td>Water</td>\n",
       "      <td>Bag</td>\n",
       "      <td>Mail</td>\n",
       "      <td>Finland</td>\n",
       "      <td>NaN</td>\n",
       "      <td>6615.84</td>\n",
       "    </tr>\n",
       "    <tr>\n",
       "      <th>96</th>\n",
       "      <td>2004</td>\n",
       "      <td>Camping</td>\n",
       "      <td>Equipment</td>\n",
       "      <td>Cooking</td>\n",
       "      <td>Gear</td>\n",
       "      <td>TrailChef</td>\n",
       "      <td>Water</td>\n",
       "      <td>Bag</td>\n",
       "      <td>Mail</td>\n",
       "      <td>Denmark</td>\n",
       "      <td>NaN</td>\n",
       "      <td>52613.47</td>\n",
       "    </tr>\n",
       "    <tr>\n",
       "      <th>97</th>\n",
       "      <td>2004</td>\n",
       "      <td>Camping</td>\n",
       "      <td>Equipment</td>\n",
       "      <td>Cooking</td>\n",
       "      <td>Gear</td>\n",
       "      <td>TrailChef</td>\n",
       "      <td>Water</td>\n",
       "      <td>Bag</td>\n",
       "      <td>Mail</td>\n",
       "      <td>France</td>\n",
       "      <td>NaN</td>\n",
       "      <td>41912.85</td>\n",
       "    </tr>\n",
       "    <tr>\n",
       "      <th>98</th>\n",
       "      <td>2004</td>\n",
       "      <td>Camping</td>\n",
       "      <td>Equipment</td>\n",
       "      <td>Cooking</td>\n",
       "      <td>Gear</td>\n",
       "      <td>TrailChef</td>\n",
       "      <td>Water</td>\n",
       "      <td>Bag</td>\n",
       "      <td>Mail</td>\n",
       "      <td>Germany</td>\n",
       "      <td>NaN</td>\n",
       "      <td>59479.91</td>\n",
       "    </tr>\n",
       "    <tr>\n",
       "      <th>99</th>\n",
       "      <td>2004</td>\n",
       "      <td>Camping</td>\n",
       "      <td>Equipment</td>\n",
       "      <td>Cooking</td>\n",
       "      <td>Gear</td>\n",
       "      <td>TrailChef</td>\n",
       "      <td>Water</td>\n",
       "      <td>Bag</td>\n",
       "      <td>Mail</td>\n",
       "      <td>United</td>\n",
       "      <td>Kingdom</td>\n",
       "      <td>156324.28</td>\n",
       "    </tr>\n",
       "  </tbody>\n",
       "</table>\n",
       "<p>100 rows × 12 columns</p>\n",
       "</div>"
      ],
      "text/plain": [
       "    Year  Product       line Product.1  type  Product.2  Order method     type.1 Retailer  country    Revenue\n",
       "0   2004  Camping  Equipment   Cooking  Gear  TrailChef  Water    Bag  Telephone   United   States  315044.33\n",
       "1   2004  Camping  Equipment   Cooking  Gear  TrailChef  Water    Bag  Telephone   Canada      NaN   14313.48\n",
       "2   2004  Camping  Equipment   Cooking  Gear  TrailChef  Water    Bag  Telephone   Mexico      NaN  156644.47\n",
       "3   2004  Camping  Equipment   Cooking  Gear  TrailChef  Water    Bag  Telephone   Brazil      NaN   59191.72\n",
       "4   2004  Camping  Equipment   Cooking  Gear  TrailChef  Water    Bag  Telephone    Japan      NaN    7029.33\n",
       "..   ...      ...        ...       ...   ...        ...    ...    ...        ...      ...      ...        ...\n",
       "95  2004  Camping  Equipment   Cooking  Gear  TrailChef  Water    Bag       Mail  Finland      NaN    6615.84\n",
       "96  2004  Camping  Equipment   Cooking  Gear  TrailChef  Water    Bag       Mail  Denmark      NaN   52613.47\n",
       "97  2004  Camping  Equipment   Cooking  Gear  TrailChef  Water    Bag       Mail   France      NaN   41912.85\n",
       "98  2004  Camping  Equipment   Cooking  Gear  TrailChef  Water    Bag       Mail  Germany      NaN   59479.91\n",
       "99  2004  Camping  Equipment   Cooking  Gear  TrailChef  Water    Bag       Mail   United  Kingdom  156324.28\n",
       "\n",
       "[100 rows x 12 columns]"
      ]
     },
     "execution_count": 171,
     "metadata": {},
     "output_type": "execute_result"
    }
   ],
   "source": [
    "# Membaca file CSV\n",
    "df_local = pd.read_csv(\n",
    "    \"sales.csv\" # relative path dari file csv di lokal\n",
    ")\n",
    "\n",
    "df_local"
   ]
  },
  {
   "cell_type": "markdown",
   "metadata": {
    "id": "21f_Zaxm6epV"
   },
   "source": [
    "### 2.2.6 Melihat cuplikan DataFrame"
   ]
  },
  {
   "cell_type": "markdown",
   "metadata": {
    "id": "Ich6wKSwAQVx"
   },
   "source": [
    "Berdasarkan hasil DataFrame sebelumnya, terdapat banyak data yang disertai dengan baris (...). Terdapat method `head()` yang dapat digunakan untuk melihat hanya 5 baris pertama dari DataFrame. Parameter dalam `head()` juga dapat diubah sesuai jumlah baris yang ingin ditampilkan. Selain itu, terdapat method `tail()` yang dapat digunakan untuk melihat 5 baris terakhir."
   ]
  },
  {
   "cell_type": "code",
   "execution_count": 172,
   "metadata": {
    "colab": {
     "base_uri": "https://localhost:8080/",
     "height": 226
    },
    "id": "BTOzeq9ZAoO7",
    "outputId": "64acb423-d06b-45a3-c73b-283ec384aa7a"
   },
   "outputs": [
    {
     "data": {
      "text/html": [
       "<div>\n",
       "<style scoped>\n",
       "    .dataframe tbody tr th:only-of-type {\n",
       "        vertical-align: middle;\n",
       "    }\n",
       "\n",
       "    .dataframe tbody tr th {\n",
       "        vertical-align: top;\n",
       "    }\n",
       "\n",
       "    .dataframe thead th {\n",
       "        text-align: right;\n",
       "    }\n",
       "</style>\n",
       "<table border=\"1\" class=\"dataframe\">\n",
       "  <thead>\n",
       "    <tr style=\"text-align: right;\">\n",
       "      <th></th>\n",
       "      <th>animal_name</th>\n",
       "      <th>Hair</th>\n",
       "      <th>Feathers</th>\n",
       "      <th>Eggs</th>\n",
       "      <th>Milk</th>\n",
       "      <th>Airbone</th>\n",
       "      <th>Aquati</th>\n",
       "      <th>Predator</th>\n",
       "      <th>Toothed</th>\n",
       "      <th>Backbone</th>\n",
       "      <th>Breathes</th>\n",
       "      <th>Venomous</th>\n",
       "      <th>Fins</th>\n",
       "      <th>Legs</th>\n",
       "      <th>Tail</th>\n",
       "      <th>Domestic</th>\n",
       "      <th>Catsize</th>\n",
       "      <th>Type</th>\n",
       "    </tr>\n",
       "  </thead>\n",
       "  <tbody>\n",
       "    <tr>\n",
       "      <th>0</th>\n",
       "      <td>aardvark</td>\n",
       "      <td>1</td>\n",
       "      <td>0</td>\n",
       "      <td>0</td>\n",
       "      <td>1</td>\n",
       "      <td>0</td>\n",
       "      <td>0</td>\n",
       "      <td>1</td>\n",
       "      <td>1</td>\n",
       "      <td>1</td>\n",
       "      <td>1</td>\n",
       "      <td>0</td>\n",
       "      <td>0</td>\n",
       "      <td>4</td>\n",
       "      <td>0</td>\n",
       "      <td>0</td>\n",
       "      <td>1</td>\n",
       "      <td>1</td>\n",
       "    </tr>\n",
       "    <tr>\n",
       "      <th>1</th>\n",
       "      <td>antelope</td>\n",
       "      <td>1</td>\n",
       "      <td>0</td>\n",
       "      <td>0</td>\n",
       "      <td>1</td>\n",
       "      <td>0</td>\n",
       "      <td>0</td>\n",
       "      <td>0</td>\n",
       "      <td>1</td>\n",
       "      <td>1</td>\n",
       "      <td>1</td>\n",
       "      <td>0</td>\n",
       "      <td>0</td>\n",
       "      <td>4</td>\n",
       "      <td>1</td>\n",
       "      <td>0</td>\n",
       "      <td>1</td>\n",
       "      <td>1</td>\n",
       "    </tr>\n",
       "    <tr>\n",
       "      <th>2</th>\n",
       "      <td>bass</td>\n",
       "      <td>0</td>\n",
       "      <td>0</td>\n",
       "      <td>1</td>\n",
       "      <td>0</td>\n",
       "      <td>0</td>\n",
       "      <td>1</td>\n",
       "      <td>1</td>\n",
       "      <td>1</td>\n",
       "      <td>1</td>\n",
       "      <td>0</td>\n",
       "      <td>0</td>\n",
       "      <td>1</td>\n",
       "      <td>0</td>\n",
       "      <td>1</td>\n",
       "      <td>0</td>\n",
       "      <td>0</td>\n",
       "      <td>4</td>\n",
       "    </tr>\n",
       "    <tr>\n",
       "      <th>3</th>\n",
       "      <td>bear</td>\n",
       "      <td>1</td>\n",
       "      <td>0</td>\n",
       "      <td>0</td>\n",
       "      <td>1</td>\n",
       "      <td>0</td>\n",
       "      <td>0</td>\n",
       "      <td>1</td>\n",
       "      <td>1</td>\n",
       "      <td>1</td>\n",
       "      <td>1</td>\n",
       "      <td>0</td>\n",
       "      <td>0</td>\n",
       "      <td>4</td>\n",
       "      <td>0</td>\n",
       "      <td>0</td>\n",
       "      <td>1</td>\n",
       "      <td>1</td>\n",
       "    </tr>\n",
       "    <tr>\n",
       "      <th>4</th>\n",
       "      <td>boar</td>\n",
       "      <td>1</td>\n",
       "      <td>0</td>\n",
       "      <td>0</td>\n",
       "      <td>1</td>\n",
       "      <td>0</td>\n",
       "      <td>0</td>\n",
       "      <td>1</td>\n",
       "      <td>1</td>\n",
       "      <td>1</td>\n",
       "      <td>1</td>\n",
       "      <td>0</td>\n",
       "      <td>0</td>\n",
       "      <td>4</td>\n",
       "      <td>1</td>\n",
       "      <td>0</td>\n",
       "      <td>1</td>\n",
       "      <td>1</td>\n",
       "    </tr>\n",
       "  </tbody>\n",
       "</table>\n",
       "</div>"
      ],
      "text/plain": [
       "  animal_name  Hair  Feathers  Eggs  Milk  Airbone  Aquati  Predator  Toothed  Backbone  Breathes  Venomous  Fins  Legs  Tail  Domestic  Catsize  Type\n",
       "0    aardvark     1         0     0     1        0       0         1        1         1         1         0     0     4     0         0        1     1\n",
       "1    antelope     1         0     0     1        0       0         0        1         1         1         0     0     4     1         0        1     1\n",
       "2        bass     0         0     1     0        0       1         1        1         1         0         0     1     0     1         0        0     4\n",
       "3        bear     1         0     0     1        0       0         1        1         1         1         0     0     4     0         0        1     1\n",
       "4        boar     1         0     0     1        0       0         1        1         1         1         0     0     4     1         0        1     1"
      ]
     },
     "execution_count": 172,
     "metadata": {},
     "output_type": "execute_result"
    }
   ],
   "source": [
    "df_remote.head()"
   ]
  },
  {
   "cell_type": "code",
   "execution_count": 173,
   "metadata": {
    "colab": {
     "base_uri": "https://localhost:8080/",
     "height": 226
    },
    "id": "s05N9U3nArPJ",
    "outputId": "a70b8c35-3df6-498f-925e-b205d1082b8a"
   },
   "outputs": [
    {
     "data": {
      "text/html": [
       "<div>\n",
       "<style scoped>\n",
       "    .dataframe tbody tr th:only-of-type {\n",
       "        vertical-align: middle;\n",
       "    }\n",
       "\n",
       "    .dataframe tbody tr th {\n",
       "        vertical-align: top;\n",
       "    }\n",
       "\n",
       "    .dataframe thead th {\n",
       "        text-align: right;\n",
       "    }\n",
       "</style>\n",
       "<table border=\"1\" class=\"dataframe\">\n",
       "  <thead>\n",
       "    <tr style=\"text-align: right;\">\n",
       "      <th></th>\n",
       "      <th>animal_name</th>\n",
       "      <th>Hair</th>\n",
       "      <th>Feathers</th>\n",
       "      <th>Eggs</th>\n",
       "      <th>Milk</th>\n",
       "      <th>Airbone</th>\n",
       "      <th>Aquati</th>\n",
       "      <th>Predator</th>\n",
       "      <th>Toothed</th>\n",
       "      <th>Backbone</th>\n",
       "      <th>Breathes</th>\n",
       "      <th>Venomous</th>\n",
       "      <th>Fins</th>\n",
       "      <th>Legs</th>\n",
       "      <th>Tail</th>\n",
       "      <th>Domestic</th>\n",
       "      <th>Catsize</th>\n",
       "      <th>Type</th>\n",
       "    </tr>\n",
       "  </thead>\n",
       "  <tbody>\n",
       "    <tr>\n",
       "      <th>96</th>\n",
       "      <td>wallaby</td>\n",
       "      <td>1</td>\n",
       "      <td>0</td>\n",
       "      <td>0</td>\n",
       "      <td>1</td>\n",
       "      <td>0</td>\n",
       "      <td>0</td>\n",
       "      <td>0</td>\n",
       "      <td>1</td>\n",
       "      <td>1</td>\n",
       "      <td>1</td>\n",
       "      <td>0</td>\n",
       "      <td>0</td>\n",
       "      <td>2</td>\n",
       "      <td>1</td>\n",
       "      <td>0</td>\n",
       "      <td>1</td>\n",
       "      <td>1</td>\n",
       "    </tr>\n",
       "    <tr>\n",
       "      <th>97</th>\n",
       "      <td>wasp</td>\n",
       "      <td>1</td>\n",
       "      <td>0</td>\n",
       "      <td>1</td>\n",
       "      <td>0</td>\n",
       "      <td>1</td>\n",
       "      <td>0</td>\n",
       "      <td>0</td>\n",
       "      <td>0</td>\n",
       "      <td>0</td>\n",
       "      <td>1</td>\n",
       "      <td>1</td>\n",
       "      <td>0</td>\n",
       "      <td>6</td>\n",
       "      <td>0</td>\n",
       "      <td>0</td>\n",
       "      <td>0</td>\n",
       "      <td>6</td>\n",
       "    </tr>\n",
       "    <tr>\n",
       "      <th>98</th>\n",
       "      <td>wolf</td>\n",
       "      <td>1</td>\n",
       "      <td>0</td>\n",
       "      <td>0</td>\n",
       "      <td>1</td>\n",
       "      <td>0</td>\n",
       "      <td>0</td>\n",
       "      <td>1</td>\n",
       "      <td>1</td>\n",
       "      <td>1</td>\n",
       "      <td>1</td>\n",
       "      <td>0</td>\n",
       "      <td>0</td>\n",
       "      <td>4</td>\n",
       "      <td>1</td>\n",
       "      <td>0</td>\n",
       "      <td>1</td>\n",
       "      <td>1</td>\n",
       "    </tr>\n",
       "    <tr>\n",
       "      <th>99</th>\n",
       "      <td>worm</td>\n",
       "      <td>0</td>\n",
       "      <td>0</td>\n",
       "      <td>1</td>\n",
       "      <td>0</td>\n",
       "      <td>0</td>\n",
       "      <td>0</td>\n",
       "      <td>0</td>\n",
       "      <td>0</td>\n",
       "      <td>0</td>\n",
       "      <td>1</td>\n",
       "      <td>0</td>\n",
       "      <td>0</td>\n",
       "      <td>0</td>\n",
       "      <td>0</td>\n",
       "      <td>0</td>\n",
       "      <td>0</td>\n",
       "      <td>7</td>\n",
       "    </tr>\n",
       "    <tr>\n",
       "      <th>100</th>\n",
       "      <td>wren</td>\n",
       "      <td>0</td>\n",
       "      <td>1</td>\n",
       "      <td>1</td>\n",
       "      <td>0</td>\n",
       "      <td>1</td>\n",
       "      <td>0</td>\n",
       "      <td>0</td>\n",
       "      <td>0</td>\n",
       "      <td>1</td>\n",
       "      <td>1</td>\n",
       "      <td>0</td>\n",
       "      <td>0</td>\n",
       "      <td>2</td>\n",
       "      <td>1</td>\n",
       "      <td>0</td>\n",
       "      <td>0</td>\n",
       "      <td>2</td>\n",
       "    </tr>\n",
       "  </tbody>\n",
       "</table>\n",
       "</div>"
      ],
      "text/plain": [
       "    animal_name  Hair  Feathers  Eggs  Milk  Airbone  Aquati  Predator  Toothed  Backbone  Breathes  Venomous  Fins  Legs  Tail  Domestic  Catsize  Type\n",
       "96      wallaby     1         0     0     1        0       0         0        1         1         1         0     0     2     1         0        1     1\n",
       "97         wasp     1         0     1     0        1       0         0        0         0         1         1     0     6     0         0        0     6\n",
       "98         wolf     1         0     0     1        0       0         1        1         1         1         0     0     4     1         0        1     1\n",
       "99         worm     0         0     1     0        0       0         0        0         0         1         0     0     0     0         0        0     7\n",
       "100        wren     0         1     1     0        1       0         0        0         1         1         0     0     2     1         0        0     2"
      ]
     },
     "execution_count": 173,
     "metadata": {},
     "output_type": "execute_result"
    }
   ],
   "source": [
    "df_remote.tail()"
   ]
  },
  {
   "cell_type": "markdown",
   "metadata": {
    "id": "dO1fHxl04rwu"
   },
   "source": [
    "### 2.2.2 Menampilkan atribut dari objek DataFrame"
   ]
  },
  {
   "cell_type": "markdown",
   "metadata": {
    "id": "GqFiuM7n69_B"
   },
   "source": [
    "#### 1. Menampilkan dimensi DataFrame dengan atribut `shape`"
   ]
  },
  {
   "cell_type": "code",
   "execution_count": 174,
   "metadata": {
    "colab": {
     "base_uri": "https://localhost:8080/"
    },
    "id": "EQh3dCY87Dp2",
    "outputId": "ac305522-6870-469b-adf7-49aa1d47d3f7"
   },
   "outputs": [
    {
     "name": "stdout",
     "output_type": "stream",
     "text": [
      "Dimensi dari df adalah (101, 18)\n",
      "df terdiri atas 101 baris dan 18 kolom.\n"
     ]
    }
   ],
   "source": [
    "print(\"Dimensi dari df adalah\", df_remote.shape)\n",
    "print(\"df terdiri atas {} baris dan {} kolom.\".format(df_remote.shape[0], df_remote.shape[1]))"
   ]
  },
  {
   "cell_type": "markdown",
   "metadata": {
    "id": "RozL4rFx7DQD"
   },
   "source": [
    "#### 2. Menampilkan tipe data tiap kolom dengan atribut `dtypes`"
   ]
  },
  {
   "cell_type": "code",
   "execution_count": 175,
   "metadata": {
    "colab": {
     "base_uri": "https://localhost:8080/",
     "height": 649
    },
    "id": "Wc2tYxQd7OEQ",
    "outputId": "abd8e88b-9f75-4ac5-f0f0-40a34d81263d"
   },
   "outputs": [
    {
     "data": {
      "text/plain": [
       "animal_name    object\n",
       "Hair            int64\n",
       "Feathers        int64\n",
       "Eggs            int64\n",
       "Milk            int64\n",
       "Airbone         int64\n",
       "Aquati          int64\n",
       "Predator        int64\n",
       "Toothed         int64\n",
       "Backbone        int64\n",
       "Breathes        int64\n",
       "Venomous        int64\n",
       "Fins            int64\n",
       "Legs            int64\n",
       "Tail            int64\n",
       "Domestic        int64\n",
       "Catsize         int64\n",
       "Type            int64\n",
       "dtype: object"
      ]
     },
     "execution_count": 175,
     "metadata": {},
     "output_type": "execute_result"
    }
   ],
   "source": [
    "df_remote.dtypes"
   ]
  },
  {
   "cell_type": "markdown",
   "metadata": {
    "id": "eqnuZlOH7WTG"
   },
   "source": [
    "#### 3. Menampilkan statistik umum tiap kolom dengan method `describe()`"
   ]
  },
  {
   "cell_type": "code",
   "execution_count": 176,
   "metadata": {
    "colab": {
     "base_uri": "https://localhost:8080/",
     "height": 320
    },
    "id": "_HYHBBhd7YTd",
    "outputId": "8ca12bb1-a01e-4726-ce43-5bfe73a24076"
   },
   "outputs": [
    {
     "data": {
      "text/html": [
       "<div>\n",
       "<style scoped>\n",
       "    .dataframe tbody tr th:only-of-type {\n",
       "        vertical-align: middle;\n",
       "    }\n",
       "\n",
       "    .dataframe tbody tr th {\n",
       "        vertical-align: top;\n",
       "    }\n",
       "\n",
       "    .dataframe thead th {\n",
       "        text-align: right;\n",
       "    }\n",
       "</style>\n",
       "<table border=\"1\" class=\"dataframe\">\n",
       "  <thead>\n",
       "    <tr style=\"text-align: right;\">\n",
       "      <th></th>\n",
       "      <th>Hair</th>\n",
       "      <th>Feathers</th>\n",
       "      <th>Eggs</th>\n",
       "      <th>Milk</th>\n",
       "      <th>Airbone</th>\n",
       "      <th>Aquati</th>\n",
       "      <th>Predator</th>\n",
       "      <th>Toothed</th>\n",
       "      <th>Backbone</th>\n",
       "      <th>Breathes</th>\n",
       "      <th>Venomous</th>\n",
       "      <th>Fins</th>\n",
       "      <th>Legs</th>\n",
       "      <th>Tail</th>\n",
       "      <th>Domestic</th>\n",
       "      <th>Catsize</th>\n",
       "      <th>Type</th>\n",
       "    </tr>\n",
       "  </thead>\n",
       "  <tbody>\n",
       "    <tr>\n",
       "      <th>count</th>\n",
       "      <td>101.000000</td>\n",
       "      <td>101.000000</td>\n",
       "      <td>101.000000</td>\n",
       "      <td>101.000000</td>\n",
       "      <td>101.000000</td>\n",
       "      <td>101.000000</td>\n",
       "      <td>101.000000</td>\n",
       "      <td>101.000000</td>\n",
       "      <td>101.000000</td>\n",
       "      <td>101.000000</td>\n",
       "      <td>101.000000</td>\n",
       "      <td>101.000000</td>\n",
       "      <td>101.000000</td>\n",
       "      <td>101.000000</td>\n",
       "      <td>101.000000</td>\n",
       "      <td>101.000000</td>\n",
       "      <td>101.000000</td>\n",
       "    </tr>\n",
       "    <tr>\n",
       "      <th>mean</th>\n",
       "      <td>0.425743</td>\n",
       "      <td>0.198020</td>\n",
       "      <td>0.584158</td>\n",
       "      <td>0.405941</td>\n",
       "      <td>0.237624</td>\n",
       "      <td>0.356436</td>\n",
       "      <td>0.554455</td>\n",
       "      <td>0.603960</td>\n",
       "      <td>0.821782</td>\n",
       "      <td>0.792079</td>\n",
       "      <td>0.079208</td>\n",
       "      <td>0.168317</td>\n",
       "      <td>2.841584</td>\n",
       "      <td>0.742574</td>\n",
       "      <td>0.128713</td>\n",
       "      <td>0.435644</td>\n",
       "      <td>2.831683</td>\n",
       "    </tr>\n",
       "    <tr>\n",
       "      <th>std</th>\n",
       "      <td>0.496921</td>\n",
       "      <td>0.400495</td>\n",
       "      <td>0.495325</td>\n",
       "      <td>0.493522</td>\n",
       "      <td>0.427750</td>\n",
       "      <td>0.481335</td>\n",
       "      <td>0.499505</td>\n",
       "      <td>0.491512</td>\n",
       "      <td>0.384605</td>\n",
       "      <td>0.407844</td>\n",
       "      <td>0.271410</td>\n",
       "      <td>0.376013</td>\n",
       "      <td>2.033385</td>\n",
       "      <td>0.439397</td>\n",
       "      <td>0.336552</td>\n",
       "      <td>0.498314</td>\n",
       "      <td>2.102709</td>\n",
       "    </tr>\n",
       "    <tr>\n",
       "      <th>min</th>\n",
       "      <td>0.000000</td>\n",
       "      <td>0.000000</td>\n",
       "      <td>0.000000</td>\n",
       "      <td>0.000000</td>\n",
       "      <td>0.000000</td>\n",
       "      <td>0.000000</td>\n",
       "      <td>0.000000</td>\n",
       "      <td>0.000000</td>\n",
       "      <td>0.000000</td>\n",
       "      <td>0.000000</td>\n",
       "      <td>0.000000</td>\n",
       "      <td>0.000000</td>\n",
       "      <td>0.000000</td>\n",
       "      <td>0.000000</td>\n",
       "      <td>0.000000</td>\n",
       "      <td>0.000000</td>\n",
       "      <td>1.000000</td>\n",
       "    </tr>\n",
       "    <tr>\n",
       "      <th>25%</th>\n",
       "      <td>0.000000</td>\n",
       "      <td>0.000000</td>\n",
       "      <td>0.000000</td>\n",
       "      <td>0.000000</td>\n",
       "      <td>0.000000</td>\n",
       "      <td>0.000000</td>\n",
       "      <td>0.000000</td>\n",
       "      <td>0.000000</td>\n",
       "      <td>1.000000</td>\n",
       "      <td>1.000000</td>\n",
       "      <td>0.000000</td>\n",
       "      <td>0.000000</td>\n",
       "      <td>2.000000</td>\n",
       "      <td>0.000000</td>\n",
       "      <td>0.000000</td>\n",
       "      <td>0.000000</td>\n",
       "      <td>1.000000</td>\n",
       "    </tr>\n",
       "    <tr>\n",
       "      <th>50%</th>\n",
       "      <td>0.000000</td>\n",
       "      <td>0.000000</td>\n",
       "      <td>1.000000</td>\n",
       "      <td>0.000000</td>\n",
       "      <td>0.000000</td>\n",
       "      <td>0.000000</td>\n",
       "      <td>1.000000</td>\n",
       "      <td>1.000000</td>\n",
       "      <td>1.000000</td>\n",
       "      <td>1.000000</td>\n",
       "      <td>0.000000</td>\n",
       "      <td>0.000000</td>\n",
       "      <td>4.000000</td>\n",
       "      <td>1.000000</td>\n",
       "      <td>0.000000</td>\n",
       "      <td>0.000000</td>\n",
       "      <td>2.000000</td>\n",
       "    </tr>\n",
       "    <tr>\n",
       "      <th>75%</th>\n",
       "      <td>1.000000</td>\n",
       "      <td>0.000000</td>\n",
       "      <td>1.000000</td>\n",
       "      <td>1.000000</td>\n",
       "      <td>0.000000</td>\n",
       "      <td>1.000000</td>\n",
       "      <td>1.000000</td>\n",
       "      <td>1.000000</td>\n",
       "      <td>1.000000</td>\n",
       "      <td>1.000000</td>\n",
       "      <td>0.000000</td>\n",
       "      <td>0.000000</td>\n",
       "      <td>4.000000</td>\n",
       "      <td>1.000000</td>\n",
       "      <td>0.000000</td>\n",
       "      <td>1.000000</td>\n",
       "      <td>4.000000</td>\n",
       "    </tr>\n",
       "    <tr>\n",
       "      <th>max</th>\n",
       "      <td>1.000000</td>\n",
       "      <td>1.000000</td>\n",
       "      <td>1.000000</td>\n",
       "      <td>1.000000</td>\n",
       "      <td>1.000000</td>\n",
       "      <td>1.000000</td>\n",
       "      <td>1.000000</td>\n",
       "      <td>1.000000</td>\n",
       "      <td>1.000000</td>\n",
       "      <td>1.000000</td>\n",
       "      <td>1.000000</td>\n",
       "      <td>1.000000</td>\n",
       "      <td>8.000000</td>\n",
       "      <td>1.000000</td>\n",
       "      <td>1.000000</td>\n",
       "      <td>1.000000</td>\n",
       "      <td>7.000000</td>\n",
       "    </tr>\n",
       "  </tbody>\n",
       "</table>\n",
       "</div>"
      ],
      "text/plain": [
       "             Hair    Feathers        Eggs        Milk     Airbone      Aquati    Predator     Toothed    Backbone    Breathes    Venomous        Fins        Legs        Tail    Domestic     Catsize        Type\n",
       "count  101.000000  101.000000  101.000000  101.000000  101.000000  101.000000  101.000000  101.000000  101.000000  101.000000  101.000000  101.000000  101.000000  101.000000  101.000000  101.000000  101.000000\n",
       "mean     0.425743    0.198020    0.584158    0.405941    0.237624    0.356436    0.554455    0.603960    0.821782    0.792079    0.079208    0.168317    2.841584    0.742574    0.128713    0.435644    2.831683\n",
       "std      0.496921    0.400495    0.495325    0.493522    0.427750    0.481335    0.499505    0.491512    0.384605    0.407844    0.271410    0.376013    2.033385    0.439397    0.336552    0.498314    2.102709\n",
       "min      0.000000    0.000000    0.000000    0.000000    0.000000    0.000000    0.000000    0.000000    0.000000    0.000000    0.000000    0.000000    0.000000    0.000000    0.000000    0.000000    1.000000\n",
       "25%      0.000000    0.000000    0.000000    0.000000    0.000000    0.000000    0.000000    0.000000    1.000000    1.000000    0.000000    0.000000    2.000000    0.000000    0.000000    0.000000    1.000000\n",
       "50%      0.000000    0.000000    1.000000    0.000000    0.000000    0.000000    1.000000    1.000000    1.000000    1.000000    0.000000    0.000000    4.000000    1.000000    0.000000    0.000000    2.000000\n",
       "75%      1.000000    0.000000    1.000000    1.000000    0.000000    1.000000    1.000000    1.000000    1.000000    1.000000    0.000000    0.000000    4.000000    1.000000    0.000000    1.000000    4.000000\n",
       "max      1.000000    1.000000    1.000000    1.000000    1.000000    1.000000    1.000000    1.000000    1.000000    1.000000    1.000000    1.000000    8.000000    1.000000    1.000000    1.000000    7.000000"
      ]
     },
     "execution_count": 176,
     "metadata": {},
     "output_type": "execute_result"
    }
   ],
   "source": [
    "df_remote.describe()"
   ]
  },
  {
   "cell_type": "markdown",
   "metadata": {
    "id": "c9VNHQe57w7R"
   },
   "source": [
    "#### 4. Menampilkan statistik untuk kolom yang diinginkan dengan method `describe()`"
   ]
  },
  {
   "cell_type": "code",
   "execution_count": 177,
   "metadata": {
    "colab": {
     "base_uri": "https://localhost:8080/",
     "height": 210
    },
    "id": "FaqM6niW75GZ",
    "outputId": "033f5301-16fb-47eb-9079-47a662cf6f62"
   },
   "outputs": [
    {
     "data": {
      "text/plain": [
       "count      101\n",
       "unique     100\n",
       "top       frog\n",
       "freq         2\n",
       "Name: animal_name, dtype: object"
      ]
     },
     "execution_count": 177,
     "metadata": {},
     "output_type": "execute_result"
    }
   ],
   "source": [
    "df_remote['animal_name'].describe()"
   ]
  },
  {
   "cell_type": "markdown",
   "metadata": {
    "id": "46-irwpn8LmQ"
   },
   "source": [
    "#### 5. Menghitung jumlah elemen tidak null tiap kolom dengan method `count()`"
   ]
  },
  {
   "cell_type": "code",
   "execution_count": 178,
   "metadata": {
    "colab": {
     "base_uri": "https://localhost:8080/"
    },
    "id": "bHjzh3s08m2H",
    "outputId": "e2d76735-c991-4392-8e0b-a292cd6e968f"
   },
   "outputs": [
    {
     "name": "stdout",
     "output_type": "stream",
     "text": [
      "Count untuk df_remote\n",
      " animal_name    101\n",
      "Hair           101\n",
      "Feathers       101\n",
      "Eggs           101\n",
      "Milk           101\n",
      "Airbone        101\n",
      "Aquati         101\n",
      "Predator       101\n",
      "Toothed        101\n",
      "Backbone       101\n",
      "Breathes       101\n",
      "Venomous       101\n",
      "Fins           101\n",
      "Legs           101\n",
      "Tail           101\n",
      "Domestic       101\n",
      "Catsize        101\n",
      "Type           101\n",
      "dtype: int64\n"
     ]
    }
   ],
   "source": [
    "print(\"Count untuk df_remote\\n\", df_remote.count())"
   ]
  },
  {
   "cell_type": "markdown",
   "metadata": {
    "id": "tKxzeym88u46"
   },
   "source": [
    "Berdasarkan kode di atas, diketahui bahwa df_remote seluruhnya terhitung 101 baris, yang umumnya, berarti tidak ada nilai null."
   ]
  },
  {
   "cell_type": "markdown",
   "metadata": {
    "id": "UZKp2uMQ_ufu"
   },
   "source": [
    "### 2.2.3 Mengakses baris dan kolom dalam  DataFrame"
   ]
  },
  {
   "cell_type": "markdown",
   "metadata": {
    "id": "rDQ09ZIIAkqC"
   },
   "source": [
    "Terdapat beberapa cara dalam mengakses kolom suatu DataFrame, diantaranya sebagai berikut."
   ]
  },
  {
   "cell_type": "markdown",
   "metadata": {
    "id": "I5mkE7SxAu6u"
   },
   "source": [
    "#### 1. Mengakses kolom sebagai series"
   ]
  },
  {
   "cell_type": "code",
   "execution_count": 179,
   "metadata": {
    "colab": {
     "base_uri": "https://localhost:8080/",
     "height": 477
    },
    "id": "IcrMysGCAyxz",
    "outputId": "7c4e3e59-c4c3-4bfd-94dc-9e4336d12005"
   },
   "outputs": [
    {
     "name": "stdout",
     "output_type": "stream",
     "text": [
      "<class 'pandas.core.series.Series'>\n"
     ]
    },
    {
     "data": {
      "text/plain": [
       "0      1\n",
       "1      1\n",
       "2      0\n",
       "3      1\n",
       "4      1\n",
       "      ..\n",
       "96     1\n",
       "97     1\n",
       "98     1\n",
       "99     0\n",
       "100    0\n",
       "Name: Hair, Length: 101, dtype: int64"
      ]
     },
     "execution_count": 179,
     "metadata": {},
     "output_type": "execute_result"
    }
   ],
   "source": [
    "# Mengakses kolom sebagai Series\n",
    "df_remote_hair = df_remote['Hair']\n",
    "print(type(df_remote_hair))\n",
    "df_remote_hair"
   ]
  },
  {
   "cell_type": "markdown",
   "metadata": {
    "id": "ad8A8BIMA_kk"
   },
   "source": [
    "#### 2. Mengakses kolom sebagai DataFrame"
   ]
  },
  {
   "cell_type": "code",
   "execution_count": 180,
   "metadata": {
    "colab": {
     "base_uri": "https://localhost:8080/",
     "height": 442
    },
    "id": "EcbzgyUCBBwz",
    "outputId": "ed5ae9b7-3d48-4ea6-d8a4-89178192bae4"
   },
   "outputs": [
    {
     "name": "stdout",
     "output_type": "stream",
     "text": [
      "<class 'pandas.core.frame.DataFrame'>\n"
     ]
    },
    {
     "data": {
      "text/html": [
       "<div>\n",
       "<style scoped>\n",
       "    .dataframe tbody tr th:only-of-type {\n",
       "        vertical-align: middle;\n",
       "    }\n",
       "\n",
       "    .dataframe tbody tr th {\n",
       "        vertical-align: top;\n",
       "    }\n",
       "\n",
       "    .dataframe thead th {\n",
       "        text-align: right;\n",
       "    }\n",
       "</style>\n",
       "<table border=\"1\" class=\"dataframe\">\n",
       "  <thead>\n",
       "    <tr style=\"text-align: right;\">\n",
       "      <th></th>\n",
       "      <th>Eggs</th>\n",
       "    </tr>\n",
       "  </thead>\n",
       "  <tbody>\n",
       "    <tr>\n",
       "      <th>0</th>\n",
       "      <td>0</td>\n",
       "    </tr>\n",
       "    <tr>\n",
       "      <th>1</th>\n",
       "      <td>0</td>\n",
       "    </tr>\n",
       "    <tr>\n",
       "      <th>2</th>\n",
       "      <td>1</td>\n",
       "    </tr>\n",
       "    <tr>\n",
       "      <th>3</th>\n",
       "      <td>0</td>\n",
       "    </tr>\n",
       "    <tr>\n",
       "      <th>4</th>\n",
       "      <td>0</td>\n",
       "    </tr>\n",
       "    <tr>\n",
       "      <th>...</th>\n",
       "      <td>...</td>\n",
       "    </tr>\n",
       "    <tr>\n",
       "      <th>96</th>\n",
       "      <td>0</td>\n",
       "    </tr>\n",
       "    <tr>\n",
       "      <th>97</th>\n",
       "      <td>1</td>\n",
       "    </tr>\n",
       "    <tr>\n",
       "      <th>98</th>\n",
       "      <td>0</td>\n",
       "    </tr>\n",
       "    <tr>\n",
       "      <th>99</th>\n",
       "      <td>1</td>\n",
       "    </tr>\n",
       "    <tr>\n",
       "      <th>100</th>\n",
       "      <td>1</td>\n",
       "    </tr>\n",
       "  </tbody>\n",
       "</table>\n",
       "<p>101 rows × 1 columns</p>\n",
       "</div>"
      ],
      "text/plain": [
       "     Eggs\n",
       "0       0\n",
       "1       0\n",
       "2       1\n",
       "3       0\n",
       "4       0\n",
       "..    ...\n",
       "96      0\n",
       "97      1\n",
       "98      0\n",
       "99      1\n",
       "100     1\n",
       "\n",
       "[101 rows x 1 columns]"
      ]
     },
     "execution_count": 180,
     "metadata": {},
     "output_type": "execute_result"
    }
   ],
   "source": [
    "# Mengakses kolom sebagai DataFrame\n",
    "df_remote_eggs = df_remote[['Eggs']]\n",
    "print(type(df_remote_eggs))\n",
    "df_remote_eggs"
   ]
  },
  {
   "cell_type": "markdown",
   "metadata": {
    "id": "iowwC-YYBPKA"
   },
   "source": [
    "#### 3. Mengakses beberapa kolom sebagai DataFrame"
   ]
  },
  {
   "cell_type": "code",
   "execution_count": 181,
   "metadata": {
    "colab": {
     "base_uri": "https://localhost:8080/",
     "height": 424
    },
    "id": "UTtMu8S-BTRr",
    "outputId": "57055439-0581-4fa9-bc9d-89ca33a52d4c"
   },
   "outputs": [
    {
     "data": {
      "text/html": [
       "<div>\n",
       "<style scoped>\n",
       "    .dataframe tbody tr th:only-of-type {\n",
       "        vertical-align: middle;\n",
       "    }\n",
       "\n",
       "    .dataframe tbody tr th {\n",
       "        vertical-align: top;\n",
       "    }\n",
       "\n",
       "    .dataframe thead th {\n",
       "        text-align: right;\n",
       "    }\n",
       "</style>\n",
       "<table border=\"1\" class=\"dataframe\">\n",
       "  <thead>\n",
       "    <tr style=\"text-align: right;\">\n",
       "      <th></th>\n",
       "      <th>Hair</th>\n",
       "      <th>Eggs</th>\n",
       "    </tr>\n",
       "  </thead>\n",
       "  <tbody>\n",
       "    <tr>\n",
       "      <th>0</th>\n",
       "      <td>1</td>\n",
       "      <td>0</td>\n",
       "    </tr>\n",
       "    <tr>\n",
       "      <th>1</th>\n",
       "      <td>1</td>\n",
       "      <td>0</td>\n",
       "    </tr>\n",
       "    <tr>\n",
       "      <th>2</th>\n",
       "      <td>0</td>\n",
       "      <td>1</td>\n",
       "    </tr>\n",
       "    <tr>\n",
       "      <th>3</th>\n",
       "      <td>1</td>\n",
       "      <td>0</td>\n",
       "    </tr>\n",
       "    <tr>\n",
       "      <th>4</th>\n",
       "      <td>1</td>\n",
       "      <td>0</td>\n",
       "    </tr>\n",
       "    <tr>\n",
       "      <th>...</th>\n",
       "      <td>...</td>\n",
       "      <td>...</td>\n",
       "    </tr>\n",
       "    <tr>\n",
       "      <th>96</th>\n",
       "      <td>1</td>\n",
       "      <td>0</td>\n",
       "    </tr>\n",
       "    <tr>\n",
       "      <th>97</th>\n",
       "      <td>1</td>\n",
       "      <td>1</td>\n",
       "    </tr>\n",
       "    <tr>\n",
       "      <th>98</th>\n",
       "      <td>1</td>\n",
       "      <td>0</td>\n",
       "    </tr>\n",
       "    <tr>\n",
       "      <th>99</th>\n",
       "      <td>0</td>\n",
       "      <td>1</td>\n",
       "    </tr>\n",
       "    <tr>\n",
       "      <th>100</th>\n",
       "      <td>0</td>\n",
       "      <td>1</td>\n",
       "    </tr>\n",
       "  </tbody>\n",
       "</table>\n",
       "<p>101 rows × 2 columns</p>\n",
       "</div>"
      ],
      "text/plain": [
       "     Hair  Eggs\n",
       "0       1     0\n",
       "1       1     0\n",
       "2       0     1\n",
       "3       1     0\n",
       "4       1     0\n",
       "..    ...   ...\n",
       "96      1     0\n",
       "97      1     1\n",
       "98      1     0\n",
       "99      0     1\n",
       "100     0     1\n",
       "\n",
       "[101 rows x 2 columns]"
      ]
     },
     "execution_count": 181,
     "metadata": {},
     "output_type": "execute_result"
    }
   ],
   "source": [
    "# Mengakses lebih dari 1 kolom sebagai DataFrame\n",
    "df_hair_eggs = df_remote[['Hair', 'Eggs']]\n",
    "df_hair_eggs"
   ]
  },
  {
   "cell_type": "markdown",
   "metadata": {
    "id": "crIhN0onBS8J"
   },
   "source": [
    "Selain mengakses kolom, terdapat pula beberapa cara untuk mengakses baris dan kolom dalam DataFrame, diantaranya menggunakan `loc` dan `iloc`."
   ]
  },
  {
   "cell_type": "markdown",
   "metadata": {
    "id": "z2ai_rcrHUeu"
   },
   "source": [
    "Umumnya, `loc` digunakan untuk mengakses baris atau kolom berdasarkan label (nama kolom atau indeks). Indeks yang disebutkan dalam `loc` termasuk (inclusive) dalam pemilihan. Sedangkan `iloc` digunakan untuk mengakses data berdasarkan posisi integer baris dan kolom. Indeks yang disebutkan dalam `iloc` tidak termasuk (exclusive) pada slicing."
   ]
  },
  {
   "cell_type": "markdown",
   "metadata": {
    "id": "cD85Mpq-Dic-"
   },
   "source": [
    "#### 1. Mengakses baris menggunakan `loc`"
   ]
  },
  {
   "cell_type": "code",
   "execution_count": 182,
   "metadata": {
    "colab": {
     "base_uri": "https://localhost:8080/",
     "height": 195
    },
    "id": "_oGlHv7MDkKa",
    "outputId": "58237f54-edac-4974-b1fa-7cac75f00391"
   },
   "outputs": [
    {
     "data": {
      "text/html": [
       "<div>\n",
       "<style scoped>\n",
       "    .dataframe tbody tr th:only-of-type {\n",
       "        vertical-align: middle;\n",
       "    }\n",
       "\n",
       "    .dataframe tbody tr th {\n",
       "        vertical-align: top;\n",
       "    }\n",
       "\n",
       "    .dataframe thead th {\n",
       "        text-align: right;\n",
       "    }\n",
       "</style>\n",
       "<table border=\"1\" class=\"dataframe\">\n",
       "  <thead>\n",
       "    <tr style=\"text-align: right;\">\n",
       "      <th></th>\n",
       "      <th>animal_name</th>\n",
       "      <th>Hair</th>\n",
       "      <th>Feathers</th>\n",
       "      <th>Eggs</th>\n",
       "      <th>Milk</th>\n",
       "      <th>Airbone</th>\n",
       "      <th>Aquati</th>\n",
       "      <th>Predator</th>\n",
       "      <th>Toothed</th>\n",
       "      <th>Backbone</th>\n",
       "      <th>Breathes</th>\n",
       "      <th>Venomous</th>\n",
       "      <th>Fins</th>\n",
       "      <th>Legs</th>\n",
       "      <th>Tail</th>\n",
       "      <th>Domestic</th>\n",
       "      <th>Catsize</th>\n",
       "      <th>Type</th>\n",
       "    </tr>\n",
       "  </thead>\n",
       "  <tbody>\n",
       "    <tr>\n",
       "      <th>1</th>\n",
       "      <td>antelope</td>\n",
       "      <td>1</td>\n",
       "      <td>0</td>\n",
       "      <td>0</td>\n",
       "      <td>1</td>\n",
       "      <td>0</td>\n",
       "      <td>0</td>\n",
       "      <td>0</td>\n",
       "      <td>1</td>\n",
       "      <td>1</td>\n",
       "      <td>1</td>\n",
       "      <td>0</td>\n",
       "      <td>0</td>\n",
       "      <td>4</td>\n",
       "      <td>1</td>\n",
       "      <td>0</td>\n",
       "      <td>1</td>\n",
       "      <td>1</td>\n",
       "    </tr>\n",
       "    <tr>\n",
       "      <th>2</th>\n",
       "      <td>bass</td>\n",
       "      <td>0</td>\n",
       "      <td>0</td>\n",
       "      <td>1</td>\n",
       "      <td>0</td>\n",
       "      <td>0</td>\n",
       "      <td>1</td>\n",
       "      <td>1</td>\n",
       "      <td>1</td>\n",
       "      <td>1</td>\n",
       "      <td>0</td>\n",
       "      <td>0</td>\n",
       "      <td>1</td>\n",
       "      <td>0</td>\n",
       "      <td>1</td>\n",
       "      <td>0</td>\n",
       "      <td>0</td>\n",
       "      <td>4</td>\n",
       "    </tr>\n",
       "    <tr>\n",
       "      <th>3</th>\n",
       "      <td>bear</td>\n",
       "      <td>1</td>\n",
       "      <td>0</td>\n",
       "      <td>0</td>\n",
       "      <td>1</td>\n",
       "      <td>0</td>\n",
       "      <td>0</td>\n",
       "      <td>1</td>\n",
       "      <td>1</td>\n",
       "      <td>1</td>\n",
       "      <td>1</td>\n",
       "      <td>0</td>\n",
       "      <td>0</td>\n",
       "      <td>4</td>\n",
       "      <td>0</td>\n",
       "      <td>0</td>\n",
       "      <td>1</td>\n",
       "      <td>1</td>\n",
       "    </tr>\n",
       "    <tr>\n",
       "      <th>4</th>\n",
       "      <td>boar</td>\n",
       "      <td>1</td>\n",
       "      <td>0</td>\n",
       "      <td>0</td>\n",
       "      <td>1</td>\n",
       "      <td>0</td>\n",
       "      <td>0</td>\n",
       "      <td>1</td>\n",
       "      <td>1</td>\n",
       "      <td>1</td>\n",
       "      <td>1</td>\n",
       "      <td>0</td>\n",
       "      <td>0</td>\n",
       "      <td>4</td>\n",
       "      <td>1</td>\n",
       "      <td>0</td>\n",
       "      <td>1</td>\n",
       "      <td>1</td>\n",
       "    </tr>\n",
       "  </tbody>\n",
       "</table>\n",
       "</div>"
      ],
      "text/plain": [
       "  animal_name  Hair  Feathers  Eggs  Milk  Airbone  Aquati  Predator  Toothed  Backbone  Breathes  Venomous  Fins  Legs  Tail  Domestic  Catsize  Type\n",
       "1    antelope     1         0     0     1        0       0         0        1         1         1         0     0     4     1         0        1     1\n",
       "2        bass     0         0     1     0        0       1         1        1         1         0         0     1     0     1         0        0     4\n",
       "3        bear     1         0     0     1        0       0         1        1         1         1         0     0     4     0         0        1     1\n",
       "4        boar     1         0     0     1        0       0         1        1         1         1         0     0     4     1         0        1     1"
      ]
     },
     "execution_count": 182,
     "metadata": {},
     "output_type": "execute_result"
    }
   ],
   "source": [
    "# Mengakses baris 1 sampai dengan 4 menggunakan loc\n",
    "df_remote.loc[1:4]  # range inklusif"
   ]
  },
  {
   "cell_type": "markdown",
   "metadata": {
    "id": "wWOzvToUDsKO"
   },
   "source": [
    "#### 2. Mengakses baris 1 sampai dengan 4 menggunakan `iloc`"
   ]
  },
  {
   "cell_type": "code",
   "execution_count": 183,
   "metadata": {
    "colab": {
     "base_uri": "https://localhost:8080/",
     "height": 195
    },
    "id": "meEvaPZlDwQZ",
    "outputId": "e059cb3b-f7f6-4263-c162-eef139a01991"
   },
   "outputs": [
    {
     "data": {
      "text/html": [
       "<div>\n",
       "<style scoped>\n",
       "    .dataframe tbody tr th:only-of-type {\n",
       "        vertical-align: middle;\n",
       "    }\n",
       "\n",
       "    .dataframe tbody tr th {\n",
       "        vertical-align: top;\n",
       "    }\n",
       "\n",
       "    .dataframe thead th {\n",
       "        text-align: right;\n",
       "    }\n",
       "</style>\n",
       "<table border=\"1\" class=\"dataframe\">\n",
       "  <thead>\n",
       "    <tr style=\"text-align: right;\">\n",
       "      <th></th>\n",
       "      <th>animal_name</th>\n",
       "      <th>Hair</th>\n",
       "      <th>Feathers</th>\n",
       "      <th>Eggs</th>\n",
       "      <th>Milk</th>\n",
       "      <th>Airbone</th>\n",
       "      <th>Aquati</th>\n",
       "      <th>Predator</th>\n",
       "      <th>Toothed</th>\n",
       "      <th>Backbone</th>\n",
       "      <th>Breathes</th>\n",
       "      <th>Venomous</th>\n",
       "      <th>Fins</th>\n",
       "      <th>Legs</th>\n",
       "      <th>Tail</th>\n",
       "      <th>Domestic</th>\n",
       "      <th>Catsize</th>\n",
       "      <th>Type</th>\n",
       "    </tr>\n",
       "  </thead>\n",
       "  <tbody>\n",
       "    <tr>\n",
       "      <th>1</th>\n",
       "      <td>antelope</td>\n",
       "      <td>1</td>\n",
       "      <td>0</td>\n",
       "      <td>0</td>\n",
       "      <td>1</td>\n",
       "      <td>0</td>\n",
       "      <td>0</td>\n",
       "      <td>0</td>\n",
       "      <td>1</td>\n",
       "      <td>1</td>\n",
       "      <td>1</td>\n",
       "      <td>0</td>\n",
       "      <td>0</td>\n",
       "      <td>4</td>\n",
       "      <td>1</td>\n",
       "      <td>0</td>\n",
       "      <td>1</td>\n",
       "      <td>1</td>\n",
       "    </tr>\n",
       "    <tr>\n",
       "      <th>2</th>\n",
       "      <td>bass</td>\n",
       "      <td>0</td>\n",
       "      <td>0</td>\n",
       "      <td>1</td>\n",
       "      <td>0</td>\n",
       "      <td>0</td>\n",
       "      <td>1</td>\n",
       "      <td>1</td>\n",
       "      <td>1</td>\n",
       "      <td>1</td>\n",
       "      <td>0</td>\n",
       "      <td>0</td>\n",
       "      <td>1</td>\n",
       "      <td>0</td>\n",
       "      <td>1</td>\n",
       "      <td>0</td>\n",
       "      <td>0</td>\n",
       "      <td>4</td>\n",
       "    </tr>\n",
       "    <tr>\n",
       "      <th>3</th>\n",
       "      <td>bear</td>\n",
       "      <td>1</td>\n",
       "      <td>0</td>\n",
       "      <td>0</td>\n",
       "      <td>1</td>\n",
       "      <td>0</td>\n",
       "      <td>0</td>\n",
       "      <td>1</td>\n",
       "      <td>1</td>\n",
       "      <td>1</td>\n",
       "      <td>1</td>\n",
       "      <td>0</td>\n",
       "      <td>0</td>\n",
       "      <td>4</td>\n",
       "      <td>0</td>\n",
       "      <td>0</td>\n",
       "      <td>1</td>\n",
       "      <td>1</td>\n",
       "    </tr>\n",
       "    <tr>\n",
       "      <th>4</th>\n",
       "      <td>boar</td>\n",
       "      <td>1</td>\n",
       "      <td>0</td>\n",
       "      <td>0</td>\n",
       "      <td>1</td>\n",
       "      <td>0</td>\n",
       "      <td>0</td>\n",
       "      <td>1</td>\n",
       "      <td>1</td>\n",
       "      <td>1</td>\n",
       "      <td>1</td>\n",
       "      <td>0</td>\n",
       "      <td>0</td>\n",
       "      <td>4</td>\n",
       "      <td>1</td>\n",
       "      <td>0</td>\n",
       "      <td>1</td>\n",
       "      <td>1</td>\n",
       "    </tr>\n",
       "  </tbody>\n",
       "</table>\n",
       "</div>"
      ],
      "text/plain": [
       "  animal_name  Hair  Feathers  Eggs  Milk  Airbone  Aquati  Predator  Toothed  Backbone  Breathes  Venomous  Fins  Legs  Tail  Domestic  Catsize  Type\n",
       "1    antelope     1         0     0     1        0       0         0        1         1         1         0     0     4     1         0        1     1\n",
       "2        bass     0         0     1     0        0       1         1        1         1         0         0     1     0     1         0        0     4\n",
       "3        bear     1         0     0     1        0       0         1        1         1         1         0     0     4     0         0        1     1\n",
       "4        boar     1         0     0     1        0       0         1        1         1         1         0     0     4     1         0        1     1"
      ]
     },
     "execution_count": 183,
     "metadata": {},
     "output_type": "execute_result"
    }
   ],
   "source": [
    "# Mengakses baris 1 sampai dengan 4 menggunakan iloc\n",
    "df_remote.iloc[1:5] # range eksklusif"
   ]
  },
  {
   "cell_type": "markdown",
   "metadata": {
    "id": "xgqumfyHEPSS"
   },
   "source": [
    "#### 3. Mengakses baris 1 sampai dengan 4, namun hanya kolom hair dan eggs saja menggunakan `loc`"
   ]
  },
  {
   "cell_type": "code",
   "execution_count": 184,
   "metadata": {
    "colab": {
     "base_uri": "https://localhost:8080/",
     "height": 175
    },
    "id": "V4GD-kSUEA2m",
    "outputId": "e9d75dcf-fc63-410d-a6c7-3649a5a94deb"
   },
   "outputs": [
    {
     "data": {
      "text/html": [
       "<div>\n",
       "<style scoped>\n",
       "    .dataframe tbody tr th:only-of-type {\n",
       "        vertical-align: middle;\n",
       "    }\n",
       "\n",
       "    .dataframe tbody tr th {\n",
       "        vertical-align: top;\n",
       "    }\n",
       "\n",
       "    .dataframe thead th {\n",
       "        text-align: right;\n",
       "    }\n",
       "</style>\n",
       "<table border=\"1\" class=\"dataframe\">\n",
       "  <thead>\n",
       "    <tr style=\"text-align: right;\">\n",
       "      <th></th>\n",
       "      <th>Hair</th>\n",
       "      <th>Eggs</th>\n",
       "    </tr>\n",
       "  </thead>\n",
       "  <tbody>\n",
       "    <tr>\n",
       "      <th>1</th>\n",
       "      <td>1</td>\n",
       "      <td>0</td>\n",
       "    </tr>\n",
       "    <tr>\n",
       "      <th>2</th>\n",
       "      <td>0</td>\n",
       "      <td>1</td>\n",
       "    </tr>\n",
       "    <tr>\n",
       "      <th>3</th>\n",
       "      <td>1</td>\n",
       "      <td>0</td>\n",
       "    </tr>\n",
       "    <tr>\n",
       "      <th>4</th>\n",
       "      <td>1</td>\n",
       "      <td>0</td>\n",
       "    </tr>\n",
       "  </tbody>\n",
       "</table>\n",
       "</div>"
      ],
      "text/plain": [
       "   Hair  Eggs\n",
       "1     1     0\n",
       "2     0     1\n",
       "3     1     0\n",
       "4     1     0"
      ]
     },
     "execution_count": 184,
     "metadata": {},
     "output_type": "execute_result"
    }
   ],
   "source": [
    "# Mengakses baris 1 sampai dengan 4, namun hanya kolom hair dan eggs saja, menggunakan loc\n",
    "df_remote.loc[1:4, [\"Hair\", \"Eggs\"]]"
   ]
  },
  {
   "cell_type": "markdown",
   "metadata": {
    "id": "RPRLPpxCEcK3"
   },
   "source": [
    "#### 4. Mengakses baris 1 sampai dengan 4, namun hanya kolom hair, feathers, dan eggs saja menggunakan `iloc`"
   ]
  },
  {
   "cell_type": "code",
   "execution_count": 185,
   "metadata": {
    "colab": {
     "base_uri": "https://localhost:8080/",
     "height": 175
    },
    "id": "WFm73xrhEft_",
    "outputId": "9b914180-aa70-45e7-be15-f13eaca02331"
   },
   "outputs": [
    {
     "data": {
      "text/html": [
       "<div>\n",
       "<style scoped>\n",
       "    .dataframe tbody tr th:only-of-type {\n",
       "        vertical-align: middle;\n",
       "    }\n",
       "\n",
       "    .dataframe tbody tr th {\n",
       "        vertical-align: top;\n",
       "    }\n",
       "\n",
       "    .dataframe thead th {\n",
       "        text-align: right;\n",
       "    }\n",
       "</style>\n",
       "<table border=\"1\" class=\"dataframe\">\n",
       "  <thead>\n",
       "    <tr style=\"text-align: right;\">\n",
       "      <th></th>\n",
       "      <th>Hair</th>\n",
       "      <th>Feathers</th>\n",
       "      <th>Eggs</th>\n",
       "    </tr>\n",
       "  </thead>\n",
       "  <tbody>\n",
       "    <tr>\n",
       "      <th>1</th>\n",
       "      <td>1</td>\n",
       "      <td>0</td>\n",
       "      <td>0</td>\n",
       "    </tr>\n",
       "    <tr>\n",
       "      <th>2</th>\n",
       "      <td>0</td>\n",
       "      <td>0</td>\n",
       "      <td>1</td>\n",
       "    </tr>\n",
       "    <tr>\n",
       "      <th>3</th>\n",
       "      <td>1</td>\n",
       "      <td>0</td>\n",
       "      <td>0</td>\n",
       "    </tr>\n",
       "    <tr>\n",
       "      <th>4</th>\n",
       "      <td>1</td>\n",
       "      <td>0</td>\n",
       "      <td>0</td>\n",
       "    </tr>\n",
       "  </tbody>\n",
       "</table>\n",
       "</div>"
      ],
      "text/plain": [
       "   Hair  Feathers  Eggs\n",
       "1     1         0     0\n",
       "2     0         0     1\n",
       "3     1         0     0\n",
       "4     1         0     0"
      ]
     },
     "execution_count": 185,
     "metadata": {},
     "output_type": "execute_result"
    }
   ],
   "source": [
    "# Mengakses baris 1 sampai dengan 4, namun hanya kolom hair, feathers, dan eggs saja, menggunakan iloc\n",
    "df_remote.iloc[1:5, 1:4]"
   ]
  },
  {
   "cell_type": "markdown",
   "metadata": {
    "id": "meTIPNE1HzRo"
   },
   "source": [
    "### 2.2.4 Mengakses Data Tertentu yang Memenuhi suatu Kondisi Dalam DataFrame"
   ]
  },
  {
   "cell_type": "code",
   "execution_count": 186,
   "metadata": {
    "colab": {
     "base_uri": "https://localhost:8080/",
     "height": 1000
    },
    "id": "AcasN92bH7bf",
    "outputId": "481701a7-1185-4e31-c924-6ba5069964a7"
   },
   "outputs": [
    {
     "data": {
      "text/html": [
       "<div>\n",
       "<style scoped>\n",
       "    .dataframe tbody tr th:only-of-type {\n",
       "        vertical-align: middle;\n",
       "    }\n",
       "\n",
       "    .dataframe tbody tr th {\n",
       "        vertical-align: top;\n",
       "    }\n",
       "\n",
       "    .dataframe thead th {\n",
       "        text-align: right;\n",
       "    }\n",
       "</style>\n",
       "<table border=\"1\" class=\"dataframe\">\n",
       "  <thead>\n",
       "    <tr style=\"text-align: right;\">\n",
       "      <th></th>\n",
       "      <th>animal_name</th>\n",
       "      <th>Hair</th>\n",
       "      <th>Feathers</th>\n",
       "      <th>Eggs</th>\n",
       "      <th>Milk</th>\n",
       "      <th>Airbone</th>\n",
       "      <th>Aquati</th>\n",
       "      <th>Predator</th>\n",
       "      <th>Toothed</th>\n",
       "      <th>Backbone</th>\n",
       "      <th>Breathes</th>\n",
       "      <th>Venomous</th>\n",
       "      <th>Fins</th>\n",
       "      <th>Legs</th>\n",
       "      <th>Tail</th>\n",
       "      <th>Domestic</th>\n",
       "      <th>Catsize</th>\n",
       "      <th>Type</th>\n",
       "    </tr>\n",
       "  </thead>\n",
       "  <tbody>\n",
       "    <tr>\n",
       "      <th>0</th>\n",
       "      <td>aardvark</td>\n",
       "      <td>1</td>\n",
       "      <td>0</td>\n",
       "      <td>0</td>\n",
       "      <td>1</td>\n",
       "      <td>0</td>\n",
       "      <td>0</td>\n",
       "      <td>1</td>\n",
       "      <td>1</td>\n",
       "      <td>1</td>\n",
       "      <td>1</td>\n",
       "      <td>0</td>\n",
       "      <td>0</td>\n",
       "      <td>4</td>\n",
       "      <td>0</td>\n",
       "      <td>0</td>\n",
       "      <td>1</td>\n",
       "      <td>1</td>\n",
       "    </tr>\n",
       "    <tr>\n",
       "      <th>1</th>\n",
       "      <td>antelope</td>\n",
       "      <td>1</td>\n",
       "      <td>0</td>\n",
       "      <td>0</td>\n",
       "      <td>1</td>\n",
       "      <td>0</td>\n",
       "      <td>0</td>\n",
       "      <td>0</td>\n",
       "      <td>1</td>\n",
       "      <td>1</td>\n",
       "      <td>1</td>\n",
       "      <td>0</td>\n",
       "      <td>0</td>\n",
       "      <td>4</td>\n",
       "      <td>1</td>\n",
       "      <td>0</td>\n",
       "      <td>1</td>\n",
       "      <td>1</td>\n",
       "    </tr>\n",
       "    <tr>\n",
       "      <th>3</th>\n",
       "      <td>bear</td>\n",
       "      <td>1</td>\n",
       "      <td>0</td>\n",
       "      <td>0</td>\n",
       "      <td>1</td>\n",
       "      <td>0</td>\n",
       "      <td>0</td>\n",
       "      <td>1</td>\n",
       "      <td>1</td>\n",
       "      <td>1</td>\n",
       "      <td>1</td>\n",
       "      <td>0</td>\n",
       "      <td>0</td>\n",
       "      <td>4</td>\n",
       "      <td>0</td>\n",
       "      <td>0</td>\n",
       "      <td>1</td>\n",
       "      <td>1</td>\n",
       "    </tr>\n",
       "    <tr>\n",
       "      <th>4</th>\n",
       "      <td>boar</td>\n",
       "      <td>1</td>\n",
       "      <td>0</td>\n",
       "      <td>0</td>\n",
       "      <td>1</td>\n",
       "      <td>0</td>\n",
       "      <td>0</td>\n",
       "      <td>1</td>\n",
       "      <td>1</td>\n",
       "      <td>1</td>\n",
       "      <td>1</td>\n",
       "      <td>0</td>\n",
       "      <td>0</td>\n",
       "      <td>4</td>\n",
       "      <td>1</td>\n",
       "      <td>0</td>\n",
       "      <td>1</td>\n",
       "      <td>1</td>\n",
       "    </tr>\n",
       "    <tr>\n",
       "      <th>5</th>\n",
       "      <td>buffalo</td>\n",
       "      <td>1</td>\n",
       "      <td>0</td>\n",
       "      <td>0</td>\n",
       "      <td>1</td>\n",
       "      <td>0</td>\n",
       "      <td>0</td>\n",
       "      <td>0</td>\n",
       "      <td>1</td>\n",
       "      <td>1</td>\n",
       "      <td>1</td>\n",
       "      <td>0</td>\n",
       "      <td>0</td>\n",
       "      <td>4</td>\n",
       "      <td>1</td>\n",
       "      <td>0</td>\n",
       "      <td>1</td>\n",
       "      <td>1</td>\n",
       "    </tr>\n",
       "    <tr>\n",
       "      <th>6</th>\n",
       "      <td>calf</td>\n",
       "      <td>1</td>\n",
       "      <td>0</td>\n",
       "      <td>0</td>\n",
       "      <td>1</td>\n",
       "      <td>0</td>\n",
       "      <td>0</td>\n",
       "      <td>0</td>\n",
       "      <td>1</td>\n",
       "      <td>1</td>\n",
       "      <td>1</td>\n",
       "      <td>0</td>\n",
       "      <td>0</td>\n",
       "      <td>4</td>\n",
       "      <td>1</td>\n",
       "      <td>1</td>\n",
       "      <td>1</td>\n",
       "      <td>1</td>\n",
       "    </tr>\n",
       "    <tr>\n",
       "      <th>9</th>\n",
       "      <td>cavy</td>\n",
       "      <td>1</td>\n",
       "      <td>0</td>\n",
       "      <td>0</td>\n",
       "      <td>1</td>\n",
       "      <td>0</td>\n",
       "      <td>0</td>\n",
       "      <td>0</td>\n",
       "      <td>1</td>\n",
       "      <td>1</td>\n",
       "      <td>1</td>\n",
       "      <td>0</td>\n",
       "      <td>0</td>\n",
       "      <td>4</td>\n",
       "      <td>0</td>\n",
       "      <td>1</td>\n",
       "      <td>0</td>\n",
       "      <td>1</td>\n",
       "    </tr>\n",
       "    <tr>\n",
       "      <th>10</th>\n",
       "      <td>cheetah</td>\n",
       "      <td>1</td>\n",
       "      <td>0</td>\n",
       "      <td>0</td>\n",
       "      <td>1</td>\n",
       "      <td>0</td>\n",
       "      <td>0</td>\n",
       "      <td>1</td>\n",
       "      <td>1</td>\n",
       "      <td>1</td>\n",
       "      <td>1</td>\n",
       "      <td>0</td>\n",
       "      <td>0</td>\n",
       "      <td>4</td>\n",
       "      <td>1</td>\n",
       "      <td>0</td>\n",
       "      <td>1</td>\n",
       "      <td>1</td>\n",
       "    </tr>\n",
       "    <tr>\n",
       "      <th>17</th>\n",
       "      <td>deer</td>\n",
       "      <td>1</td>\n",
       "      <td>0</td>\n",
       "      <td>0</td>\n",
       "      <td>1</td>\n",
       "      <td>0</td>\n",
       "      <td>0</td>\n",
       "      <td>0</td>\n",
       "      <td>1</td>\n",
       "      <td>1</td>\n",
       "      <td>1</td>\n",
       "      <td>0</td>\n",
       "      <td>0</td>\n",
       "      <td>4</td>\n",
       "      <td>1</td>\n",
       "      <td>0</td>\n",
       "      <td>1</td>\n",
       "      <td>1</td>\n",
       "    </tr>\n",
       "    <tr>\n",
       "      <th>22</th>\n",
       "      <td>elephant</td>\n",
       "      <td>1</td>\n",
       "      <td>0</td>\n",
       "      <td>0</td>\n",
       "      <td>1</td>\n",
       "      <td>0</td>\n",
       "      <td>0</td>\n",
       "      <td>0</td>\n",
       "      <td>1</td>\n",
       "      <td>1</td>\n",
       "      <td>1</td>\n",
       "      <td>0</td>\n",
       "      <td>0</td>\n",
       "      <td>4</td>\n",
       "      <td>1</td>\n",
       "      <td>0</td>\n",
       "      <td>1</td>\n",
       "      <td>1</td>\n",
       "    </tr>\n",
       "    <tr>\n",
       "      <th>27</th>\n",
       "      <td>fruitbat</td>\n",
       "      <td>1</td>\n",
       "      <td>0</td>\n",
       "      <td>0</td>\n",
       "      <td>1</td>\n",
       "      <td>1</td>\n",
       "      <td>0</td>\n",
       "      <td>0</td>\n",
       "      <td>1</td>\n",
       "      <td>1</td>\n",
       "      <td>1</td>\n",
       "      <td>0</td>\n",
       "      <td>0</td>\n",
       "      <td>2</td>\n",
       "      <td>1</td>\n",
       "      <td>0</td>\n",
       "      <td>0</td>\n",
       "      <td>1</td>\n",
       "    </tr>\n",
       "    <tr>\n",
       "      <th>28</th>\n",
       "      <td>giraffe</td>\n",
       "      <td>1</td>\n",
       "      <td>0</td>\n",
       "      <td>0</td>\n",
       "      <td>1</td>\n",
       "      <td>0</td>\n",
       "      <td>0</td>\n",
       "      <td>0</td>\n",
       "      <td>1</td>\n",
       "      <td>1</td>\n",
       "      <td>1</td>\n",
       "      <td>0</td>\n",
       "      <td>0</td>\n",
       "      <td>4</td>\n",
       "      <td>1</td>\n",
       "      <td>0</td>\n",
       "      <td>1</td>\n",
       "      <td>1</td>\n",
       "    </tr>\n",
       "    <tr>\n",
       "      <th>29</th>\n",
       "      <td>girl</td>\n",
       "      <td>1</td>\n",
       "      <td>0</td>\n",
       "      <td>0</td>\n",
       "      <td>1</td>\n",
       "      <td>0</td>\n",
       "      <td>0</td>\n",
       "      <td>1</td>\n",
       "      <td>1</td>\n",
       "      <td>1</td>\n",
       "      <td>1</td>\n",
       "      <td>0</td>\n",
       "      <td>0</td>\n",
       "      <td>2</td>\n",
       "      <td>0</td>\n",
       "      <td>1</td>\n",
       "      <td>1</td>\n",
       "      <td>1</td>\n",
       "    </tr>\n",
       "    <tr>\n",
       "      <th>31</th>\n",
       "      <td>goat</td>\n",
       "      <td>1</td>\n",
       "      <td>0</td>\n",
       "      <td>0</td>\n",
       "      <td>1</td>\n",
       "      <td>0</td>\n",
       "      <td>0</td>\n",
       "      <td>0</td>\n",
       "      <td>1</td>\n",
       "      <td>1</td>\n",
       "      <td>1</td>\n",
       "      <td>0</td>\n",
       "      <td>0</td>\n",
       "      <td>4</td>\n",
       "      <td>1</td>\n",
       "      <td>1</td>\n",
       "      <td>1</td>\n",
       "      <td>1</td>\n",
       "    </tr>\n",
       "    <tr>\n",
       "      <th>32</th>\n",
       "      <td>gorilla</td>\n",
       "      <td>1</td>\n",
       "      <td>0</td>\n",
       "      <td>0</td>\n",
       "      <td>1</td>\n",
       "      <td>0</td>\n",
       "      <td>0</td>\n",
       "      <td>0</td>\n",
       "      <td>1</td>\n",
       "      <td>1</td>\n",
       "      <td>1</td>\n",
       "      <td>0</td>\n",
       "      <td>0</td>\n",
       "      <td>2</td>\n",
       "      <td>0</td>\n",
       "      <td>0</td>\n",
       "      <td>1</td>\n",
       "      <td>1</td>\n",
       "    </tr>\n",
       "    <tr>\n",
       "      <th>35</th>\n",
       "      <td>hamster</td>\n",
       "      <td>1</td>\n",
       "      <td>0</td>\n",
       "      <td>0</td>\n",
       "      <td>1</td>\n",
       "      <td>0</td>\n",
       "      <td>0</td>\n",
       "      <td>0</td>\n",
       "      <td>1</td>\n",
       "      <td>1</td>\n",
       "      <td>1</td>\n",
       "      <td>0</td>\n",
       "      <td>0</td>\n",
       "      <td>4</td>\n",
       "      <td>1</td>\n",
       "      <td>1</td>\n",
       "      <td>0</td>\n",
       "      <td>1</td>\n",
       "    </tr>\n",
       "    <tr>\n",
       "      <th>36</th>\n",
       "      <td>hare</td>\n",
       "      <td>1</td>\n",
       "      <td>0</td>\n",
       "      <td>0</td>\n",
       "      <td>1</td>\n",
       "      <td>0</td>\n",
       "      <td>0</td>\n",
       "      <td>0</td>\n",
       "      <td>1</td>\n",
       "      <td>1</td>\n",
       "      <td>1</td>\n",
       "      <td>0</td>\n",
       "      <td>0</td>\n",
       "      <td>4</td>\n",
       "      <td>1</td>\n",
       "      <td>0</td>\n",
       "      <td>0</td>\n",
       "      <td>1</td>\n",
       "    </tr>\n",
       "    <tr>\n",
       "      <th>39</th>\n",
       "      <td>honeybee</td>\n",
       "      <td>1</td>\n",
       "      <td>0</td>\n",
       "      <td>1</td>\n",
       "      <td>0</td>\n",
       "      <td>1</td>\n",
       "      <td>0</td>\n",
       "      <td>0</td>\n",
       "      <td>0</td>\n",
       "      <td>0</td>\n",
       "      <td>1</td>\n",
       "      <td>1</td>\n",
       "      <td>0</td>\n",
       "      <td>6</td>\n",
       "      <td>0</td>\n",
       "      <td>1</td>\n",
       "      <td>0</td>\n",
       "      <td>6</td>\n",
       "    </tr>\n",
       "    <tr>\n",
       "      <th>40</th>\n",
       "      <td>housefly</td>\n",
       "      <td>1</td>\n",
       "      <td>0</td>\n",
       "      <td>1</td>\n",
       "      <td>0</td>\n",
       "      <td>1</td>\n",
       "      <td>0</td>\n",
       "      <td>0</td>\n",
       "      <td>0</td>\n",
       "      <td>0</td>\n",
       "      <td>1</td>\n",
       "      <td>0</td>\n",
       "      <td>0</td>\n",
       "      <td>6</td>\n",
       "      <td>0</td>\n",
       "      <td>0</td>\n",
       "      <td>0</td>\n",
       "      <td>6</td>\n",
       "    </tr>\n",
       "    <tr>\n",
       "      <th>44</th>\n",
       "      <td>leopard</td>\n",
       "      <td>1</td>\n",
       "      <td>0</td>\n",
       "      <td>0</td>\n",
       "      <td>1</td>\n",
       "      <td>0</td>\n",
       "      <td>0</td>\n",
       "      <td>1</td>\n",
       "      <td>1</td>\n",
       "      <td>1</td>\n",
       "      <td>1</td>\n",
       "      <td>0</td>\n",
       "      <td>0</td>\n",
       "      <td>4</td>\n",
       "      <td>1</td>\n",
       "      <td>0</td>\n",
       "      <td>1</td>\n",
       "      <td>1</td>\n",
       "    </tr>\n",
       "    <tr>\n",
       "      <th>45</th>\n",
       "      <td>lion</td>\n",
       "      <td>1</td>\n",
       "      <td>0</td>\n",
       "      <td>0</td>\n",
       "      <td>1</td>\n",
       "      <td>0</td>\n",
       "      <td>0</td>\n",
       "      <td>1</td>\n",
       "      <td>1</td>\n",
       "      <td>1</td>\n",
       "      <td>1</td>\n",
       "      <td>0</td>\n",
       "      <td>0</td>\n",
       "      <td>4</td>\n",
       "      <td>1</td>\n",
       "      <td>0</td>\n",
       "      <td>1</td>\n",
       "      <td>1</td>\n",
       "    </tr>\n",
       "    <tr>\n",
       "      <th>47</th>\n",
       "      <td>lynx</td>\n",
       "      <td>1</td>\n",
       "      <td>0</td>\n",
       "      <td>0</td>\n",
       "      <td>1</td>\n",
       "      <td>0</td>\n",
       "      <td>0</td>\n",
       "      <td>1</td>\n",
       "      <td>1</td>\n",
       "      <td>1</td>\n",
       "      <td>1</td>\n",
       "      <td>0</td>\n",
       "      <td>0</td>\n",
       "      <td>4</td>\n",
       "      <td>1</td>\n",
       "      <td>0</td>\n",
       "      <td>1</td>\n",
       "      <td>1</td>\n",
       "    </tr>\n",
       "    <tr>\n",
       "      <th>48</th>\n",
       "      <td>mink</td>\n",
       "      <td>1</td>\n",
       "      <td>0</td>\n",
       "      <td>0</td>\n",
       "      <td>1</td>\n",
       "      <td>0</td>\n",
       "      <td>1</td>\n",
       "      <td>1</td>\n",
       "      <td>1</td>\n",
       "      <td>1</td>\n",
       "      <td>1</td>\n",
       "      <td>0</td>\n",
       "      <td>0</td>\n",
       "      <td>4</td>\n",
       "      <td>1</td>\n",
       "      <td>0</td>\n",
       "      <td>1</td>\n",
       "      <td>1</td>\n",
       "    </tr>\n",
       "    <tr>\n",
       "      <th>49</th>\n",
       "      <td>mole</td>\n",
       "      <td>1</td>\n",
       "      <td>0</td>\n",
       "      <td>0</td>\n",
       "      <td>1</td>\n",
       "      <td>0</td>\n",
       "      <td>0</td>\n",
       "      <td>1</td>\n",
       "      <td>1</td>\n",
       "      <td>1</td>\n",
       "      <td>1</td>\n",
       "      <td>0</td>\n",
       "      <td>0</td>\n",
       "      <td>4</td>\n",
       "      <td>1</td>\n",
       "      <td>0</td>\n",
       "      <td>0</td>\n",
       "      <td>1</td>\n",
       "    </tr>\n",
       "    <tr>\n",
       "      <th>50</th>\n",
       "      <td>mongoose</td>\n",
       "      <td>1</td>\n",
       "      <td>0</td>\n",
       "      <td>0</td>\n",
       "      <td>1</td>\n",
       "      <td>0</td>\n",
       "      <td>0</td>\n",
       "      <td>1</td>\n",
       "      <td>1</td>\n",
       "      <td>1</td>\n",
       "      <td>1</td>\n",
       "      <td>0</td>\n",
       "      <td>0</td>\n",
       "      <td>4</td>\n",
       "      <td>1</td>\n",
       "      <td>0</td>\n",
       "      <td>1</td>\n",
       "      <td>1</td>\n",
       "    </tr>\n",
       "    <tr>\n",
       "      <th>51</th>\n",
       "      <td>moth</td>\n",
       "      <td>1</td>\n",
       "      <td>0</td>\n",
       "      <td>1</td>\n",
       "      <td>0</td>\n",
       "      <td>1</td>\n",
       "      <td>0</td>\n",
       "      <td>0</td>\n",
       "      <td>0</td>\n",
       "      <td>0</td>\n",
       "      <td>1</td>\n",
       "      <td>0</td>\n",
       "      <td>0</td>\n",
       "      <td>6</td>\n",
       "      <td>0</td>\n",
       "      <td>0</td>\n",
       "      <td>0</td>\n",
       "      <td>6</td>\n",
       "    </tr>\n",
       "    <tr>\n",
       "      <th>54</th>\n",
       "      <td>opossum</td>\n",
       "      <td>1</td>\n",
       "      <td>0</td>\n",
       "      <td>0</td>\n",
       "      <td>1</td>\n",
       "      <td>0</td>\n",
       "      <td>0</td>\n",
       "      <td>1</td>\n",
       "      <td>1</td>\n",
       "      <td>1</td>\n",
       "      <td>1</td>\n",
       "      <td>0</td>\n",
       "      <td>0</td>\n",
       "      <td>4</td>\n",
       "      <td>1</td>\n",
       "      <td>0</td>\n",
       "      <td>0</td>\n",
       "      <td>1</td>\n",
       "    </tr>\n",
       "    <tr>\n",
       "      <th>55</th>\n",
       "      <td>oryx</td>\n",
       "      <td>1</td>\n",
       "      <td>0</td>\n",
       "      <td>0</td>\n",
       "      <td>1</td>\n",
       "      <td>0</td>\n",
       "      <td>0</td>\n",
       "      <td>0</td>\n",
       "      <td>1</td>\n",
       "      <td>1</td>\n",
       "      <td>1</td>\n",
       "      <td>0</td>\n",
       "      <td>0</td>\n",
       "      <td>4</td>\n",
       "      <td>1</td>\n",
       "      <td>0</td>\n",
       "      <td>1</td>\n",
       "      <td>1</td>\n",
       "    </tr>\n",
       "    <tr>\n",
       "      <th>63</th>\n",
       "      <td>platypus</td>\n",
       "      <td>1</td>\n",
       "      <td>0</td>\n",
       "      <td>1</td>\n",
       "      <td>1</td>\n",
       "      <td>0</td>\n",
       "      <td>1</td>\n",
       "      <td>1</td>\n",
       "      <td>0</td>\n",
       "      <td>1</td>\n",
       "      <td>1</td>\n",
       "      <td>0</td>\n",
       "      <td>0</td>\n",
       "      <td>4</td>\n",
       "      <td>1</td>\n",
       "      <td>0</td>\n",
       "      <td>1</td>\n",
       "      <td>1</td>\n",
       "    </tr>\n",
       "    <tr>\n",
       "      <th>64</th>\n",
       "      <td>polecat</td>\n",
       "      <td>1</td>\n",
       "      <td>0</td>\n",
       "      <td>0</td>\n",
       "      <td>1</td>\n",
       "      <td>0</td>\n",
       "      <td>0</td>\n",
       "      <td>1</td>\n",
       "      <td>1</td>\n",
       "      <td>1</td>\n",
       "      <td>1</td>\n",
       "      <td>0</td>\n",
       "      <td>0</td>\n",
       "      <td>4</td>\n",
       "      <td>1</td>\n",
       "      <td>0</td>\n",
       "      <td>1</td>\n",
       "      <td>1</td>\n",
       "    </tr>\n",
       "    <tr>\n",
       "      <th>65</th>\n",
       "      <td>pony</td>\n",
       "      <td>1</td>\n",
       "      <td>0</td>\n",
       "      <td>0</td>\n",
       "      <td>1</td>\n",
       "      <td>0</td>\n",
       "      <td>0</td>\n",
       "      <td>0</td>\n",
       "      <td>1</td>\n",
       "      <td>1</td>\n",
       "      <td>1</td>\n",
       "      <td>0</td>\n",
       "      <td>0</td>\n",
       "      <td>4</td>\n",
       "      <td>1</td>\n",
       "      <td>1</td>\n",
       "      <td>1</td>\n",
       "      <td>1</td>\n",
       "    </tr>\n",
       "    <tr>\n",
       "      <th>67</th>\n",
       "      <td>puma</td>\n",
       "      <td>1</td>\n",
       "      <td>0</td>\n",
       "      <td>0</td>\n",
       "      <td>1</td>\n",
       "      <td>0</td>\n",
       "      <td>0</td>\n",
       "      <td>1</td>\n",
       "      <td>1</td>\n",
       "      <td>1</td>\n",
       "      <td>1</td>\n",
       "      <td>0</td>\n",
       "      <td>0</td>\n",
       "      <td>4</td>\n",
       "      <td>1</td>\n",
       "      <td>0</td>\n",
       "      <td>1</td>\n",
       "      <td>1</td>\n",
       "    </tr>\n",
       "    <tr>\n",
       "      <th>68</th>\n",
       "      <td>pussycat</td>\n",
       "      <td>1</td>\n",
       "      <td>0</td>\n",
       "      <td>0</td>\n",
       "      <td>1</td>\n",
       "      <td>0</td>\n",
       "      <td>0</td>\n",
       "      <td>1</td>\n",
       "      <td>1</td>\n",
       "      <td>1</td>\n",
       "      <td>1</td>\n",
       "      <td>0</td>\n",
       "      <td>0</td>\n",
       "      <td>4</td>\n",
       "      <td>1</td>\n",
       "      <td>1</td>\n",
       "      <td>1</td>\n",
       "      <td>1</td>\n",
       "    </tr>\n",
       "    <tr>\n",
       "      <th>69</th>\n",
       "      <td>raccoon</td>\n",
       "      <td>1</td>\n",
       "      <td>0</td>\n",
       "      <td>0</td>\n",
       "      <td>1</td>\n",
       "      <td>0</td>\n",
       "      <td>0</td>\n",
       "      <td>1</td>\n",
       "      <td>1</td>\n",
       "      <td>1</td>\n",
       "      <td>1</td>\n",
       "      <td>0</td>\n",
       "      <td>0</td>\n",
       "      <td>4</td>\n",
       "      <td>1</td>\n",
       "      <td>0</td>\n",
       "      <td>1</td>\n",
       "      <td>1</td>\n",
       "    </tr>\n",
       "    <tr>\n",
       "      <th>70</th>\n",
       "      <td>reindeer</td>\n",
       "      <td>1</td>\n",
       "      <td>0</td>\n",
       "      <td>0</td>\n",
       "      <td>1</td>\n",
       "      <td>0</td>\n",
       "      <td>0</td>\n",
       "      <td>0</td>\n",
       "      <td>1</td>\n",
       "      <td>1</td>\n",
       "      <td>1</td>\n",
       "      <td>0</td>\n",
       "      <td>0</td>\n",
       "      <td>4</td>\n",
       "      <td>1</td>\n",
       "      <td>1</td>\n",
       "      <td>1</td>\n",
       "      <td>1</td>\n",
       "    </tr>\n",
       "    <tr>\n",
       "      <th>74</th>\n",
       "      <td>seal</td>\n",
       "      <td>1</td>\n",
       "      <td>0</td>\n",
       "      <td>0</td>\n",
       "      <td>1</td>\n",
       "      <td>0</td>\n",
       "      <td>1</td>\n",
       "      <td>1</td>\n",
       "      <td>1</td>\n",
       "      <td>1</td>\n",
       "      <td>1</td>\n",
       "      <td>0</td>\n",
       "      <td>1</td>\n",
       "      <td>0</td>\n",
       "      <td>0</td>\n",
       "      <td>0</td>\n",
       "      <td>1</td>\n",
       "      <td>1</td>\n",
       "    </tr>\n",
       "    <tr>\n",
       "      <th>75</th>\n",
       "      <td>sealion</td>\n",
       "      <td>1</td>\n",
       "      <td>0</td>\n",
       "      <td>0</td>\n",
       "      <td>1</td>\n",
       "      <td>0</td>\n",
       "      <td>1</td>\n",
       "      <td>1</td>\n",
       "      <td>1</td>\n",
       "      <td>1</td>\n",
       "      <td>1</td>\n",
       "      <td>0</td>\n",
       "      <td>1</td>\n",
       "      <td>2</td>\n",
       "      <td>1</td>\n",
       "      <td>0</td>\n",
       "      <td>1</td>\n",
       "      <td>1</td>\n",
       "    </tr>\n",
       "    <tr>\n",
       "      <th>84</th>\n",
       "      <td>squirrel</td>\n",
       "      <td>1</td>\n",
       "      <td>0</td>\n",
       "      <td>0</td>\n",
       "      <td>1</td>\n",
       "      <td>0</td>\n",
       "      <td>0</td>\n",
       "      <td>0</td>\n",
       "      <td>1</td>\n",
       "      <td>1</td>\n",
       "      <td>1</td>\n",
       "      <td>0</td>\n",
       "      <td>0</td>\n",
       "      <td>2</td>\n",
       "      <td>1</td>\n",
       "      <td>0</td>\n",
       "      <td>0</td>\n",
       "      <td>1</td>\n",
       "    </tr>\n",
       "    <tr>\n",
       "      <th>93</th>\n",
       "      <td>vampire</td>\n",
       "      <td>1</td>\n",
       "      <td>0</td>\n",
       "      <td>0</td>\n",
       "      <td>1</td>\n",
       "      <td>1</td>\n",
       "      <td>0</td>\n",
       "      <td>0</td>\n",
       "      <td>1</td>\n",
       "      <td>1</td>\n",
       "      <td>1</td>\n",
       "      <td>0</td>\n",
       "      <td>0</td>\n",
       "      <td>2</td>\n",
       "      <td>1</td>\n",
       "      <td>0</td>\n",
       "      <td>0</td>\n",
       "      <td>1</td>\n",
       "    </tr>\n",
       "    <tr>\n",
       "      <th>94</th>\n",
       "      <td>vole</td>\n",
       "      <td>1</td>\n",
       "      <td>0</td>\n",
       "      <td>0</td>\n",
       "      <td>1</td>\n",
       "      <td>0</td>\n",
       "      <td>0</td>\n",
       "      <td>0</td>\n",
       "      <td>1</td>\n",
       "      <td>1</td>\n",
       "      <td>1</td>\n",
       "      <td>0</td>\n",
       "      <td>0</td>\n",
       "      <td>4</td>\n",
       "      <td>1</td>\n",
       "      <td>0</td>\n",
       "      <td>0</td>\n",
       "      <td>1</td>\n",
       "    </tr>\n",
       "    <tr>\n",
       "      <th>96</th>\n",
       "      <td>wallaby</td>\n",
       "      <td>1</td>\n",
       "      <td>0</td>\n",
       "      <td>0</td>\n",
       "      <td>1</td>\n",
       "      <td>0</td>\n",
       "      <td>0</td>\n",
       "      <td>0</td>\n",
       "      <td>1</td>\n",
       "      <td>1</td>\n",
       "      <td>1</td>\n",
       "      <td>0</td>\n",
       "      <td>0</td>\n",
       "      <td>2</td>\n",
       "      <td>1</td>\n",
       "      <td>0</td>\n",
       "      <td>1</td>\n",
       "      <td>1</td>\n",
       "    </tr>\n",
       "    <tr>\n",
       "      <th>97</th>\n",
       "      <td>wasp</td>\n",
       "      <td>1</td>\n",
       "      <td>0</td>\n",
       "      <td>1</td>\n",
       "      <td>0</td>\n",
       "      <td>1</td>\n",
       "      <td>0</td>\n",
       "      <td>0</td>\n",
       "      <td>0</td>\n",
       "      <td>0</td>\n",
       "      <td>1</td>\n",
       "      <td>1</td>\n",
       "      <td>0</td>\n",
       "      <td>6</td>\n",
       "      <td>0</td>\n",
       "      <td>0</td>\n",
       "      <td>0</td>\n",
       "      <td>6</td>\n",
       "    </tr>\n",
       "    <tr>\n",
       "      <th>98</th>\n",
       "      <td>wolf</td>\n",
       "      <td>1</td>\n",
       "      <td>0</td>\n",
       "      <td>0</td>\n",
       "      <td>1</td>\n",
       "      <td>0</td>\n",
       "      <td>0</td>\n",
       "      <td>1</td>\n",
       "      <td>1</td>\n",
       "      <td>1</td>\n",
       "      <td>1</td>\n",
       "      <td>0</td>\n",
       "      <td>0</td>\n",
       "      <td>4</td>\n",
       "      <td>1</td>\n",
       "      <td>0</td>\n",
       "      <td>1</td>\n",
       "      <td>1</td>\n",
       "    </tr>\n",
       "  </tbody>\n",
       "</table>\n",
       "</div>"
      ],
      "text/plain": [
       "   animal_name  Hair  Feathers  Eggs  Milk  Airbone  Aquati  Predator  Toothed  Backbone  Breathes  Venomous  Fins  Legs  Tail  Domestic  Catsize  Type\n",
       "0     aardvark     1         0     0     1        0       0         1        1         1         1         0     0     4     0         0        1     1\n",
       "1     antelope     1         0     0     1        0       0         0        1         1         1         0     0     4     1         0        1     1\n",
       "3         bear     1         0     0     1        0       0         1        1         1         1         0     0     4     0         0        1     1\n",
       "4         boar     1         0     0     1        0       0         1        1         1         1         0     0     4     1         0        1     1\n",
       "5      buffalo     1         0     0     1        0       0         0        1         1         1         0     0     4     1         0        1     1\n",
       "6         calf     1         0     0     1        0       0         0        1         1         1         0     0     4     1         1        1     1\n",
       "9         cavy     1         0     0     1        0       0         0        1         1         1         0     0     4     0         1        0     1\n",
       "10     cheetah     1         0     0     1        0       0         1        1         1         1         0     0     4     1         0        1     1\n",
       "17        deer     1         0     0     1        0       0         0        1         1         1         0     0     4     1         0        1     1\n",
       "22    elephant     1         0     0     1        0       0         0        1         1         1         0     0     4     1         0        1     1\n",
       "27    fruitbat     1         0     0     1        1       0         0        1         1         1         0     0     2     1         0        0     1\n",
       "28     giraffe     1         0     0     1        0       0         0        1         1         1         0     0     4     1         0        1     1\n",
       "29        girl     1         0     0     1        0       0         1        1         1         1         0     0     2     0         1        1     1\n",
       "31        goat     1         0     0     1        0       0         0        1         1         1         0     0     4     1         1        1     1\n",
       "32     gorilla     1         0     0     1        0       0         0        1         1         1         0     0     2     0         0        1     1\n",
       "35     hamster     1         0     0     1        0       0         0        1         1         1         0     0     4     1         1        0     1\n",
       "36        hare     1         0     0     1        0       0         0        1         1         1         0     0     4     1         0        0     1\n",
       "39    honeybee     1         0     1     0        1       0         0        0         0         1         1     0     6     0         1        0     6\n",
       "40    housefly     1         0     1     0        1       0         0        0         0         1         0     0     6     0         0        0     6\n",
       "44     leopard     1         0     0     1        0       0         1        1         1         1         0     0     4     1         0        1     1\n",
       "45        lion     1         0     0     1        0       0         1        1         1         1         0     0     4     1         0        1     1\n",
       "47        lynx     1         0     0     1        0       0         1        1         1         1         0     0     4     1         0        1     1\n",
       "48        mink     1         0     0     1        0       1         1        1         1         1         0     0     4     1         0        1     1\n",
       "49        mole     1         0     0     1        0       0         1        1         1         1         0     0     4     1         0        0     1\n",
       "50    mongoose     1         0     0     1        0       0         1        1         1         1         0     0     4     1         0        1     1\n",
       "51        moth     1         0     1     0        1       0         0        0         0         1         0     0     6     0         0        0     6\n",
       "54     opossum     1         0     0     1        0       0         1        1         1         1         0     0     4     1         0        0     1\n",
       "55        oryx     1         0     0     1        0       0         0        1         1         1         0     0     4     1         0        1     1\n",
       "63    platypus     1         0     1     1        0       1         1        0         1         1         0     0     4     1         0        1     1\n",
       "64     polecat     1         0     0     1        0       0         1        1         1         1         0     0     4     1         0        1     1\n",
       "65        pony     1         0     0     1        0       0         0        1         1         1         0     0     4     1         1        1     1\n",
       "67        puma     1         0     0     1        0       0         1        1         1         1         0     0     4     1         0        1     1\n",
       "68    pussycat     1         0     0     1        0       0         1        1         1         1         0     0     4     1         1        1     1\n",
       "69     raccoon     1         0     0     1        0       0         1        1         1         1         0     0     4     1         0        1     1\n",
       "70    reindeer     1         0     0     1        0       0         0        1         1         1         0     0     4     1         1        1     1\n",
       "74        seal     1         0     0     1        0       1         1        1         1         1         0     1     0     0         0        1     1\n",
       "75     sealion     1         0     0     1        0       1         1        1         1         1         0     1     2     1         0        1     1\n",
       "84    squirrel     1         0     0     1        0       0         0        1         1         1         0     0     2     1         0        0     1\n",
       "93     vampire     1         0     0     1        1       0         0        1         1         1         0     0     2     1         0        0     1\n",
       "94        vole     1         0     0     1        0       0         0        1         1         1         0     0     4     1         0        0     1\n",
       "96     wallaby     1         0     0     1        0       0         0        1         1         1         0     0     2     1         0        1     1\n",
       "97        wasp     1         0     1     0        1       0         0        0         0         1         1     0     6     0         0        0     6\n",
       "98        wolf     1         0     0     1        0       0         1        1         1         1         0     0     4     1         0        1     1"
      ]
     },
     "execution_count": 186,
     "metadata": {},
     "output_type": "execute_result"
    }
   ],
   "source": [
    "# Mengakses data dengan Hair sama dengan 1\n",
    "df_remote[df_remote['Hair'] == 1]"
   ]
  },
  {
   "cell_type": "code",
   "execution_count": 187,
   "metadata": {
    "colab": {
     "base_uri": "https://localhost:8080/",
     "height": 195
    },
    "id": "WylG1ikiH_bK",
    "outputId": "54937199-d2fa-497d-ed1d-dfbe9a6b30fa"
   },
   "outputs": [
    {
     "data": {
      "text/html": [
       "<div>\n",
       "<style scoped>\n",
       "    .dataframe tbody tr th:only-of-type {\n",
       "        vertical-align: middle;\n",
       "    }\n",
       "\n",
       "    .dataframe tbody tr th {\n",
       "        vertical-align: top;\n",
       "    }\n",
       "\n",
       "    .dataframe thead th {\n",
       "        text-align: right;\n",
       "    }\n",
       "</style>\n",
       "<table border=\"1\" class=\"dataframe\">\n",
       "  <thead>\n",
       "    <tr style=\"text-align: right;\">\n",
       "      <th></th>\n",
       "      <th>animal_name</th>\n",
       "      <th>Hair</th>\n",
       "      <th>Feathers</th>\n",
       "      <th>Eggs</th>\n",
       "      <th>Milk</th>\n",
       "      <th>Airbone</th>\n",
       "      <th>Aquati</th>\n",
       "      <th>Predator</th>\n",
       "      <th>Toothed</th>\n",
       "      <th>Backbone</th>\n",
       "      <th>Breathes</th>\n",
       "      <th>Venomous</th>\n",
       "      <th>Fins</th>\n",
       "      <th>Legs</th>\n",
       "      <th>Tail</th>\n",
       "      <th>Domestic</th>\n",
       "      <th>Catsize</th>\n",
       "      <th>Type</th>\n",
       "    </tr>\n",
       "  </thead>\n",
       "  <tbody>\n",
       "    <tr>\n",
       "      <th>39</th>\n",
       "      <td>honeybee</td>\n",
       "      <td>1</td>\n",
       "      <td>0</td>\n",
       "      <td>1</td>\n",
       "      <td>0</td>\n",
       "      <td>1</td>\n",
       "      <td>0</td>\n",
       "      <td>0</td>\n",
       "      <td>0</td>\n",
       "      <td>0</td>\n",
       "      <td>1</td>\n",
       "      <td>1</td>\n",
       "      <td>0</td>\n",
       "      <td>6</td>\n",
       "      <td>0</td>\n",
       "      <td>1</td>\n",
       "      <td>0</td>\n",
       "      <td>6</td>\n",
       "    </tr>\n",
       "    <tr>\n",
       "      <th>40</th>\n",
       "      <td>housefly</td>\n",
       "      <td>1</td>\n",
       "      <td>0</td>\n",
       "      <td>1</td>\n",
       "      <td>0</td>\n",
       "      <td>1</td>\n",
       "      <td>0</td>\n",
       "      <td>0</td>\n",
       "      <td>0</td>\n",
       "      <td>0</td>\n",
       "      <td>1</td>\n",
       "      <td>0</td>\n",
       "      <td>0</td>\n",
       "      <td>6</td>\n",
       "      <td>0</td>\n",
       "      <td>0</td>\n",
       "      <td>0</td>\n",
       "      <td>6</td>\n",
       "    </tr>\n",
       "    <tr>\n",
       "      <th>51</th>\n",
       "      <td>moth</td>\n",
       "      <td>1</td>\n",
       "      <td>0</td>\n",
       "      <td>1</td>\n",
       "      <td>0</td>\n",
       "      <td>1</td>\n",
       "      <td>0</td>\n",
       "      <td>0</td>\n",
       "      <td>0</td>\n",
       "      <td>0</td>\n",
       "      <td>1</td>\n",
       "      <td>0</td>\n",
       "      <td>0</td>\n",
       "      <td>6</td>\n",
       "      <td>0</td>\n",
       "      <td>0</td>\n",
       "      <td>0</td>\n",
       "      <td>6</td>\n",
       "    </tr>\n",
       "    <tr>\n",
       "      <th>97</th>\n",
       "      <td>wasp</td>\n",
       "      <td>1</td>\n",
       "      <td>0</td>\n",
       "      <td>1</td>\n",
       "      <td>0</td>\n",
       "      <td>1</td>\n",
       "      <td>0</td>\n",
       "      <td>0</td>\n",
       "      <td>0</td>\n",
       "      <td>0</td>\n",
       "      <td>1</td>\n",
       "      <td>1</td>\n",
       "      <td>0</td>\n",
       "      <td>6</td>\n",
       "      <td>0</td>\n",
       "      <td>0</td>\n",
       "      <td>0</td>\n",
       "      <td>6</td>\n",
       "    </tr>\n",
       "  </tbody>\n",
       "</table>\n",
       "</div>"
      ],
      "text/plain": [
       "   animal_name  Hair  Feathers  Eggs  Milk  Airbone  Aquati  Predator  Toothed  Backbone  Breathes  Venomous  Fins  Legs  Tail  Domestic  Catsize  Type\n",
       "39    honeybee     1         0     1     0        1       0         0        0         0         1         1     0     6     0         1        0     6\n",
       "40    housefly     1         0     1     0        1       0         0        0         0         1         0     0     6     0         0        0     6\n",
       "51        moth     1         0     1     0        1       0         0        0         0         1         0     0     6     0         0        0     6\n",
       "97        wasp     1         0     1     0        1       0         0        0         0         1         1     0     6     0         0        0     6"
      ]
     },
     "execution_count": 187,
     "metadata": {},
     "output_type": "execute_result"
    }
   ],
   "source": [
    "# Mengakses data dengan Hair sama dengan 1 cm dan Type lebih dari 1\n",
    "df_remote[(df_remote['Hair'] == 1) & (df_remote['Type'] > 3)]"
   ]
  },
  {
   "cell_type": "markdown",
   "metadata": {
    "id": "9URJk6JQIXKi"
   },
   "source": [
    "### 2.2.5 Menangani Missing Values"
   ]
  },
  {
   "cell_type": "markdown",
   "metadata": {
    "id": "ltkvNANNLWV4"
   },
   "source": [
    "Nilai null atau *missing values* merujuk pada data yang kosong atau tidak terisi. Hal ini dapat terjadi karena informasi tersebut tidak disediakan, sulit ditemukan, atau memang tidak tersedia. *Missing values* juga dapat direpresentasikan dengan istilah seperti \"NA\" atau \"NaN\"."
   ]
  },
  {
   "cell_type": "markdown",
   "metadata": {
    "id": "PWzfx2BHLalc"
   },
   "source": [
    "#### 1. Kondisi Tidak Ada *Missing Values*"
   ]
  },
  {
   "cell_type": "code",
   "execution_count": 188,
   "metadata": {
    "colab": {
     "base_uri": "https://localhost:8080/"
    },
    "id": "_92n7xSWLe7I",
    "outputId": "90bb6a2a-04b5-4438-c20e-419e558476ed"
   },
   "outputs": [
    {
     "name": "stdout",
     "output_type": "stream",
     "text": [
      "Count missing values untuk df_remote\n",
      " animal_name    0\n",
      "Hair           0\n",
      "Feathers       0\n",
      "Eggs           0\n",
      "Milk           0\n",
      "Airbone        0\n",
      "Aquati         0\n",
      "Predator       0\n",
      "Toothed        0\n",
      "Backbone       0\n",
      "Breathes       0\n",
      "Venomous       0\n",
      "Fins           0\n",
      "Legs           0\n",
      "Tail           0\n",
      "Domestic       0\n",
      "Catsize        0\n",
      "Type           0\n",
      "dtype: int64\n"
     ]
    }
   ],
   "source": [
    "# Menampilkan jumlah missing values tiap kolom\n",
    "print(\"Count missing values untuk df_remote\\n\", df_remote.isnull().sum())"
   ]
  },
  {
   "cell_type": "markdown",
   "metadata": {
    "id": "aGxt-47QL-Iy"
   },
   "source": [
    "#### 2. Kondisi Terdapat *Missing Values*"
   ]
  },
  {
   "cell_type": "code",
   "execution_count": 189,
   "metadata": {
    "id": "5TPZxdLNpn30",
    "outputId": "ac6e1c0b-f8c6-42ca-d800-89f9f197e9fc"
   },
   "outputs": [
    {
     "name": "stdout",
     "output_type": "stream",
     "text": [
      "Count missing values untuk df_local\n",
      " Year          0\n",
      "Product       0\n",
      "line          0\n",
      "Product.1     0\n",
      "type          0\n",
      "Product.2     0\n",
      "Order         0\n",
      "method        0\n",
      "type.1        0\n",
      "Retailer      0\n",
      "country      91\n",
      "Revenue       0\n",
      "dtype: int64\n"
     ]
    }
   ],
   "source": [
    "# Menampilkan jumlah missing values tiap kolom\n",
    "print(\"Count missing values untuk df_local\\n\", df_local.isnull().sum())"
   ]
  },
  {
   "cell_type": "markdown",
   "metadata": {
    "id": "_hR5wk6vpn30"
   },
   "source": [
    "Berdasarkan kode di atas, diketahui  bahwa ada kolom \"country\" yang memiliki nilai null dengan jumlah nilai null sebanyak 91 buah."
   ]
  },
  {
   "cell_type": "markdown",
   "metadata": {
    "id": "tVZc7kmUpn30"
   },
   "source": [
    "Ada beberapa pendekatan untuk menangani missing values, berikut pendekatan yang umum digunakan:\n",
    "\n",
    "Mengisi missing values dengan nilai tertentu menggunakan method `fillna()`\n",
    "Menghapus (drop) baris atau kolom yang mengandung missing values. Gunakan `dropna()` untuk menghapus baris yang mengandung missing values, dan `dropna(axis='columns')` untuk menghapus kolom yang mengandung missing values.\n",
    "\n",
    "Contoh-contoh di bawah akan berfokus pada kolom \"country\".\n"
   ]
  },
  {
   "cell_type": "markdown",
   "metadata": {
    "id": "wwRhaNj1pn31"
   },
   "source": [
    "* Mengisi data menggunakan method `fillna()`"
   ]
  },
  {
   "cell_type": "markdown",
   "metadata": {
    "id": "IDaBDT1Spn32"
   },
   "source": [
    "Terdapat tiga cara untuk melakukan method `fillna()`, diantaranya sebagai berikut.\n",
    "\n",
    "    - Mean, umumnya dapat digunakan untuk mengisi data numerikal yang memiliki distribusi normal.\n",
    "\n",
    "    - Median, umumnya dapat digunakan untuk mengisi data numerikal yang memiliki distribusi skewed.\n",
    "    \n",
    "    - Mode, umumnya dapat digunakan untuk mengisi data kategorikal."
   ]
  },
  {
   "cell_type": "markdown",
   "metadata": {
    "id": "tRVqwEc5pn32"
   },
   "source": [
    "Untuk mengisi *missing values* dalam data, maka akan digunakan mode sebagai contoh."
   ]
  },
  {
   "cell_type": "code",
   "execution_count": 190,
   "metadata": {
    "id": "6X1E1Joxpn33",
    "outputId": "cc90fb62-dcd7-4850-abc6-1d5c1a7958e1"
   },
   "outputs": [
    {
     "name": "stderr",
     "output_type": "stream",
     "text": [
      "C:\\Users\\Asus\\AppData\\Local\\Temp\\ipykernel_5308\\3290560918.py:8: FutureWarning: A value is trying to be set on a copy of a DataFrame or Series through chained assignment using an inplace method.\n",
      "The behavior will change in pandas 3.0. This inplace method will never work because the intermediate object on which we are setting values always behaves as a copy.\n",
      "\n",
      "For example, when doing 'df[col].method(value, inplace=True)', try using 'df.method({col: value}, inplace=True)' or df[col] = df[col].method(value) instead, to perform the operation inplace on the original object.\n",
      "\n",
      "\n",
      "  df_local_fillna['country'].fillna(mode, inplace=True)\n"
     ]
    },
    {
     "data": {
      "text/html": [
       "<div>\n",
       "<style scoped>\n",
       "    .dataframe tbody tr th:only-of-type {\n",
       "        vertical-align: middle;\n",
       "    }\n",
       "\n",
       "    .dataframe tbody tr th {\n",
       "        vertical-align: top;\n",
       "    }\n",
       "\n",
       "    .dataframe thead th {\n",
       "        text-align: right;\n",
       "    }\n",
       "</style>\n",
       "<table border=\"1\" class=\"dataframe\">\n",
       "  <thead>\n",
       "    <tr style=\"text-align: right;\">\n",
       "      <th></th>\n",
       "      <th>Year</th>\n",
       "      <th>Product</th>\n",
       "      <th>line</th>\n",
       "      <th>Product.1</th>\n",
       "      <th>type</th>\n",
       "      <th>Product.2</th>\n",
       "      <th>Order</th>\n",
       "      <th>method</th>\n",
       "      <th>type.1</th>\n",
       "      <th>Retailer</th>\n",
       "      <th>country</th>\n",
       "      <th>Revenue</th>\n",
       "    </tr>\n",
       "  </thead>\n",
       "  <tbody>\n",
       "    <tr>\n",
       "      <th>0</th>\n",
       "      <td>2004</td>\n",
       "      <td>Camping</td>\n",
       "      <td>Equipment</td>\n",
       "      <td>Cooking</td>\n",
       "      <td>Gear</td>\n",
       "      <td>TrailChef</td>\n",
       "      <td>Water</td>\n",
       "      <td>Bag</td>\n",
       "      <td>Telephone</td>\n",
       "      <td>United</td>\n",
       "      <td>States</td>\n",
       "      <td>315044.33</td>\n",
       "    </tr>\n",
       "    <tr>\n",
       "      <th>1</th>\n",
       "      <td>2004</td>\n",
       "      <td>Camping</td>\n",
       "      <td>Equipment</td>\n",
       "      <td>Cooking</td>\n",
       "      <td>Gear</td>\n",
       "      <td>TrailChef</td>\n",
       "      <td>Water</td>\n",
       "      <td>Bag</td>\n",
       "      <td>Telephone</td>\n",
       "      <td>Canada</td>\n",
       "      <td>Kingdom</td>\n",
       "      <td>14313.48</td>\n",
       "    </tr>\n",
       "    <tr>\n",
       "      <th>2</th>\n",
       "      <td>2004</td>\n",
       "      <td>Camping</td>\n",
       "      <td>Equipment</td>\n",
       "      <td>Cooking</td>\n",
       "      <td>Gear</td>\n",
       "      <td>TrailChef</td>\n",
       "      <td>Water</td>\n",
       "      <td>Bag</td>\n",
       "      <td>Telephone</td>\n",
       "      <td>Mexico</td>\n",
       "      <td>Kingdom</td>\n",
       "      <td>156644.47</td>\n",
       "    </tr>\n",
       "    <tr>\n",
       "      <th>3</th>\n",
       "      <td>2004</td>\n",
       "      <td>Camping</td>\n",
       "      <td>Equipment</td>\n",
       "      <td>Cooking</td>\n",
       "      <td>Gear</td>\n",
       "      <td>TrailChef</td>\n",
       "      <td>Water</td>\n",
       "      <td>Bag</td>\n",
       "      <td>Telephone</td>\n",
       "      <td>Brazil</td>\n",
       "      <td>Kingdom</td>\n",
       "      <td>59191.72</td>\n",
       "    </tr>\n",
       "    <tr>\n",
       "      <th>4</th>\n",
       "      <td>2004</td>\n",
       "      <td>Camping</td>\n",
       "      <td>Equipment</td>\n",
       "      <td>Cooking</td>\n",
       "      <td>Gear</td>\n",
       "      <td>TrailChef</td>\n",
       "      <td>Water</td>\n",
       "      <td>Bag</td>\n",
       "      <td>Telephone</td>\n",
       "      <td>Japan</td>\n",
       "      <td>Kingdom</td>\n",
       "      <td>7029.33</td>\n",
       "    </tr>\n",
       "  </tbody>\n",
       "</table>\n",
       "</div>"
      ],
      "text/plain": [
       "   Year  Product       line Product.1  type  Product.2  Order method     type.1 Retailer  country    Revenue\n",
       "0  2004  Camping  Equipment   Cooking  Gear  TrailChef  Water    Bag  Telephone   United   States  315044.33\n",
       "1  2004  Camping  Equipment   Cooking  Gear  TrailChef  Water    Bag  Telephone   Canada  Kingdom   14313.48\n",
       "2  2004  Camping  Equipment   Cooking  Gear  TrailChef  Water    Bag  Telephone   Mexico  Kingdom  156644.47\n",
       "3  2004  Camping  Equipment   Cooking  Gear  TrailChef  Water    Bag  Telephone   Brazil  Kingdom   59191.72\n",
       "4  2004  Camping  Equipment   Cooking  Gear  TrailChef  Water    Bag  Telephone    Japan  Kingdom    7029.33"
      ]
     },
     "execution_count": 190,
     "metadata": {},
     "output_type": "execute_result"
    }
   ],
   "source": [
    "# Salin DataFrame\n",
    "df_local_fillna = df_local.copy()\n",
    "\n",
    "# Mendapatkan nilai modus untuk kolom 'country'\n",
    "mode = df_local_fillna['country'].mode()[0]\n",
    "\n",
    "# Mengisi missing values dengan nilai modus\n",
    "df_local_fillna['country'].fillna(mode, inplace=True)\n",
    "\n",
    "# Menampilkan 5 baris pertama\n",
    "df_local_fillna.head(5)"
   ]
  },
  {
   "cell_type": "markdown",
   "metadata": {
    "id": "xJvdZOq9pn34"
   },
   "source": [
    "* Menghapus baris atau kolom dengan menggunakan `dropna()`"
   ]
  },
  {
   "cell_type": "code",
   "execution_count": 191,
   "metadata": {
    "id": "IKpIagJLpn34",
    "outputId": "aabd1d9a-9729-4044-f319-d5bf858b3208"
   },
   "outputs": [
    {
     "data": {
      "text/html": [
       "<div>\n",
       "<style scoped>\n",
       "    .dataframe tbody tr th:only-of-type {\n",
       "        vertical-align: middle;\n",
       "    }\n",
       "\n",
       "    .dataframe tbody tr th {\n",
       "        vertical-align: top;\n",
       "    }\n",
       "\n",
       "    .dataframe thead th {\n",
       "        text-align: right;\n",
       "    }\n",
       "</style>\n",
       "<table border=\"1\" class=\"dataframe\">\n",
       "  <thead>\n",
       "    <tr style=\"text-align: right;\">\n",
       "      <th></th>\n",
       "      <th>Year</th>\n",
       "      <th>Product</th>\n",
       "      <th>line</th>\n",
       "      <th>Product.1</th>\n",
       "      <th>type</th>\n",
       "      <th>Product.2</th>\n",
       "      <th>Order</th>\n",
       "      <th>method</th>\n",
       "      <th>type.1</th>\n",
       "      <th>Retailer</th>\n",
       "      <th>country</th>\n",
       "      <th>Revenue</th>\n",
       "    </tr>\n",
       "  </thead>\n",
       "  <tbody>\n",
       "    <tr>\n",
       "      <th>0</th>\n",
       "      <td>2004</td>\n",
       "      <td>Camping</td>\n",
       "      <td>Equipment</td>\n",
       "      <td>Cooking</td>\n",
       "      <td>Gear</td>\n",
       "      <td>TrailChef</td>\n",
       "      <td>Water</td>\n",
       "      <td>Bag</td>\n",
       "      <td>Telephone</td>\n",
       "      <td>United</td>\n",
       "      <td>States</td>\n",
       "      <td>315044.33</td>\n",
       "    </tr>\n",
       "    <tr>\n",
       "      <th>15</th>\n",
       "      <td>2004</td>\n",
       "      <td>Camping</td>\n",
       "      <td>Equipment</td>\n",
       "      <td>Cooking</td>\n",
       "      <td>Gear</td>\n",
       "      <td>TrailChef</td>\n",
       "      <td>Water</td>\n",
       "      <td>Bag</td>\n",
       "      <td>Telephone</td>\n",
       "      <td>United</td>\n",
       "      <td>Kingdom</td>\n",
       "      <td>62800.36</td>\n",
       "    </tr>\n",
       "    <tr>\n",
       "      <th>21</th>\n",
       "      <td>2004</td>\n",
       "      <td>Camping</td>\n",
       "      <td>Equipment</td>\n",
       "      <td>Cooking</td>\n",
       "      <td>Gear</td>\n",
       "      <td>TrailChef</td>\n",
       "      <td>Water</td>\n",
       "      <td>Bag</td>\n",
       "      <td>visit</td>\n",
       "      <td>United</td>\n",
       "      <td>States</td>\n",
       "      <td>7367.64</td>\n",
       "    </tr>\n",
       "    <tr>\n",
       "      <th>36</th>\n",
       "      <td>2004</td>\n",
       "      <td>Camping</td>\n",
       "      <td>Equipment</td>\n",
       "      <td>Cooking</td>\n",
       "      <td>Gear</td>\n",
       "      <td>TrailChef</td>\n",
       "      <td>Water</td>\n",
       "      <td>Bag</td>\n",
       "      <td>visit</td>\n",
       "      <td>United</td>\n",
       "      <td>Kingdom</td>\n",
       "      <td>52776.36</td>\n",
       "    </tr>\n",
       "    <tr>\n",
       "      <th>42</th>\n",
       "      <td>2004</td>\n",
       "      <td>Camping</td>\n",
       "      <td>Equipment</td>\n",
       "      <td>Cooking</td>\n",
       "      <td>Gear</td>\n",
       "      <td>TrailChef</td>\n",
       "      <td>Water</td>\n",
       "      <td>Bag</td>\n",
       "      <td>Web</td>\n",
       "      <td>United</td>\n",
       "      <td>States</td>\n",
       "      <td>340867.26</td>\n",
       "    </tr>\n",
       "  </tbody>\n",
       "</table>\n",
       "</div>"
      ],
      "text/plain": [
       "    Year  Product       line Product.1  type  Product.2  Order method     type.1 Retailer  country    Revenue\n",
       "0   2004  Camping  Equipment   Cooking  Gear  TrailChef  Water    Bag  Telephone   United   States  315044.33\n",
       "15  2004  Camping  Equipment   Cooking  Gear  TrailChef  Water    Bag  Telephone   United  Kingdom   62800.36\n",
       "21  2004  Camping  Equipment   Cooking  Gear  TrailChef  Water    Bag      visit   United   States    7367.64\n",
       "36  2004  Camping  Equipment   Cooking  Gear  TrailChef  Water    Bag      visit   United  Kingdom   52776.36\n",
       "42  2004  Camping  Equipment   Cooking  Gear  TrailChef  Water    Bag        Web   United   States  340867.26"
      ]
     },
     "execution_count": 191,
     "metadata": {},
     "output_type": "execute_result"
    }
   ],
   "source": [
    "# dropna untuk menghapus baris yang mengandung missing values\n",
    "df_local_drop = df_local.copy()\n",
    "df_local_drop = df_local_drop.dropna()\n",
    "df_local_drop.head(5)"
   ]
  },
  {
   "cell_type": "markdown",
   "metadata": {
    "id": "bvB4g0Z9pn34"
   },
   "source": [
    "# Pertanyaan Pandas"
   ]
  },
  {
   "cell_type": "markdown",
   "metadata": {
    "id": "oruYbmTvpn34"
   },
   "source": [
    "Jawab setiap pertanyaan pada cell di bawah cell pertanyaan. Jawaban boleh lebih dari 1 cell dan juga kombinasi antara cell kode atau markdown jika memang diperlukan sebagai penjelasan jawaban. Gunakan dataset School_Nutrition_Programs.csv yang dilampirkan di SCELE untuk mengerjakan soal-soal berikut."
   ]
  },
  {
   "cell_type": "code",
   "execution_count": 192,
   "metadata": {
    "id": "uF0mAvZipn34"
   },
   "outputs": [],
   "source": [
    "import pandas as pd\n",
    "import numpy as np"
   ]
  },
  {
   "cell_type": "markdown",
   "metadata": {
    "id": "qRGf2GeZpn34"
   },
   "source": [
    "## Nomor 1"
   ]
  },
  {
   "cell_type": "markdown",
   "metadata": {
    "id": "KMFkSJ2wpn34"
   },
   "source": [
    "Buka dataset  School_Nutrition_Programs.csv sebagai dataframe dan tampilkan 15 baris terarkhir dari dataframe tersebut."
   ]
  },
  {
   "cell_type": "markdown",
   "metadata": {
    "id": "IkhSWpj0pn35"
   },
   "source": [
    "```\n",
    "Deskripsi Dataset:\n",
    "* Tahun Program: Tahun tinjauan program terkait (2015-2016).\n",
    "* ID CE: Pengenal unik untuk Otoritas Makanan Sekolah (SFA).\n",
    "* Nama CE: Nama Otoritas Makanan Sekolah (SFA).\n",
    "* Wilayah PKB: Wilayah di bawah Pusat Layanan Pendidikan (ESC) yang mengawasi SFA.\n",
    "* ID Peninjauan: Pengenal unik untuk tinjauan spesifik yang dilakukan.\n",
    "* Tanggal Tinjauan: Tanggal pelaksanaan tinjauan.\n",
    "* Area Temuan: Area atau kategori di mana temuan dibuat selama peninjauan (misalnya, kepatuhan, standar gizi).\n",
    "* Nomor Pertanyaan: Pertanyaan spesifik dari tinjauan administratif yang terkait dengan temuan.\n",
    "* Pertanyaan: Teks pertanyaan tinjauan administratif yang terkait dengan temuan.\n",
    "```\n",
    "\n",
    "\n",
    "\n",
    "Tujuan:\n",
    "Dataset ini membantu pengguna memahami jenis-jenis temuan yang dilaporkan selama tinjauan administratif terhadap SFA, yang menyoroti isu-isu kepatuhan dalam NSLP. Data ini dapat bermanfaat bagi peneliti, pembuat kebijakan, atau siapa saja yang tertarik dengan administrasi dan pengawasan program gizi sekolah.\n"
   ]
  },
  {
   "cell_type": "code",
   "execution_count": 25,
   "metadata": {
    "id": "FSEcIiVLpn35"
   },
   "outputs": [
    {
     "data": {
      "text/html": [
       "<div>\n",
       "<style scoped>\n",
       "    .dataframe tbody tr th:only-of-type {\n",
       "        vertical-align: middle;\n",
       "    }\n",
       "\n",
       "    .dataframe tbody tr th {\n",
       "        vertical-align: top;\n",
       "    }\n",
       "\n",
       "    .dataframe thead th {\n",
       "        text-align: right;\n",
       "    }\n",
       "</style>\n",
       "<table border=\"1\" class=\"dataframe\">\n",
       "  <thead>\n",
       "    <tr style=\"text-align: right;\">\n",
       "      <th></th>\n",
       "      <th>Program Year</th>\n",
       "      <th>CE ID</th>\n",
       "      <th>CE Name</th>\n",
       "      <th>ESC Region</th>\n",
       "      <th>Review ID</th>\n",
       "      <th>Review Date</th>\n",
       "      <th>Finding Area</th>\n",
       "      <th>Question Number</th>\n",
       "      <th>Question\\n(For more details, USDA provides information on the forms referenced in this column on their Website.)</th>\n",
       "    </tr>\n",
       "  </thead>\n",
       "  <tbody>\n",
       "    <tr>\n",
       "      <th>1594</th>\n",
       "      <td>2015 - 2016</td>\n",
       "      <td>1029</td>\n",
       "      <td>CASTLEBERRY ISD</td>\n",
       "      <td>11</td>\n",
       "      <td>14445</td>\n",
       "      <td>04/28/2016</td>\n",
       "      <td>Additional Review Questions</td>\n",
       "      <td>3</td>\n",
       "      <td>Was the competitive procurement procedures use...</td>\n",
       "    </tr>\n",
       "    <tr>\n",
       "      <th>1595</th>\n",
       "      <td>2015 - 2016</td>\n",
       "      <td>5427</td>\n",
       "      <td>ERATH EXCELS ACADEMY, INC.</td>\n",
       "      <td>11</td>\n",
       "      <td>21234</td>\n",
       "      <td>04/28/2016</td>\n",
       "      <td>100 - Certification and Benefit Issuance</td>\n",
       "      <td>126</td>\n",
       "      <td>a. Certification and Benefit Issuance Review M...</td>\n",
       "    </tr>\n",
       "    <tr>\n",
       "      <th>1596</th>\n",
       "      <td>2015 - 2016</td>\n",
       "      <td>5427</td>\n",
       "      <td>ERATH EXCELS ACADEMY, INC.</td>\n",
       "      <td>11</td>\n",
       "      <td>21234</td>\n",
       "      <td>04/28/2016</td>\n",
       "      <td>100 - Certification and Benefit Issuance</td>\n",
       "      <td>138</td>\n",
       "      <td>Did the SFA update the benefit issuance docume...</td>\n",
       "    </tr>\n",
       "    <tr>\n",
       "      <th>1597</th>\n",
       "      <td>2015 - 2016</td>\n",
       "      <td>5427</td>\n",
       "      <td>ERATH EXCELS ACADEMY, INC.</td>\n",
       "      <td>11</td>\n",
       "      <td>21234</td>\n",
       "      <td>04/28/2016</td>\n",
       "      <td>100 - Certification and Benefit Issuance</td>\n",
       "      <td>123</td>\n",
       "      <td>For each question on the Off-Site Assessment T...</td>\n",
       "    </tr>\n",
       "    <tr>\n",
       "      <th>1598</th>\n",
       "      <td>2015 - 2016</td>\n",
       "      <td>5427</td>\n",
       "      <td>ERATH EXCELS ACADEMY, INC.</td>\n",
       "      <td>11</td>\n",
       "      <td>21234</td>\n",
       "      <td>04/28/2016</td>\n",
       "      <td>1400 - Food Safety</td>\n",
       "      <td>1400</td>\n",
       "      <td>a. Does the written food safety plan contain t...</td>\n",
       "    </tr>\n",
       "    <tr>\n",
       "      <th>1599</th>\n",
       "      <td>2015 - 2016</td>\n",
       "      <td>5427</td>\n",
       "      <td>ERATH EXCELS ACADEMY, INC.</td>\n",
       "      <td>11</td>\n",
       "      <td>21234</td>\n",
       "      <td>04/28/2016</td>\n",
       "      <td>1500 - Reporting and Recordkeeping</td>\n",
       "      <td>1502</td>\n",
       "      <td>Did the SFA maintain sufficient records to doc...</td>\n",
       "    </tr>\n",
       "    <tr>\n",
       "      <th>1600</th>\n",
       "      <td>2015 - 2016</td>\n",
       "      <td>5427</td>\n",
       "      <td>ERATH EXCELS ACADEMY, INC.</td>\n",
       "      <td>11</td>\n",
       "      <td>21234</td>\n",
       "      <td>04/28/2016</td>\n",
       "      <td>800 - Civil Rights</td>\n",
       "      <td>803</td>\n",
       "      <td>What is the SFA’s procedure for receiving and ...</td>\n",
       "    </tr>\n",
       "    <tr>\n",
       "      <th>1601</th>\n",
       "      <td>2015 - 2016</td>\n",
       "      <td>5427</td>\n",
       "      <td>ERATH EXCELS ACADEMY, INC.</td>\n",
       "      <td>11</td>\n",
       "      <td>21234</td>\n",
       "      <td>04/28/2016</td>\n",
       "      <td>Resource Mgt Comprehensive Review (2016)</td>\n",
       "      <td>7</td>\n",
       "      <td>Was the SFA able to separate its program food ...</td>\n",
       "    </tr>\n",
       "    <tr>\n",
       "      <th>1602</th>\n",
       "      <td>2015 - 2016</td>\n",
       "      <td>906</td>\n",
       "      <td>FARWELL ISD</td>\n",
       "      <td>16</td>\n",
       "      <td>14325</td>\n",
       "      <td>04/28/2016</td>\n",
       "      <td>100 - Certification and Benefit Issuance</td>\n",
       "      <td>126</td>\n",
       "      <td>a. Certification and Benefit Issuance Review M...</td>\n",
       "    </tr>\n",
       "    <tr>\n",
       "      <th>1603</th>\n",
       "      <td>2015 - 2016</td>\n",
       "      <td>906</td>\n",
       "      <td>FARWELL ISD</td>\n",
       "      <td>16</td>\n",
       "      <td>14325</td>\n",
       "      <td>04/28/2016</td>\n",
       "      <td>100 - Certification and Benefit Issuance</td>\n",
       "      <td>137</td>\n",
       "      <td>Did the SFA accurately transfer the correct be...</td>\n",
       "    </tr>\n",
       "    <tr>\n",
       "      <th>1604</th>\n",
       "      <td>2015 - 2016</td>\n",
       "      <td>906</td>\n",
       "      <td>FARWELL ISD</td>\n",
       "      <td>16</td>\n",
       "      <td>14325</td>\n",
       "      <td>04/28/2016</td>\n",
       "      <td>100 - Certification and Benefit Issuance</td>\n",
       "      <td>128</td>\n",
       "      <td>Are the correct conversion factors used when p...</td>\n",
       "    </tr>\n",
       "    <tr>\n",
       "      <th>1605</th>\n",
       "      <td>2015 - 2016</td>\n",
       "      <td>906</td>\n",
       "      <td>FARWELL ISD</td>\n",
       "      <td>16</td>\n",
       "      <td>14325</td>\n",
       "      <td>04/28/2016</td>\n",
       "      <td>1700 - Afterschool Snack</td>\n",
       "      <td>1707</td>\n",
       "      <td>a. Has the program been monitored within the f...</td>\n",
       "    </tr>\n",
       "    <tr>\n",
       "      <th>1606</th>\n",
       "      <td>2015 - 2016</td>\n",
       "      <td>906</td>\n",
       "      <td>FARWELL ISD</td>\n",
       "      <td>16</td>\n",
       "      <td>14325</td>\n",
       "      <td>04/28/2016</td>\n",
       "      <td>400 - Meal Components and Quantities - Breakfast</td>\n",
       "      <td>401</td>\n",
       "      <td>Did all meals observed for the day of review c...</td>\n",
       "    </tr>\n",
       "    <tr>\n",
       "      <th>1607</th>\n",
       "      <td>2015 - 2016</td>\n",
       "      <td>829</td>\n",
       "      <td>TEXAS SERENITY ACADEMY (CONROE,TX)</td>\n",
       "      <td>4</td>\n",
       "      <td>14250</td>\n",
       "      <td>04/28/2016</td>\n",
       "      <td>Additional Review Questions</td>\n",
       "      <td>1</td>\n",
       "      <td>Were funds expensed on something that would im...</td>\n",
       "    </tr>\n",
       "    <tr>\n",
       "      <th>1608</th>\n",
       "      <td>2015 - 2016</td>\n",
       "      <td>251</td>\n",
       "      <td>ACADEMY OF AMERICA DBA ACADEMY OF DALLAS</td>\n",
       "      <td>10</td>\n",
       "      <td>22590</td>\n",
       "      <td>06/02/2016</td>\n",
       "      <td>400 - Meal Components and Quantities - Breakfast</td>\n",
       "      <td>403</td>\n",
       "      <td>a. Was fluid milk available in at least the tw...</td>\n",
       "    </tr>\n",
       "  </tbody>\n",
       "</table>\n",
       "</div>"
      ],
      "text/plain": [
       "     Program Year  CE ID                                   CE Name  \\\n",
       "1594  2015 - 2016   1029                           CASTLEBERRY ISD   \n",
       "1595  2015 - 2016   5427                ERATH EXCELS ACADEMY, INC.   \n",
       "1596  2015 - 2016   5427                ERATH EXCELS ACADEMY, INC.   \n",
       "1597  2015 - 2016   5427                ERATH EXCELS ACADEMY, INC.   \n",
       "1598  2015 - 2016   5427                ERATH EXCELS ACADEMY, INC.   \n",
       "1599  2015 - 2016   5427                ERATH EXCELS ACADEMY, INC.   \n",
       "1600  2015 - 2016   5427                ERATH EXCELS ACADEMY, INC.   \n",
       "1601  2015 - 2016   5427                ERATH EXCELS ACADEMY, INC.   \n",
       "1602  2015 - 2016    906                               FARWELL ISD   \n",
       "1603  2015 - 2016    906                               FARWELL ISD   \n",
       "1604  2015 - 2016    906                               FARWELL ISD   \n",
       "1605  2015 - 2016    906                               FARWELL ISD   \n",
       "1606  2015 - 2016    906                               FARWELL ISD   \n",
       "1607  2015 - 2016    829        TEXAS SERENITY ACADEMY (CONROE,TX)   \n",
       "1608  2015 - 2016    251  ACADEMY OF AMERICA DBA ACADEMY OF DALLAS   \n",
       "\n",
       "      ESC Region  Review ID Review Date  \\\n",
       "1594          11      14445  04/28/2016   \n",
       "1595          11      21234  04/28/2016   \n",
       "1596          11      21234  04/28/2016   \n",
       "1597          11      21234  04/28/2016   \n",
       "1598          11      21234  04/28/2016   \n",
       "1599          11      21234  04/28/2016   \n",
       "1600          11      21234  04/28/2016   \n",
       "1601          11      21234  04/28/2016   \n",
       "1602          16      14325  04/28/2016   \n",
       "1603          16      14325  04/28/2016   \n",
       "1604          16      14325  04/28/2016   \n",
       "1605          16      14325  04/28/2016   \n",
       "1606          16      14325  04/28/2016   \n",
       "1607           4      14250  04/28/2016   \n",
       "1608          10      22590  06/02/2016   \n",
       "\n",
       "                                          Finding Area Question Number  \\\n",
       "1594                       Additional Review Questions               3   \n",
       "1595          100 - Certification and Benefit Issuance             126   \n",
       "1596          100 - Certification and Benefit Issuance             138   \n",
       "1597          100 - Certification and Benefit Issuance             123   \n",
       "1598                                1400 - Food Safety            1400   \n",
       "1599                1500 - Reporting and Recordkeeping            1502   \n",
       "1600                                800 - Civil Rights             803   \n",
       "1601          Resource Mgt Comprehensive Review (2016)               7   \n",
       "1602          100 - Certification and Benefit Issuance             126   \n",
       "1603          100 - Certification and Benefit Issuance             137   \n",
       "1604          100 - Certification and Benefit Issuance             128   \n",
       "1605                          1700 - Afterschool Snack            1707   \n",
       "1606  400 - Meal Components and Quantities - Breakfast             401   \n",
       "1607                       Additional Review Questions               1   \n",
       "1608  400 - Meal Components and Quantities - Breakfast             403   \n",
       "\n",
       "     Question\\n(For more details, USDA provides information on the forms referenced in this column on their Website.)  \n",
       "1594  Was the competitive procurement procedures use...                                                                \n",
       "1595  a. Certification and Benefit Issuance Review M...                                                                \n",
       "1596  Did the SFA update the benefit issuance docume...                                                                \n",
       "1597  For each question on the Off-Site Assessment T...                                                                \n",
       "1598  a. Does the written food safety plan contain t...                                                                \n",
       "1599  Did the SFA maintain sufficient records to doc...                                                                \n",
       "1600  What is the SFA’s procedure for receiving and ...                                                                \n",
       "1601  Was the SFA able to separate its program food ...                                                                \n",
       "1602  a. Certification and Benefit Issuance Review M...                                                                \n",
       "1603  Did the SFA accurately transfer the correct be...                                                                \n",
       "1604  Are the correct conversion factors used when p...                                                                \n",
       "1605  a. Has the program been monitored within the f...                                                                \n",
       "1606  Did all meals observed for the day of review c...                                                                \n",
       "1607  Were funds expensed on something that would im...                                                                \n",
       "1608  a. Was fluid milk available in at least the tw...                                                                "
      ]
     },
     "execution_count": 25,
     "metadata": {},
     "output_type": "execute_result"
    }
   ],
   "source": [
    "import pandas as pd\n",
    "# Membaca dataset pada CSV\n",
    "file_path = \"School_Nutrition_Programs.csv\"\n",
    "df = pd.read_csv(file_path)\n",
    "\n",
    "# Menampilkan 15 baris terakhir\n",
    "df.tail(15)"
   ]
  },
  {
   "cell_type": "markdown",
   "metadata": {
    "id": "s-1rFrlVpn35"
   },
   "source": [
    "## Nomor 2"
   ]
  },
  {
   "cell_type": "markdown",
   "metadata": {
    "id": "5J1P2A56pn35"
   },
   "source": [
    "Tampilkan ukuran DataFrame tersebut, tipe data setiap kolom, serta statistik deskriptif untuk kolom-kolom di atas."
   ]
  },
  {
   "cell_type": "code",
   "execution_count": 26,
   "metadata": {
    "id": "RKfdpcQbpn35"
   },
   "outputs": [
    {
     "name": "stdout",
     "output_type": "stream",
     "text": [
      "DataFrame Shape: (1609, 8)\n",
      "\n",
      "Data Types:\n",
      "Program Year       object\n",
      "CE ID               int64\n",
      "CE Name            object\n",
      "ESC Region          int64\n",
      "Review ID           int64\n",
      "Review Date        object\n",
      "Finding Area       object\n",
      "Question Number    object\n",
      "dtype: object\n",
      "\n",
      "Descriptive Statistics: \n",
      "             CE ID  ESC Region     Review ID\n",
      "count  1609.000000  1609.00000   1609.000000\n",
      "mean    864.846489    10.36358  15526.676818\n",
      "std     903.558032     5.52990   2086.934338\n",
      "min       1.000000     1.00000  13449.000000\n",
      "25%     332.000000     6.00000  13980.000000\n",
      "50%     733.000000    10.00000  14477.000000\n",
      "75%    1095.000000    15.00000  18207.000000\n",
      "max    5427.000000    20.00000  22590.000000\n"
     ]
    }
   ],
   "source": [
    "import pandas as pd\n",
    "df.columns = df.columns.str.strip().str.replace(\"\\n\", \" \").str.replace(\"\\r\", \" \")\n",
    "df = df.loc[:, ~df.columns.str.contains(\"For more details\", case=False)]\n",
    "df.tail(15)\n",
    "df_shape = df.shape\n",
    "print(\"DataFrame Shape:\", df_shape)\n",
    "\n",
    "# Tipe data tiap kolom\n",
    "tipe_data = df.dtypes\n",
    "print(\"\\nData Types:\")\n",
    "print(tipe_data)\n",
    "\n",
    "# Deskriptif statistik tiap kolom\n",
    "df_describe = df.describe()\n",
    "print(\"\")\n",
    "print(\"Descriptive Statistics: \")\n",
    "print(df_describe)\n"
   ]
  },
  {
   "cell_type": "markdown",
   "metadata": {
    "id": "dHj5I7Abpn35"
   },
   "source": [
    "## Nomor 3"
   ]
  },
  {
   "cell_type": "markdown",
   "metadata": {
    "id": "cpFy1XyIpn36"
   },
   "source": [
    "Tampilkan seluruh data dalam kolom `Review ID` yang memiliki nilai lebih dari 20000 pada dataset tersebut."
   ]
  },
  {
   "cell_type": "code",
   "execution_count": 28,
   "metadata": {
    "id": "wxA02Hkmpn36"
   },
   "outputs": [
    {
     "name": "stdout",
     "output_type": "stream",
     "text": [
      "Data dengan Review ID lebih dari 20000:\n",
      " \n",
      "     Program Year  CE ID                                   CE Name  \\\n",
      "402   2015 - 2016    405                             LA MARQUE ISD   \n",
      "403   2015 - 2016    405                             LA MARQUE ISD   \n",
      "404   2015 - 2016    405                             LA MARQUE ISD   \n",
      "405   2015 - 2016    405                             LA MARQUE ISD   \n",
      "406   2015 - 2016    405                             LA MARQUE ISD   \n",
      "1275  2015 - 2016    735                                HARDIN ISD   \n",
      "1276  2015 - 2016    735                                HARDIN ISD   \n",
      "1277  2015 - 2016    735                                HARDIN ISD   \n",
      "1492  2015 - 2016   5376       RICHARD MILBURN ACADEMY TEXAS, INC.   \n",
      "1493  2015 - 2016   5376       RICHARD MILBURN ACADEMY TEXAS, INC.   \n",
      "1494  2015 - 2016   5376       RICHARD MILBURN ACADEMY TEXAS, INC.   \n",
      "1495  2015 - 2016   5376       RICHARD MILBURN ACADEMY TEXAS, INC.   \n",
      "1496  2015 - 2016   5376       RICHARD MILBURN ACADEMY TEXAS, INC.   \n",
      "1497  2015 - 2016   5376       RICHARD MILBURN ACADEMY TEXAS, INC.   \n",
      "1542  2015 - 2016   1094                                KNIPPA ISD   \n",
      "1543  2015 - 2016   1094                                KNIPPA ISD   \n",
      "1544  2015 - 2016   1094                                KNIPPA ISD   \n",
      "1563  2015 - 2016   1095                               SABINAL ISD   \n",
      "1564  2015 - 2016   1095                               SABINAL ISD   \n",
      "1565  2015 - 2016   1095                               SABINAL ISD   \n",
      "1566  2015 - 2016   1095                               SABINAL ISD   \n",
      "1567  2015 - 2016   1095                               SABINAL ISD   \n",
      "1568  2015 - 2016   1095                               SABINAL ISD   \n",
      "1595  2015 - 2016   5427                ERATH EXCELS ACADEMY, INC.   \n",
      "1596  2015 - 2016   5427                ERATH EXCELS ACADEMY, INC.   \n",
      "1597  2015 - 2016   5427                ERATH EXCELS ACADEMY, INC.   \n",
      "1598  2015 - 2016   5427                ERATH EXCELS ACADEMY, INC.   \n",
      "1599  2015 - 2016   5427                ERATH EXCELS ACADEMY, INC.   \n",
      "1600  2015 - 2016   5427                ERATH EXCELS ACADEMY, INC.   \n",
      "1601  2015 - 2016   5427                ERATH EXCELS ACADEMY, INC.   \n",
      "1608  2015 - 2016    251  ACADEMY OF AMERICA DBA ACADEMY OF DALLAS   \n",
      "\n",
      "      ESC Region  Review ID Review Date  \\\n",
      "402            4      20087  12/08/2015   \n",
      "403            4      20087  12/08/2015   \n",
      "404            4      20087  12/08/2015   \n",
      "405            4      20087  12/08/2015   \n",
      "406            4      20087  12/08/2015   \n",
      "1275           5      21869  03/24/2016   \n",
      "1276           5      21869  03/24/2016   \n",
      "1277           5      21869  03/24/2016   \n",
      "1492          20      21219  04/18/2016   \n",
      "1493          20      21219  04/18/2016   \n",
      "1494          20      21219  04/18/2016   \n",
      "1495          20      21219  04/18/2016   \n",
      "1496          20      21219  04/18/2016   \n",
      "1497          20      21219  04/18/2016   \n",
      "1542          20      22216  04/20/2016   \n",
      "1543          20      22216  04/20/2016   \n",
      "1544          20      22216  04/20/2016   \n",
      "1563          20      22217  04/21/2016   \n",
      "1564          20      22217  04/21/2016   \n",
      "1565          20      22217  04/21/2016   \n",
      "1566          20      22217  04/21/2016   \n",
      "1567          20      22217  04/21/2016   \n",
      "1568          20      22217  04/21/2016   \n",
      "1595          11      21234  04/28/2016   \n",
      "1596          11      21234  04/28/2016   \n",
      "1597          11      21234  04/28/2016   \n",
      "1598          11      21234  04/28/2016   \n",
      "1599          11      21234  04/28/2016   \n",
      "1600          11      21234  04/28/2016   \n",
      "1601          11      21234  04/28/2016   \n",
      "1608          10      22590  06/02/2016   \n",
      "\n",
      "                                          Finding Area Question Number  \n",
      "402           100 - Certification and Benefit Issuance             133  \n",
      "403           100 - Certification and Benefit Issuance             134  \n",
      "404                                 200 - Verification             208  \n",
      "405                   300 - Meal Counting and Claiming             316  \n",
      "406       400 - Meal Components and Quantities - Lunch             401  \n",
      "1275          100 - Certification and Benefit Issuance             126  \n",
      "1276      400 - Meal Components and Quantities - Lunch             411  \n",
      "1277                       Additional Review Questions              5.  \n",
      "1492          100 - Certification and Benefit Issuance             126  \n",
      "1493          100 - Certification and Benefit Issuance             137  \n",
      "1494      400 - Meal Components and Quantities - Lunch             411  \n",
      "1495      400 - Meal Components and Quantities - Lunch             411  \n",
      "1496      400 - Meal Components and Quantities - Lunch             400  \n",
      "1497                                800 - Civil Rights             810  \n",
      "1542          100 - Certification and Benefit Issuance             126  \n",
      "1543      400 - Meal Components and Quantities - Lunch             411  \n",
      "1544                  700 - Resource Management (2016)             706  \n",
      "1563          100 - Certification and Benefit Issuance             128  \n",
      "1564          100 - Certification and Benefit Issuance             126  \n",
      "1565                                200 - Verification             202  \n",
      "1566      400 - Meal Components and Quantities - Lunch             411  \n",
      "1567                      900 - SFA On Site Monitoring             900  \n",
      "1568                       Additional Review Questions               1  \n",
      "1595          100 - Certification and Benefit Issuance             126  \n",
      "1596          100 - Certification and Benefit Issuance             138  \n",
      "1597          100 - Certification and Benefit Issuance             123  \n",
      "1598                                1400 - Food Safety            1400  \n",
      "1599                1500 - Reporting and Recordkeeping            1502  \n",
      "1600                                800 - Civil Rights             803  \n",
      "1601          Resource Mgt Comprehensive Review (2016)               7  \n",
      "1608  400 - Meal Components and Quantities - Breakfast             403  \n"
     ]
    }
   ],
   "source": [
    "import pandas as pd\n",
    "review_id_diatas_20000 = df[df['Review ID'] > 20000]\n",
    "print(\"Data dengan Review ID lebih dari 20000:\")\n",
    "print(\" \")\n",
    "print(review_id_diatas_20000)"
   ]
  },
  {
   "cell_type": "markdown",
   "metadata": {
    "id": "9kwpmCzDpn36"
   },
   "source": [
    "## Nomor 4"
   ]
  },
  {
   "cell_type": "markdown",
   "metadata": {},
   "source": [
    "Tunjukkan ada berapa  unik pada dataset tersebut. Kemudian  apa yang paling banyak muncul dan berapa banyak kemunculannya?"
   ]
  },
  {
   "cell_type": "code",
   "execution_count": 32,
   "metadata": {
    "id": "vBD1MNeZpn36"
   },
   "outputs": [
    {
     "name": "stdout",
     "output_type": "stream",
     "text": [
      "Jumlah CE Name unik: 461\n",
      " \n",
      "CE yang paling banyak muncul: MERIDIAN WORLD SCHOOL LLC\n",
      " \n",
      "Jumlah kemunculan: 18\n"
     ]
    }
   ],
   "source": [
    "import pandas as pd\n",
    "# Menghitung jumlah CE Name unik\n",
    "nama_ce_unik = df['CE Name'].nunique()\n",
    "print(\"Jumlah CE Name unik:\", nama_ce_unik)\n",
    "print(\" \")\n",
    "\n",
    "# Menentukan CE yang paling banyak muncul\n",
    "ce_terbanyak = df['CE Name'].value_counts().idxmax()\n",
    "frekuensi_muncul = df['CE Name'].value_counts().max()\n",
    "print(\"CE yang paling banyak muncul:\", ce_terbanyak)\n",
    "print(\" \")\n",
    "print(\"Jumlah kemunculan:\", frekuensi_muncul)"
   ]
  },
  {
   "cell_type": "markdown",
   "metadata": {
    "id": "AO74lQQopn36"
   },
   "source": [
    "## Nomor 5"
   ]
  },
  {
   "cell_type": "markdown",
   "metadata": {
    "id": "8D9R0U6Jpn36"
   },
   "source": [
    "Tampilkan seluruh data dalam kolom `Finding Area` yang mengandung angka \"1400\"."
   ]
  },
  {
   "cell_type": "code",
   "execution_count": null,
   "metadata": {
    "id": "bwPCuHdRpn36"
   },
   "outputs": [
    {
     "name": "stdout",
     "output_type": "stream",
     "text": [
      "Data dengan 'Finding Area' mengandung angka 1400: \n",
      " \n",
      "     Program Year  CE ID                                      CE Name  \\\n",
      "3     2015 - 2016   1283  HARRIS COUNTY JUVENILE PROBATION DEPARTMENT   \n",
      "16    2015 - 2016   1340        MONTGOMERY COUNTY JUVENILE DEPARTMENT   \n",
      "24    2015 - 2016   1251     YOUTH AND FAMILY ENRICHMENT CENTERS, INC   \n",
      "41    2015 - 2016   1188            NEW HORIZONS RANCH AND CENTER INC   \n",
      "42    2015 - 2016   1188            NEW HORIZONS RANCH AND CENTER INC   \n",
      "...           ...    ...                                          ...   \n",
      "1519  2015 - 2016    603                             MILLER GROVE ISD   \n",
      "1524  2015 - 2016   1311                   SACRED HEART SCHOOL-UVALDE   \n",
      "1570  2015 - 2016    977                                      IRA ISD   \n",
      "1586  2015 - 2016    908                                LAZBUDDIE ISD   \n",
      "1598  2015 - 2016   5427                   ERATH EXCELS ACADEMY, INC.   \n",
      "\n",
      "      ESC Region  Review ID Review Date        Finding Area Question Number  \n",
      "3              4      14658  09/10/2015  1400 - Food Safety            1405  \n",
      "16             6      14697  09/16/2015  1400 - Food Safety            1406  \n",
      "24             7      14638  09/22/2015  1400 - Food Safety            1406  \n",
      "41            12      14595  09/23/2015  1400 - Food Safety            1406  \n",
      "42            12      14595  09/23/2015  1400 - Food Safety            1405  \n",
      "...          ...        ...         ...                 ...             ...  \n",
      "1519           8      18229  04/19/2016  1400 - Food Safety            1406  \n",
      "1524          20      18340  04/19/2016  1400 - Food Safety            1402  \n",
      "1570          14      14396  04/22/2016  1400 - Food Safety            1405  \n",
      "1586          16      14327  04/26/2016  1400 - Food Safety            1404  \n",
      "1598          11      21234  04/28/2016  1400 - Food Safety            1400  \n",
      "\n",
      "[111 rows x 8 columns]\n"
     ]
    }
   ],
   "source": [
    "import pandas as pd\n",
    "data_mengandung_140 = df[df['Finding Area'].astype(str).str.contains(\"1400\", na=False)]\n",
    "\n",
    "# Menampilkan hasil\n",
    "print(\"Data dengan 'Finding Area' mengandung angka 1400: \")\n",
    "print(\" \")\n",
    "print(data_mengandung_140)\n",
    "\n",
    "# Dear asdos, kolom output ESC Region sampai Question Number jadi kebelah 2 ke bawah ya \n",
    "# soalnya ga muat ke samping, kayanya output lain ada beberapa yg spt ini juga (cmiiw)"
   ]
  },
  {
   "cell_type": "markdown",
   "metadata": {},
   "source": [
    "## Nomor 6"
   ]
  },
  {
   "cell_type": "markdown",
   "metadata": {
    "id": "oKKt1DQapn37"
   },
   "source": [
    "Buatlah dataframe baru dari data dataset tersebut yang terdiri dari kolom `Program Year`, `CE Name`, `Review ID`, `Review Date`, dan `Finding Area`. Serta tampilkan dimensi dari dataframe baru tersebut."
   ]
  },
  {
   "cell_type": "code",
   "execution_count": 34,
   "metadata": {},
   "outputs": [
    {
     "name": "stdout",
     "output_type": "stream",
     "text": [
      "DataFrame baru:\n",
      " \n",
      "  Program Year                                      CE Name  Review ID  \\\n",
      "0  2015 - 2016         CHILDREN'S AID SOCIETY OF WEST TEXAS      14667   \n",
      "1  2015 - 2016         CHILDREN'S AID SOCIETY OF WEST TEXAS      14667   \n",
      "2  2015 - 2016         CHILDREN'S AID SOCIETY OF WEST TEXAS      14667   \n",
      "3  2015 - 2016  HARRIS COUNTY JUVENILE PROBATION DEPARTMENT      14658   \n",
      "4  2015 - 2016  HARRIS COUNTY JUVENILE PROBATION DEPARTMENT      14658   \n",
      "5  2015 - 2016  HARRIS COUNTY JUVENILE PROBATION DEPARTMENT      14658   \n",
      "6  2015 - 2016  HARRIS COUNTY JUVENILE PROBATION DEPARTMENT      14658   \n",
      "7  2015 - 2016  HARRIS COUNTY JUVENILE PROBATION DEPARTMENT      14658   \n",
      "\n",
      "  Review Date                                      Finding Area  \n",
      "0  09/07/2015                          1700 - Afterschool Snack  \n",
      "1  09/07/2015                  300 - Meal Counting and Claiming  \n",
      "2  09/07/2015      400 - Meal Components and Quantities - Lunch  \n",
      "3  09/10/2015                                1400 - Food Safety  \n",
      "4  09/10/2015                  300 - Meal Counting and Claiming  \n",
      "5  09/10/2015  400 - Meal Components and Quantities - Breakfast  \n",
      "6  09/10/2015      400 - Meal Components and Quantities - Lunch  \n",
      "7  09/10/2015      400 - Meal Components and Quantities - Lunch  \n",
      "\n",
      "Dimensi DataFrame baru: (8, 5)\n"
     ]
    }
   ],
   "source": [
    "import pandas as pd\n",
    "\n",
    "df_baru = df[['Program Year', 'CE Name', 'Review ID', 'Review Date', 'Finding Area']].copy()\n",
    "\n",
    "#Print Output\n",
    "print(\"DataFrame baru:\")\n",
    "print(\" \")\n",
    "print(df_baru.head(8))\n",
    "\n",
    "# Dimensi Dataframe baru\n",
    "df_shape_updated = (8, df_baru.shape[1])\n",
    "print(\"\\nDimensi DataFrame baru:\", df_shape_updated)"
   ]
  },
  {
   "cell_type": "markdown",
   "metadata": {
    "id": "J2bC3Kzypn37"
   },
   "source": [
    "## Nomor 7"
   ]
  },
  {
   "cell_type": "markdown",
   "metadata": {
    "id": "njCJWFFcpn37"
   },
   "source": [
    "Buatlah dataframe baru dari dataframe tersebut dengan mengubah kolom `Review Date` menjadi `Review Year` dan mengubah seluruh nilainya dalam bentuk tahun"
   ]
  },
  {
   "cell_type": "code",
   "execution_count": 35,
   "metadata": {},
   "outputs": [
    {
     "name": "stdout",
     "output_type": "stream",
     "text": [
      "DataFrame baru:\n",
      " \n",
      "  Program Year                                      CE Name  Review ID  \\\n",
      "0  2015 - 2016         CHILDREN'S AID SOCIETY OF WEST TEXAS      14667   \n",
      "1  2015 - 2016         CHILDREN'S AID SOCIETY OF WEST TEXAS      14667   \n",
      "2  2015 - 2016         CHILDREN'S AID SOCIETY OF WEST TEXAS      14667   \n",
      "3  2015 - 2016  HARRIS COUNTY JUVENILE PROBATION DEPARTMENT      14658   \n",
      "4  2015 - 2016  HARRIS COUNTY JUVENILE PROBATION DEPARTMENT      14658   \n",
      "5  2015 - 2016  HARRIS COUNTY JUVENILE PROBATION DEPARTMENT      14658   \n",
      "6  2015 - 2016  HARRIS COUNTY JUVENILE PROBATION DEPARTMENT      14658   \n",
      "7  2015 - 2016  HARRIS COUNTY JUVENILE PROBATION DEPARTMENT      14658   \n",
      "\n",
      "                                       Finding Area  Review Year  \n",
      "0                          1700 - Afterschool Snack         2015  \n",
      "1                  300 - Meal Counting and Claiming         2015  \n",
      "2      400 - Meal Components and Quantities - Lunch         2015  \n",
      "3                                1400 - Food Safety         2015  \n",
      "4                  300 - Meal Counting and Claiming         2015  \n",
      "5  400 - Meal Components and Quantities - Breakfast         2015  \n",
      "6      400 - Meal Components and Quantities - Lunch         2015  \n",
      "7      400 - Meal Components and Quantities - Lunch         2015  \n"
     ]
    }
   ],
   "source": [
    "# Asumsi: Dataframe yang ingin diperbarui dan \n",
    "# diubah kolom `Review Date` menjadi `Review Year \n",
    "# adalah dataframe baru dari nomor 6.(Sorry \n",
    "# soalnya masih agak bingung \"dataframe tersebut\" \n",
    "# tuh merujuk ke dataframe baru atau yang ada di \n",
    "# dataset)\n",
    "\n",
    "import pandas as pd\n",
    "\n",
    "df_baru = df[['Program Year', 'CE Name', 'Review ID', 'Review Date', 'Finding Area']].copy()\n",
    "\n",
    "# Review Date menjadi tahun saja\n",
    "df_baru['Review Year'] = pd.to_datetime(df_baru['Review Date']).dt.year\n",
    "df_baru.drop(columns=['Review Date'], inplace=True)\n",
    "\n",
    "print(\"DataFrame baru:\")\n",
    "print(\" \")\n",
    "print(df_baru.head(8))"
   ]
  },
  {
   "cell_type": "markdown",
   "metadata": {
    "id": "RTdbwLqEpn37"
   },
   "source": [
    "## Nomor 8"
   ]
  },
  {
   "cell_type": "markdown",
   "metadata": {
    "id": "XDBcToYnpn37"
   },
   "source": [
    "Dari dataset pada nomor 1 tersebut, tampilkan 5 data yang memiliki `ESC Region` yang paling rendah."
   ]
  },
  {
   "cell_type": "code",
   "execution_count": null,
   "metadata": {
    "id": "gymQldIWpn37"
   },
   "outputs": [
    {
     "name": "stdout",
     "output_type": "stream",
     "text": [
      "5 Data dengan ESC Region paling rendah: \n",
      " \n",
      "    Program Year  CE ID                    CE Name  ESC Region  Review ID  \\\n",
      "36   2015 - 2016   1198  AMIKIDS RIO GRANDE VALLEY           1      14769   \n",
      "37   2015 - 2016   1198  AMIKIDS RIO GRANDE VALLEY           1      14769   \n",
      "38   2015 - 2016   1198  AMIKIDS RIO GRANDE VALLEY           1      14769   \n",
      "39   2015 - 2016   1198  AMIKIDS RIO GRANDE VALLEY           1      14769   \n",
      "135  2015 - 2016   1143                 LASARA ISD           1      14552   \n",
      "\n",
      "    Review Date                                      Finding Area  \\\n",
      "36   09/23/2015                          1700 - Afterschool Snack   \n",
      "37   09/23/2015                          1700 - Afterschool Snack   \n",
      "38   09/23/2015  400 - Meal Components and Quantities - Breakfast   \n",
      "39   09/23/2015                  700 - Resource Management (2015)   \n",
      "135  10/14/2015      300 - Meal Counting and Claiming - Breakfast   \n",
      "\n",
      "    Question Number  \n",
      "36             1706  \n",
      "37             1707  \n",
      "38              411  \n",
      "39              702  \n",
      "135             325  \n",
      " \n"
     ]
    }
   ],
   "source": [
    "import pandas as pd\n",
    "\n",
    "# Menampilkan 5 data dengan ESC Region paling rendah\n",
    "esc_region_terendah = df.nsmallest(5, 'ESC Region')\n",
    "\n",
    "# Menampilkan hasil\n",
    "print(\"5 Data dengan ESC Region paling rendah: \")\n",
    "print(\" \")\n",
    "print(esc_region_terendah)\n",
    "print(\" \")"
   ]
  },
  {
   "cell_type": "markdown",
   "metadata": {
    "id": "PYL0cVJDpn38"
   },
   "source": [
    "# **3. Pengenalan NumPy**"
   ]
  },
  {
   "cell_type": "markdown",
   "metadata": {
    "id": "iKNch6uApn38"
   },
   "source": [
    "NumPy merupakan library Python yang umum digunakan untuk melakukan komputasi saintifik, pengolahan, serta analisis data numerik karena performa dan kemudahannya. NumPy menyerupai list dalam Python, namun NumPy memiliki beberapa kelebihan lain. NumPy  menyediakan fungsi-fungsi high-level untuk melakukan berbagai perhitungan secara efisien, seperti penjumlahan, pengurutan, dan sebagainya pada struktur data yang disebut array. Hal ini menyebabkan NumPy menjadi salah satu library yang banyak digunakan dalam proses analisis data."
   ]
  },
  {
   "cell_type": "code",
   "execution_count": 233,
   "metadata": {
    "id": "EhHjenuhpn38"
   },
   "outputs": [],
   "source": [
    "# import library NumPy\n",
    "import numpy as np"
   ]
  },
  {
   "cell_type": "markdown",
   "metadata": {
    "id": "7rn8L3klpn39"
   },
   "source": [
    "## 3.1 Pembuatan NumPy Array"
   ]
  },
  {
   "cell_type": "markdown",
   "metadata": {
    "id": "hwbstdG2pn39"
   },
   "source": [
    "Secara umum, array pada NumPy merupakan struktur data yang mirip dengan List, tetapi memiliki kemampuan yang lebih kuat dan efisien. Array bisa memiliki lebih dari satu dimensi, yang mana elemennya bisa berarti sebuah array juga, yang bisa memiliki elemen array juga, dan begitupun seterusnya sehingga memungkinkan penyimpanan struktur data dengan dimensi yang kompleks."
   ]
  },
  {
   "cell_type": "markdown",
   "metadata": {
    "id": "6Inlrglvpn39"
   },
   "source": [
    "### 3.1.1 NumPy Array Satu Dimensi"
   ]
  },
  {
   "cell_type": "markdown",
   "metadata": {
    "id": "jF_xjn-Hpn39"
   },
   "source": [
    "NumPy Array Satu Dimensi adalah array satu dimensi yang serupa dengan list. NumPy Array Satu Dimensi dapat dibuat dari list atau tuple. Untuk membuat objek array, dapat digunakan fungsi array(n) dengan n berupa koleksi seperti list, tuple, dan sebagainya seperti berikut."
   ]
  },
  {
   "cell_type": "markdown",
   "metadata": {
    "id": "QLti3iRnpn39"
   },
   "source": [
    "#### 1. Membuat Array dengan List"
   ]
  },
  {
   "cell_type": "code",
   "execution_count": 234,
   "metadata": {
    "id": "6we65lDTpn39",
    "outputId": "5d7a4316-7574-4e74-ce4a-bd7f7b55c7ef"
   },
   "outputs": [
    {
     "data": {
      "text/plain": [
       "array([ 5, 10, 15, 20, 25])"
      ]
     },
     "execution_count": 234,
     "metadata": {},
     "output_type": "execute_result"
    }
   ],
   "source": [
    "arr = np.array([5, 10, 15, 20, 25])\n",
    "arr"
   ]
  },
  {
   "cell_type": "markdown",
   "metadata": {
    "id": "nsVhcrK0pn39"
   },
   "source": [
    "Untuk melihat tipe dari array tersebut dapat menggunakan cara sebagai berikut."
   ]
  },
  {
   "cell_type": "code",
   "execution_count": 236,
   "metadata": {
    "id": "VV5O-B-Ypn3-",
    "outputId": "b7a8944a-6521-4baa-f6f0-faadc3a5ecc5"
   },
   "outputs": [
    {
     "name": "stdout",
     "output_type": "stream",
     "text": [
      "<class 'numpy.ndarray'>\n"
     ]
    }
   ],
   "source": [
    "print(type(arr))"
   ]
  },
  {
   "cell_type": "markdown",
   "metadata": {
    "id": "AqBj7yAopn3-"
   },
   "source": [
    "#### 2. Membuat Array dengan Tuple"
   ]
  },
  {
   "cell_type": "code",
   "execution_count": 238,
   "metadata": {
    "id": "Gs9xnZ_Fpn3-"
   },
   "outputs": [
    {
     "data": {
      "text/plain": [
       "array([1, 2, 3, 4, 5])"
      ]
     },
     "execution_count": 238,
     "metadata": {},
     "output_type": "execute_result"
    }
   ],
   "source": [
    "arr = np.array((1,2,3,4,5))\n",
    "arr"
   ]
  },
  {
   "cell_type": "code",
   "execution_count": null,
   "metadata": {
    "id": "uFZgs93Ppn3-",
    "outputId": "30c82f5c-d82e-4be8-9402-41082f39bb1c"
   },
   "outputs": [
    {
     "name": "stdout",
     "output_type": "stream",
     "text": [
      "<class 'numpy.ndarray'>\n"
     ]
    }
   ],
   "source": [
    "print(type(arr))"
   ]
  },
  {
   "cell_type": "markdown",
   "metadata": {
    "id": "HVBUO_Yhpn3-"
   },
   "source": [
    "Terdapat pula beberapa fungsi bawaan untuk membuat objek array yang dapat digunakan sesuai kebutuhan."
   ]
  },
  {
   "cell_type": "code",
   "execution_count": 239,
   "metadata": {
    "id": "jG975CYHpn3-",
    "outputId": "9577d6ce-8561-4bbe-fd2f-6a0cec77f4d8"
   },
   "outputs": [
    {
     "name": "stdout",
     "output_type": "stream",
     "text": [
      "np.zeros(4) :  [0. 0. 0. 0. 0.]\n",
      "np.ones(4) :  [1. 1. 1. 1. 1.]\n",
      "np.arange(1,15,3) :  [ 1  6 11]\n",
      "np.linspace(1,10,4) :  [ 1.  4.  7. 10.]\n"
     ]
    }
   ],
   "source": [
    "# Membuat array dengan nilai 0 sebanyak 5 buah\n",
    "print(\"np.zeros(4) : \",np.zeros(5))\n",
    "\n",
    "# Membuat array dengan nilai 1 sebanyak 5 buah\n",
    "print(\"np.ones(4) : \",np.ones(5))\n",
    "\n",
    "# Membuat array dengan nilai dalam range 1 sampai 15 dengan step sebesar 5\n",
    "print(\"np.arange(1,15,3) : \",np.arange(1,15,5))\n",
    "\n",
    "# Membuat array dengan nilai dalam range 1 sampai 10 sebanyak 4 dengan interval yang sama\n",
    "print(\"np.linspace(1,10,4) : \",np.linspace(1,10,4))"
   ]
  },
  {
   "cell_type": "markdown",
   "metadata": {
    "id": "m019Ds0apn3-"
   },
   "source": [
    "### 3.1.2 NumPy Array Dua Dimensi"
   ]
  },
  {
   "cell_type": "markdown",
   "metadata": {
    "id": "nuQ2lb84pn3-"
   },
   "source": [
    "Array multidimensi di NumPy merepresentasikan data dalam bentuk tabel, matriks, atau bahkan tensor dengan lebih dari dua dimensi."
   ]
  },
  {
   "cell_type": "code",
   "execution_count": 241,
   "metadata": {
    "id": "8ommK4FSpn3_",
    "outputId": "255e2f85-c94d-4860-9f1d-ca052ed35390"
   },
   "outputs": [
    {
     "data": {
      "text/plain": [
       "array([[ 1,  5, 10, 15],\n",
       "       [20, 25, 30, 35],\n",
       "       [40, 45, 50, 55],\n",
       "       [60, 65, 70, 75]])"
      ]
     },
     "execution_count": 241,
     "metadata": {},
     "output_type": "execute_result"
    }
   ],
   "source": [
    "multi_dim_arr = np.array([[1,5,10, 15], [20,25,30, 35], [40,45,50, 55], [60,65,70, 75]])\n",
    "multi_dim_arr"
   ]
  },
  {
   "cell_type": "markdown",
   "metadata": {
    "id": "IpftaSGspn3_"
   },
   "source": [
    "## 3.2 Menampilkan Atribut NumPy Array"
   ]
  },
  {
   "cell_type": "markdown",
   "metadata": {
    "id": "1BmZyuI2pn3_"
   },
   "source": [
    "NumPy array memiliki sejumlah atribut yang berguna untuk memahami struktur dan karakteristik data yang disimpan di dalamnya, beberapa diantaranya sebagai berikut."
   ]
  },
  {
   "cell_type": "code",
   "execution_count": 243,
   "metadata": {
    "id": "ORjyTDMZpn3_",
    "outputId": "1c7808c8-ab6b-4182-8dbb-c7757595096c"
   },
   "outputs": [
    {
     "name": "stdout",
     "output_type": "stream",
     "text": [
      "[[ 1  5 10 15]\n",
      " [20 25 30 35]\n",
      " [40 45 50 55]\n",
      " [60 65 70 75]]\n",
      "\n",
      "multi_dim_arr.size: 16\n",
      "multi_dim_arr.ndim: 2\n",
      "multi_dim_arr.shape: (4, 4)\n"
     ]
    }
   ],
   "source": [
    "print(multi_dim_arr)\n",
    "\n",
    "print()\n",
    "\n",
    "# Menunjukkan ukuran array\n",
    "print(\"multi_dim_arr.size:\", multi_dim_arr.size)\n",
    "\n",
    "# Menunjukkan jumlah dimensi atau rank dari sebuah array\n",
    "print(\"multi_dim_arr.ndim:\", multi_dim_arr.ndim)\n",
    "\n",
    "# Mengetahui ukuran dari setiap dimensi array\n",
    "print(\"multi_dim_arr.shape:\", multi_dim_arr.shape)"
   ]
  },
  {
   "cell_type": "markdown",
   "metadata": {
    "id": "3jne1vMJpn3_"
   },
   "source": [
    "### 3.3 Periksa Tipe Data"
   ]
  },
  {
   "cell_type": "markdown",
   "metadata": {
    "id": "VSjFPNpipn3_"
   },
   "source": [
    "Setiap data memiliki tipe data tertentu yang ditentukan oleh atribut dtype. Tipe data ini menentukan jenis nilai yang dapat disimpan, seperti bilangan bulat (integer), bilangan desimal (float), atau tipe data lainnya."
   ]
  },
  {
   "cell_type": "code",
   "execution_count": 245,
   "metadata": {
    "id": "nPuYsKNupn3_",
    "outputId": "9bc6595c-b351-4434-a83a-2e8b2548ec72"
   },
   "outputs": [
    {
     "name": "stdout",
     "output_type": "stream",
     "text": [
      "type(lst): <class 'list'>\n",
      "type(arr): <class 'numpy.ndarray'>\n"
     ]
    }
   ],
   "source": [
    "# Tipe Data List\n",
    "lst = [5,10,15,20,25]\n",
    "print(f\"type(lst): {type(lst)}\")\n",
    "\n",
    "# Tipe Data array\n",
    "arr = np.array(lst)\n",
    "print(f\"type(arr): {type(arr)}\")"
   ]
  },
  {
   "cell_type": "markdown",
   "metadata": {
    "id": "8aDOSi8Npn4A"
   },
   "source": [
    "Selain fungsi type(), dapat juga menggunakan atribut dtype untuk mengetahui tipe data yang ada di dalam array."
   ]
  },
  {
   "cell_type": "code",
   "execution_count": 246,
   "metadata": {
    "id": "NkXmM0zUpn4A",
    "outputId": "002838dd-c2ab-4777-8340-8816124aa454"
   },
   "outputs": [
    {
     "name": "stdout",
     "output_type": "stream",
     "text": [
      "arr.dtype: int64\n"
     ]
    }
   ],
   "source": [
    "# Cek tipe data dari array\n",
    "print(f\"arr.dtype: {arr.dtype}\")"
   ]
  },
  {
   "cell_type": "markdown",
   "metadata": {
    "id": "96vYzB1Upn4A"
   },
   "source": [
    "### 3.4 Indexing, Slicing, dan Assigning Value pada NumPy Array"
   ]
  },
  {
   "cell_type": "markdown",
   "metadata": {
    "id": "XV9uju1cpn4A"
   },
   "source": [
    "Memanggil kembali array dan multi dimensi array yang telah dibuat sebelumnya"
   ]
  },
  {
   "cell_type": "code",
   "execution_count": 247,
   "metadata": {
    "id": "3aA0_Fjopn4A",
    "outputId": "226ac158-8a7d-4d32-c084-0a845edb466b"
   },
   "outputs": [
    {
     "data": {
      "text/plain": [
       "array([ 5, 10, 15, 20, 25])"
      ]
     },
     "execution_count": 247,
     "metadata": {},
     "output_type": "execute_result"
    }
   ],
   "source": [
    "arr"
   ]
  },
  {
   "cell_type": "code",
   "execution_count": 248,
   "metadata": {
    "id": "DYwNgyTGpn4A",
    "outputId": "c08abe03-f6cc-4740-a34e-61af65fd6695"
   },
   "outputs": [
    {
     "data": {
      "text/plain": [
       "array([[ 1,  5, 10, 15],\n",
       "       [20, 25, 30, 35],\n",
       "       [40, 45, 50, 55],\n",
       "       [60, 65, 70, 75]])"
      ]
     },
     "execution_count": 248,
     "metadata": {},
     "output_type": "execute_result"
    }
   ],
   "source": [
    "multi_dim_arr"
   ]
  },
  {
   "cell_type": "markdown",
   "metadata": {
    "id": "DwCL-jVwpn4A"
   },
   "source": [
    "#### 3.3.1 Indexing"
   ]
  },
  {
   "cell_type": "code",
   "execution_count": 249,
   "metadata": {
    "id": "mcdNGqmnpn4A",
    "outputId": "54885ee2-09a6-45cd-f1f6-af25a9e21527"
   },
   "outputs": [
    {
     "data": {
      "text/plain": [
       "np.int64(25)"
      ]
     },
     "execution_count": 249,
     "metadata": {},
     "output_type": "execute_result"
    }
   ],
   "source": [
    "# Mengakses elemen indeks ke-4 dari array\n",
    "arr[4]"
   ]
  },
  {
   "cell_type": "code",
   "execution_count": 250,
   "metadata": {
    "id": "ZIHPlGVipn4B",
    "outputId": "ad215aab-e73b-4e65-d6bb-c69e9e474911"
   },
   "outputs": [
    {
     "name": "stdout",
     "output_type": "stream",
     "text": [
      "50\n",
      "50\n"
     ]
    }
   ],
   "source": [
    "# Mengakses elemen baris ke-1 dan kolom ke-2 dari multi dimensi array\n",
    "print(multi_dim_arr[2,2])\n",
    "\n",
    "# Cara lain\n",
    "print(multi_dim_arr[2][2])"
   ]
  },
  {
   "cell_type": "markdown",
   "metadata": {
    "id": "7x9nn4LRpn4B"
   },
   "source": [
    "#### 3.3.2 Slicing"
   ]
  },
  {
   "cell_type": "code",
   "execution_count": 253,
   "metadata": {
    "id": "JXhzq3uopn4B",
    "outputId": "0babe48e-9686-483c-cdd0-95ee9e1a012a"
   },
   "outputs": [
    {
     "data": {
      "text/plain": [
       "array([10, 15, 20, 25])"
      ]
     },
     "execution_count": 253,
     "metadata": {},
     "output_type": "execute_result"
    }
   ],
   "source": [
    "# slice elemen dari indeks ke-1 sampai ke-5\n",
    "arr[1:6]"
   ]
  },
  {
   "cell_type": "code",
   "execution_count": 252,
   "metadata": {
    "id": "JS18DuG6pn4B",
    "outputId": "8175f0cf-8e8a-4577-fe53-9aaefaa1af07"
   },
   "outputs": [
    {
     "data": {
      "text/plain": [
       "array([45, 50])"
      ]
     },
     "execution_count": 252,
     "metadata": {},
     "output_type": "execute_result"
    }
   ],
   "source": [
    "# Slice elemen dari baris ketiga, kolom 2 sampai 3\n",
    "multi_dim_arr[2,1:3]"
   ]
  },
  {
   "cell_type": "code",
   "execution_count": 254,
   "metadata": {
    "id": "WcIK_Px1pn4C",
    "outputId": "5de7f0b7-cd0f-4eed-8613-6f7ee95fbc65"
   },
   "outputs": [
    {
     "data": {
      "text/plain": [
       "array([10, 30, 50, 70])"
      ]
     },
     "execution_count": 254,
     "metadata": {},
     "output_type": "execute_result"
    }
   ],
   "source": [
    "# Slice kolom ketiga\n",
    "multi_dim_arr[:,2]"
   ]
  },
  {
   "cell_type": "markdown",
   "metadata": {
    "id": "QnazVAnKpn4C"
   },
   "source": [
    "### 3.3.3 Assigning Values"
   ]
  },
  {
   "cell_type": "code",
   "execution_count": 255,
   "metadata": {
    "id": "OwBmd8sOpn4D",
    "outputId": "3d0e3c9e-c2aa-4047-85e5-03e9632937e2"
   },
   "outputs": [
    {
     "data": {
      "text/plain": [
       "array([  5,  10,  15, 100,  25])"
      ]
     },
     "execution_count": 255,
     "metadata": {},
     "output_type": "execute_result"
    }
   ],
   "source": [
    "# Mengubah value elemen ke-4 dari array\n",
    "arr[3] = 100\n",
    "arr"
   ]
  },
  {
   "cell_type": "code",
   "execution_count": 256,
   "metadata": {
    "id": "4UKESjb_pn4E",
    "outputId": "d3de4f9c-9384-420d-a45c-354dc66a0abc"
   },
   "outputs": [
    {
     "data": {
      "text/plain": [
       "array([[  1,   5,  10,  15],\n",
       "       [ 20,  25,  30,  35],\n",
       "       [ 40,  45,  50, 100],\n",
       "       [ 60,  65,  70,  75]])"
      ]
     },
     "execution_count": 256,
     "metadata": {},
     "output_type": "execute_result"
    }
   ],
   "source": [
    "# Mengubah value elemen baris ke-3 dan kolom ke-4 dari multi dimensi array\n",
    "multi_dim_arr[2,3] = 100\n",
    "multi_dim_arr"
   ]
  },
  {
   "cell_type": "markdown",
   "metadata": {
    "id": "llWYUCuVpn4E"
   },
   "source": [
    "## 3.4 Operasi Matematika pada NumPy Array"
   ]
  },
  {
   "cell_type": "code",
   "execution_count": 257,
   "metadata": {
    "id": "3aKeJLQQpn4E"
   },
   "outputs": [],
   "source": [
    "arr_1 = np.array([12, 15, 18, 21, 24])\n",
    "arr_2 = np.array([28, 32, 36, 40, 44])"
   ]
  },
  {
   "cell_type": "markdown",
   "metadata": {
    "id": "J6txNw6Wpn4E"
   },
   "source": [
    "### 3.4.1 Penjumlahan Dua Buah Array"
   ]
  },
  {
   "cell_type": "code",
   "execution_count": 258,
   "metadata": {
    "id": "YcHPcFSepn4E",
    "outputId": "8e9082f7-9870-4ff5-e713-0b4a97fd78b4"
   },
   "outputs": [
    {
     "data": {
      "text/plain": [
       "array([40, 47, 54, 61, 68])"
      ]
     },
     "execution_count": 258,
     "metadata": {},
     "output_type": "execute_result"
    }
   ],
   "source": [
    "# Menjumlahkan dua buah array\n",
    "result = arr_1 + arr_2\n",
    "result"
   ]
  },
  {
   "cell_type": "markdown",
   "metadata": {
    "id": "31k3GPmcpn4E"
   },
   "source": [
    "### 3.4.2 Pengurangan Dua Buah Array"
   ]
  },
  {
   "cell_type": "code",
   "execution_count": 259,
   "metadata": {
    "id": "4Zqw9slLpn4E",
    "outputId": "c70879a6-f647-4dec-c25c-6ac77138c881"
   },
   "outputs": [
    {
     "data": {
      "text/plain": [
       "array([16, 17, 18, 19, 20])"
      ]
     },
     "execution_count": 259,
     "metadata": {},
     "output_type": "execute_result"
    }
   ],
   "source": [
    "# Mengurangkan dua buah array\n",
    "result = arr_2 - arr_1\n",
    "result"
   ]
  },
  {
   "cell_type": "markdown",
   "metadata": {
    "id": "Jai2vy4_pn4G"
   },
   "source": [
    "### 3,4,3 Perkalian Dua Buah Array"
   ]
  },
  {
   "cell_type": "code",
   "execution_count": 260,
   "metadata": {
    "id": "Wj6n3MZ8pn4G",
    "outputId": "75d80ca0-823c-4d57-988c-30fdb0cb7aba"
   },
   "outputs": [
    {
     "data": {
      "text/plain": [
       "array([ 336,  480,  648,  840, 1056])"
      ]
     },
     "execution_count": 260,
     "metadata": {},
     "output_type": "execute_result"
    }
   ],
   "source": [
    "# Perkalian dua buah array\n",
    "result = arr_1 * arr_2\n",
    "result"
   ]
  },
  {
   "cell_type": "markdown",
   "metadata": {
    "id": "amamePcYpn4G"
   },
   "source": [
    "### 3.4.4 Penjumlahan Array dengan angka tertentu"
   ]
  },
  {
   "cell_type": "code",
   "execution_count": 261,
   "metadata": {
    "id": "WDw0OJI3pn4G",
    "outputId": "4b70e7aa-6839-4e41-ee8a-5aed08d32e3f"
   },
   "outputs": [
    {
     "data": {
      "text/plain": [
       "array([22, 25, 28, 31, 34])"
      ]
     },
     "execution_count": 261,
     "metadata": {},
     "output_type": "execute_result"
    }
   ],
   "source": [
    "# Menjumlahkan setiap elemen array dengan 10\n",
    "result = arr_1 + 10\n",
    "result"
   ]
  },
  {
   "cell_type": "markdown",
   "metadata": {
    "id": "78tMUjImpn4G"
   },
   "source": [
    "### 3.4.5 Perkalian Array dengan angka tertentu"
   ]
  },
  {
   "cell_type": "code",
   "execution_count": 262,
   "metadata": {
    "id": "9NsdVbHCpn4G",
    "outputId": "b93254dd-cf96-491b-e0fa-52adfdb00517"
   },
   "outputs": [
    {
     "data": {
      "text/plain": [
       "array([120, 150, 180, 210, 240])"
      ]
     },
     "execution_count": 262,
     "metadata": {},
     "output_type": "execute_result"
    }
   ],
   "source": [
    "# Mengalikan setiap elemen array dengan 10\n",
    "result = arr_1 * 10\n",
    "result"
   ]
  },
  {
   "cell_type": "markdown",
   "metadata": {
    "id": "Ruw2eqKEpn4H"
   },
   "source": [
    "### 3.4.6 Dot Product Dua Buah Array"
   ]
  },
  {
   "cell_type": "code",
   "execution_count": 263,
   "metadata": {
    "id": "gm3Y1mwspn4H",
    "outputId": "8158054c-026b-4021-813c-0c8fd1a89582"
   },
   "outputs": [
    {
     "data": {
      "text/plain": [
       "np.int64(3360)"
      ]
     },
     "execution_count": 263,
     "metadata": {},
     "output_type": "execute_result"
    }
   ],
   "source": [
    "# Dot product dua buah array\n",
    "result = np.dot(arr_1, arr_2)\n",
    "result"
   ]
  },
  {
   "cell_type": "markdown",
   "metadata": {
    "id": "ExrQY_Kepn4H"
   },
   "source": [
    "Operasi di atas dapat dilakukan pada array 1 dimensi maupun multidimensi. Kemudian, berikut ini adalah beberapa fungsi matematika yang dapat digunakan pada NumPy Array."
   ]
  },
  {
   "cell_type": "code",
   "execution_count": 21,
   "metadata": {
    "id": "tNaD8vQEpn4H",
    "outputId": "493832d8-0e45-4214-879b-4ddb9871c0bb"
   },
   "outputs": [
    {
     "name": "stdout",
     "output_type": "stream",
     "text": [
      "Original Matrix:\n",
      "[[2 4 6]\n",
      " [1 3 5]\n",
      " [7 8 9]]\n",
      "\n",
      "Transpose Matrix:\n",
      "[[2 1 7]\n",
      " [4 3 8]\n",
      " [6 5 9]]\n",
      "\n",
      "Inverse Matrix:\n",
      "Matrix tidak memiliki invers (determinannya nol).\n",
      "\n",
      "Determinant of Matrix:\n",
      "0.0\n",
      "\n",
      "Rank of Matrix:\n",
      "2\n",
      "\n",
      "Eigenvalues and Eigenvectors:\n",
      "Eigenvalues: [ 1.61651514e+01 -2.16515139e+00  1.74647471e-16]\n",
      "Eigenvectors:\n",
      " [[ 0.44718316  0.43198683  0.40824829]\n",
      " [ 0.34705394  0.58271178 -0.81649658]\n",
      " [ 0.8243669  -0.68835628  0.40824829]]\n"
     ]
    }
   ],
   "source": [
    "\n",
    "import numpy as np\n",
    "\n",
    "matrix = np.array([[2, 4, 6],\n",
    "                   [1, 3, 5],\n",
    "                   [7, 8, 9]])\n",
    "\n",
    "print(\"Original Matrix:\")\n",
    "print(matrix)\n",
    "print()\n",
    "\n",
    "# Transpose matrix\n",
    "print(\"Transpose Matrix:\")\n",
    "transpose_matrix = np.transpose(matrix)\n",
    "print(transpose_matrix)\n",
    "print()\n",
    "\n",
    "# Invers matrix (hanya jika determinan tidak nol)\n",
    "try:\n",
    "    print(\"Inverse Matrix:\")\n",
    "    inverse_matrix = np.linalg.inv(matrix)\n",
    "    print(inverse_matrix)\n",
    "except np.linalg.LinAlgError:\n",
    "    print(\"Matrix tidak memiliki invers (determinannya nol).\")\n",
    "print()\n",
    "\n",
    "# Menghitung determinan matriks\n",
    "print(\"Determinant of Matrix:\")\n",
    "det = np.linalg.det(matrix)\n",
    "print(det)\n",
    "print()\n",
    "\n",
    "# Menghitung rank matriks\n",
    "print(\"Rank of Matrix:\")\n",
    "rank = np.linalg.matrix_rank(matrix)\n",
    "print(rank)\n",
    "print()\n",
    "\n",
    "# Menghitung eigenvalues dan eigenvectors\n",
    "print(\"Eigenvalues and Eigenvectors:\")\n",
    "eigenvalues, eigenvectors = np.linalg.eig(matrix)\n",
    "print(\"Eigenvalues:\", eigenvalues)\n",
    "print(\"Eigenvectors:\\n\", eigenvectors)\n"
   ]
  },
  {
   "cell_type": "markdown",
   "metadata": {
    "id": "x88lmbhApn4H"
   },
   "source": [
    "## 3.5 Operasi Statistik pada NumPy Array"
   ]
  },
  {
   "cell_type": "code",
   "execution_count": 19,
   "metadata": {
    "id": "ZSRN5Yyepn4H",
    "outputId": "d27eaf11-6f02-4d85-a38d-c72833e4fd27"
   },
   "outputs": [
    {
     "data": {
      "text/plain": [
       "array([  5,  10,  15,  20,  25,  30,  35,  40,  45,  50,  55,  60,  65,\n",
       "        70,  75,  80,  85,  90,  95, 100])"
      ]
     },
     "execution_count": 19,
     "metadata": {},
     "output_type": "execute_result"
    }
   ],
   "source": [
    "arr = np.array([5, 10, 15, 20, 25, 30, 35, 40, 45, 50,\n",
    "                55, 60, 65, 70, 75, 80, 85, 90, 95, 100])\n",
    "arr"
   ]
  },
  {
   "cell_type": "code",
   "execution_count": 18,
   "metadata": {
    "id": "GRV0UE8Dpn4H",
    "outputId": "617e895d-9662-46f4-9ea4-cc9d1a081aa7"
   },
   "outputs": [
    {
     "name": "stdout",
     "output_type": "stream",
     "text": [
      "Rata-rata: 52.5\n",
      "Median: 52.5\n",
      "Maksimum: 100\n",
      "Standar deviasi: 28.83140648667699\n",
      "Percentile 75: 76.25\n",
      "Nilai unik: [  5  10  15  20  25  30  35  40  45  50  55  60  65  70  75  80  85  90\n",
      "  95 100]\n"
     ]
    }
   ],
   "source": [
    "import numpy as np\n",
    "\n",
    "arr = np.array([5, 10, 15, 20, 25, 30, 35, 40, 45, 50,\n",
    "                55, 60, 65, 70, 75, 80, 85, 90, 95, 100])\n",
    "arr\n",
    "\n",
    "# Nilai rata-rata\n",
    "print(\"Rata-rata:\", np.mean(arr))\n",
    "\n",
    "# Nilai median\n",
    "print(\"Median:\", np.median(arr))\n",
    "\n",
    "# Nilai maksimum\n",
    "print(\"Maksimum:\", np.max(arr))\n",
    "\n",
    "# Nilai standar deviasi\n",
    "print(\"Standar deviasi:\", np.std(arr))\n",
    "\n",
    "# Nilai percentile\n",
    "print(\"Percentile 75:\", np.percentile(arr, 75))\n",
    "\n",
    "# Nilai unik\n",
    "print(\"Nilai unik:\", np.unique(arr))"
   ]
  },
  {
   "cell_type": "markdown",
   "metadata": {
    "id": "AvR2M4yJpn4H"
   },
   "source": [
    "# Pertanyaan NumPy"
   ]
  },
  {
   "cell_type": "markdown",
   "metadata": {
    "id": "CdqgIY7_pn4I"
   },
   "source": [
    "## Nomor 1"
   ]
  },
  {
   "cell_type": "markdown",
   "metadata": {
    "id": "4xeTzbycpn4I"
   },
   "source": [
    "Perhatikan array multidimensi berikut."
   ]
  },
  {
   "cell_type": "code",
   "execution_count": null,
   "metadata": {
    "id": "0ZlX6xQipn4I"
   },
   "outputs": [],
   "source": [
    "arr_1 = np.array([\n",
    "    [7, 8, 9, 4, 3],\n",
    "    [5, 6, 2, 1, 0],\n",
    "    [3, 8, 4, 7, 2],\n",
    "    [9, 3, 5, 6, 1],\n",
    "    [0, 1, 2, 8, 4]\n",
    "])"
   ]
  },
  {
   "cell_type": "markdown",
   "metadata": {
    "id": "B90Vi6Ehpn4I"
   },
   "source": [
    "Modifikasi lah array di atas sehingga menjadi dua buah matriks baru, matriks diagonal dan matriks segitiga atas."
   ]
  },
  {
   "cell_type": "code",
   "execution_count": 15,
   "metadata": {
    "id": "Si_03S0epn4I"
   },
   "outputs": [
    {
     "name": "stdout",
     "output_type": "stream",
     "text": [
      "Matriks Diagonal:\n",
      "[[7 0 0 0 0]\n",
      " [0 6 0 0 0]\n",
      " [0 0 4 0 0]\n",
      " [0 0 0 6 0]\n",
      " [0 0 0 0 4]] \n",
      "\n",
      "Matriks Segitiga Atas:\n",
      "[[7 8 9 4 3]\n",
      " [0 6 2 1 0]\n",
      " [0 0 4 7 2]\n",
      " [0 0 0 6 1]\n",
      " [0 0 0 0 4]]\n"
     ]
    }
   ],
   "source": [
    "import numpy as np\n",
    "\n",
    "arr_1 = np.array([\n",
    "    [7, 8, 9, 4, 3],\n",
    "    [5, 6, 2, 1, 0],\n",
    "    [3, 8, 4, 7, 2],\n",
    "    [9, 3, 5, 6, 1],\n",
    "    [0, 1, 2, 8, 4]\n",
    "])\n",
    "\n",
    "matriks_diagonal = np.diag(np.diag(arr_1))\n",
    "matriks_segitiga_atas = np.triu(arr_1)\n",
    "\n",
    "# Menampilkan output\n",
    "print(\"Matriks Diagonal:\")\n",
    "print(matriks_diagonal, \"\\n\")\n",
    "\n",
    "print(\"Matriks Segitiga Atas:\")\n",
    "print(matriks_segitiga_atas)\n"
   ]
  },
  {
   "cell_type": "markdown",
   "metadata": {
    "id": "Ba5xzXVXpn4J"
   },
   "source": [
    "## Nomor 2"
   ]
  },
  {
   "cell_type": "markdown",
   "metadata": {
    "id": "2Losaw2npn4J"
   },
   "source": [
    "Terdapat beberapa *array* multidimensi sebagai berikut."
   ]
  },
  {
   "cell_type": "code",
   "execution_count": 287,
   "metadata": {
    "id": "7VjqVVdBpn4K"
   },
   "outputs": [],
   "source": [
    "A = np.array([[7, 8, 5, 3], [2, 9, 4, 6], [3, 7, 1, 8], [5, 2, 6, 4]])\n",
    "B = np.array([[3, 6, 8, 2], [4, 5, 7, 1], [9, 2, 3, 6], [1, 7, 5, 8]])\n",
    "C = np.array([[5, 9, 3, 7], [1, 6, 4, 2], [8, 3, 5, 1], [2, 7, 9, 4]])\n",
    "D = np.array([[6, 3, 5, 8], [2, 7, 9, 4], [1, 8, 6, 2], [5, 4, 3, 7]])"
   ]
  },
  {
   "cell_type": "markdown",
   "metadata": {
    "id": "nhDaIRrRpn4K"
   },
   "source": [
    "Dari ketiga multidimensi array di atas, lakukanlah langkah-langkah berikut ini.\n",
    "1. Cari absolute dari pengurangan antara A dan C yang kemudian dijumlahi hasil pengurangan B dan D\n",
    "2. Buat matrix baru yang isinya adalah hasil kuadrat tiap elemen dari matrix pada langkah 1\n",
    "3. Jalankan operasi invers pada matrix pada langkah 2\n",
    "4. Terapkan operasi penjumlahan antara matrix pada langkah 3 dengan matriks C\n",
    "5. Jalankan perkalian skalar pada matrix D dengan hasil dot product pada langkah 4\n",
    "*hint*: anda dapat menggunakan fungsi `power()`\n",
    "\n",
    "Secara matematis, langkah di atas dapat dituliskan sebagai berikut.\n",
    "1. $V = |A - C + (B - D)|$\n",
    "2. $W = V^{2}$\n",
    "3. $X = W^{-1}$\n",
    "4. $Y = X + C$\n",
    "5. $result = Y*D$"
   ]
  },
  {
   "cell_type": "markdown",
   "metadata": {
    "id": "j360jYGCpn4L"
   },
   "source": [
    "note: untuk perkalian matrix gunakan operasi *"
   ]
  },
  {
   "cell_type": "code",
   "execution_count": 12,
   "metadata": {
    "id": "fHEv2wtfpn4M"
   },
   "outputs": [
    {
     "name": "stdout",
     "output_type": "stream",
     "text": [
      "Array:\n",
      "[[30.18326693 27.41434263 14.86968792 55.68791501]\n",
      " [ 2.00885347 41.83576804 35.9497012   9.02810978]\n",
      " [ 7.92297477 23.53253652 30.38346614  2.05544489]\n",
      " [10.14386897 28.05666224 26.95351926 27.88224878]]\n"
     ]
    }
   ],
   "source": [
    "import numpy as np\n",
    "\n",
    "A = np.array([[7, 8, 5, 3], [2, 9, 4, 6], [3, 7, 1, 8], [5, 2, 6, 4]])\n",
    "B = np.array([[3, 6, 8, 2], [4, 5, 7, 1], [9, 2, 3, 6], [1, 7, 5, 8]])\n",
    "C = np.array([[5, 9, 3, 7], [1, 6, 4, 2], [8, 3, 5, 1], [2, 7, 9, 4]])\n",
    "D = np.array([[6, 3, 5, 8], [2, 7, 9, 4], [1, 8, 6, 2], [5, 4, 3, 7]])\n",
    "\n",
    "# 1. |A - C + (B - D)|\n",
    "V = np.abs(A - C + (B - D))\n",
    "\n",
    "# 2. V^{2}\n",
    "W = np.power(V, 2)\n",
    "\n",
    "# 3. W^{-1}\n",
    "X = np.linalg.pinv(W)\n",
    "\n",
    "# 4. X + C\n",
    "Y = X + C\n",
    "\n",
    "# 5. Y*D (RESULT)\n",
    "result = Y * D\n",
    "\n",
    "print(\"Array:\")\n",
    "print(result)"
   ]
  },
  {
   "cell_type": "markdown",
   "metadata": {
    "id": "vXUIoVRopn4M"
   },
   "source": [
    "## Nomor 3"
   ]
  },
  {
   "cell_type": "markdown",
   "metadata": {
    "id": "IVja1zLnpn4M"
   },
   "source": [
    "Terdapat sebuah array sebagai berikut."
   ]
  },
  {
   "cell_type": "code",
   "execution_count": 291,
   "metadata": {
    "id": "Q7ghfymCpn4M"
   },
   "outputs": [],
   "source": [
    "arr_3 = np.array([ 64, 152, 120, 136, 112,  80,  48,  40, 144,  72,  16,  56,  24, 160,  32, 104,  96,   8,  88, 128])"
   ]
  },
  {
   "cell_type": "markdown",
   "metadata": {},
   "source": [
    "Untuk setiap elemen arr_3, bagi setiap angka dalam array dengan 8 dan kemudian hitung serta tampilkan rata-rata, median, nilai minimum, standar deviasi, variance, dan percentile 70!"
   ]
  },
  {
   "cell_type": "code",
   "execution_count": 5,
   "metadata": {
    "id": "VF0rPMnQpn4M"
   },
   "outputs": [
    {
     "name": "stdout",
     "output_type": "stream",
     "text": [
      "Mean: 10.5\n",
      "Median: 10.5\n",
      "Minimum: 1.0\n",
      "Standar Deviasi: 5.766281297335398\n",
      "Variance: 33.25\n",
      "Percentile ke-70: 14.299999999999999\n"
     ]
    }
   ],
   "source": [
    "import numpy as np\n",
    "\n",
    "# Definisikan array\n",
    "arr_3 = np.array([64, 152, 120, 136, 112, 80, 48, 40, 144, 72, \n",
    "                  16, 56, 24, 160, 32, 104, 96, 8, 88, 128])\n",
    "\n",
    "# Initialize elemen\n",
    "temp = arr_3 / 8\n",
    "\n",
    "# Hitung statistik\n",
    "mean_value = np.mean(temp)\n",
    "median_value = np.median(temp)\n",
    "min_value = np.min(temp)\n",
    "standar_deviasi = np.std(temp)\n",
    "variance = np.var(temp)\n",
    "percentile_70 = np.percentile(temp, 70)\n",
    "\n",
    "# Tampilkan output\n",
    "print(\"Mean:\", mean_value)\n",
    "print(\"Median:\", median_value)\n",
    "print(\"Minimum:\", min_value)\n",
    "print(\"Standar Deviasi:\", standar_deviasi)\n",
    "print(\"Variance:\", variance)\n",
    "print(\"Percentile ke-70:\", percentile_70)\n"
   ]
  },
  {
   "cell_type": "markdown",
   "metadata": {
    "id": "g9bH6-iY8l_k"
   },
   "source": [
    "# Sumber Data"
   ]
  },
  {
   "cell_type": "markdown",
   "metadata": {
    "id": "0wS9eFHw8nb3"
   },
   "source": [
    "* Zoo Data : https://archive.ics.uci.edu/dataset/111/zoo\n",
    "* Sales Data : https://www.kaggle.com/datasets/emmanueldjegou/sales-dataset-enlarged\n",
    "* School Nutirtions Program : https://www.kaggle.com/datasets/harshitsrivastava25/school-nutrition-programs"
   ]
  }
 ],
 "metadata": {
  "colab": {
   "provenance": [],
   "toc_visible": true
  },
  "kernelspec": {
   "display_name": "Python 3",
   "name": "python3"
  },
  "language_info": {
   "codemirror_mode": {
    "name": "ipython",
    "version": 3
   },
   "file_extension": ".py",
   "mimetype": "text/x-python",
   "name": "python",
   "nbconvert_exporter": "python",
   "pygments_lexer": "ipython3",
   "version": "3.11.5"
  }
 },
 "nbformat": 4,
 "nbformat_minor": 0
}
